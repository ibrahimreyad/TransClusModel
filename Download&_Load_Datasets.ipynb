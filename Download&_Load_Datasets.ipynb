{
  "nbformat": 4,
  "nbformat_minor": 0,
  "metadata": {
    "colab": {
      "provenance": []
    },
    "kernelspec": {
      "name": "python3",
      "display_name": "Python 3"
    },
    "language_info": {
      "name": "python"
    }
  },
  "cells": [
    {
      "cell_type": "code",
      "execution_count": 1,
      "metadata": {
        "colab": {
          "base_uri": "https://localhost:8080/"
        },
        "id": "jPfVFUKs7k1g",
        "outputId": "0dcddd4d-43aa-4791-f668-a8369739e021"
      },
      "outputs": [
        {
          "output_type": "stream",
          "name": "stdout",
          "text": [
            "Requirement already satisfied: nltk in /usr/local/lib/python3.10/dist-packages (3.8.1)\n",
            "Requirement already satisfied: click in /usr/local/lib/python3.10/dist-packages (from nltk) (8.1.7)\n",
            "Requirement already satisfied: joblib in /usr/local/lib/python3.10/dist-packages (from nltk) (1.4.2)\n",
            "Requirement already satisfied: regex>=2021.8.3 in /usr/local/lib/python3.10/dist-packages (from nltk) (2024.9.11)\n",
            "Requirement already satisfied: tqdm in /usr/local/lib/python3.10/dist-packages (from nltk) (4.66.5)\n"
          ]
        }
      ],
      "source": [
        "!pip install nltk\n"
      ]
    },
    {
      "cell_type": "code",
      "source": [
        "!pip install -U scikit-learn"
      ],
      "metadata": {
        "colab": {
          "base_uri": "https://localhost:8080/"
        },
        "id": "hHSDUXVE8KlH",
        "outputId": "a888229e-53bb-4ced-fb8e-ec4305ed1c2e"
      },
      "execution_count": 4,
      "outputs": [
        {
          "output_type": "stream",
          "name": "stdout",
          "text": [
            "Requirement already satisfied: scikit-learn in /usr/local/lib/python3.10/dist-packages (1.5.2)\n",
            "Requirement already satisfied: numpy>=1.19.5 in /usr/local/lib/python3.10/dist-packages (from scikit-learn) (1.26.4)\n",
            "Requirement already satisfied: scipy>=1.6.0 in /usr/local/lib/python3.10/dist-packages (from scikit-learn) (1.13.1)\n",
            "Requirement already satisfied: joblib>=1.2.0 in /usr/local/lib/python3.10/dist-packages (from scikit-learn) (1.4.2)\n",
            "Requirement already satisfied: threadpoolctl>=3.1.0 in /usr/local/lib/python3.10/dist-packages (from scikit-learn) (3.5.0)\n"
          ]
        }
      ]
    },
    {
      "cell_type": "code",
      "source": [
        "!pip install pandas"
      ],
      "metadata": {
        "colab": {
          "base_uri": "https://localhost:8080/"
        },
        "id": "Q-qP2BeH7xEN",
        "outputId": "a1e8dd28-7d05-408e-e05d-eea974cd6ac2"
      },
      "execution_count": 6,
      "outputs": [
        {
          "output_type": "stream",
          "name": "stdout",
          "text": [
            "Requirement already satisfied: pandas in /usr/local/lib/python3.10/dist-packages (2.2.2)\n",
            "Requirement already satisfied: numpy>=1.22.4 in /usr/local/lib/python3.10/dist-packages (from pandas) (1.26.4)\n",
            "Requirement already satisfied: python-dateutil>=2.8.2 in /usr/local/lib/python3.10/dist-packages (from pandas) (2.8.2)\n",
            "Requirement already satisfied: pytz>=2020.1 in /usr/local/lib/python3.10/dist-packages (from pandas) (2024.2)\n",
            "Requirement already satisfied: tzdata>=2022.7 in /usr/local/lib/python3.10/dist-packages (from pandas) (2024.2)\n",
            "Requirement already satisfied: six>=1.5 in /usr/local/lib/python3.10/dist-packages (from python-dateutil>=2.8.2->pandas) (1.16.0)\n"
          ]
        }
      ]
    },
    {
      "cell_type": "code",
      "source": [
        "import pandas as pd\n",
        "from sklearn.datasets import fetch_20newsgroups\n",
        "import nltk\n",
        "import os\n",
        "import zipfile\n",
        "import requests\n",
        "from io import BytesIO\n",
        "\n",
        "# Ensure required NLTK datasets are downloaded\n",
        "nltk.download('reuters')\n",
        "nltk.download('punkt')"
      ],
      "metadata": {
        "colab": {
          "base_uri": "https://localhost:8080/"
        },
        "id": "CjkfyF5B9Aux",
        "outputId": "0ac59af2-529b-4532-d7d1-99c3d5786d2f"
      },
      "execution_count": 8,
      "outputs": [
        {
          "output_type": "stream",
          "name": "stderr",
          "text": [
            "[nltk_data] Downloading package reuters to /root/nltk_data...\n",
            "[nltk_data]   Package reuters is already up-to-date!\n",
            "[nltk_data] Downloading package punkt to /root/nltk_data...\n",
            "[nltk_data]   Package punkt is already up-to-date!\n"
          ]
        },
        {
          "output_type": "execute_result",
          "data": {
            "text/plain": [
              "True"
            ]
          },
          "metadata": {},
          "execution_count": 8
        }
      ]
    },
    {
      "cell_type": "code",
      "source": [
        "def load_reuters():\n",
        "    \"\"\"Load Reuters dataset using NLTK.\"\"\"\n",
        "    from nltk.corpus import reuters\n",
        "    texts = [\" \".join(reuters.words(fileid)) for fileid in reuters.fileids()]\n",
        "    return pd.DataFrame({\"text\": texts, \"category\": [reuters.categories(fileid)[0] for fileid in reuters.fileids()]})"
      ],
      "metadata": {
        "id": "IDLMOVum9YoM"
      },
      "execution_count": 9,
      "outputs": []
    },
    {
      "cell_type": "code",
      "source": [
        "def load_20newsgroups():\n",
        "    \"\"\"Load 20 Newsgroups dataset using scikit-learn.\"\"\"\n",
        "    data = fetch_20newsgroups(subset='all')\n",
        "    return pd.DataFrame({\"text\": data.data, \"target\": data.target})"
      ],
      "metadata": {
        "id": "i99M2Cgm9gbu"
      },
      "execution_count": 10,
      "outputs": []
    },
    {
      "cell_type": "code",
      "source": [
        "def load_bbc_news():\n",
        "    \"\"\"Download and load BBC News dataset.\"\"\"\n",
        "    url = \"http://mlg.ucd.ie/files/datasets/bbc-fulltext.zip\"\n",
        "    response = requests.get(url)\n",
        "    with zipfile.ZipFile(BytesIO(response.content)) as z:\n",
        "        texts = []\n",
        "        categories = []\n",
        "        for category in z.namelist():\n",
        "            if category.endswith('/'):\n",
        "                continue\n",
        "            with z.open(category) as f:\n",
        "                texts.append(f.read().decode('utf-8'))\n",
        "                categories.append(category.split('/')[0])  # Folder name as category\n",
        "    return pd.DataFrame({\"text\": texts, \"category\": categories})"
      ],
      "metadata": {
        "id": "3NbeCD1w9jMX"
      },
      "execution_count": 11,
      "outputs": []
    },
    {
      "cell_type": "code",
      "source": [
        "def load_snippets_manning():\n",
        "    \"\"\"Load Snippets dataset by Manning.\"\"\"\n",
        "    # URL for Snippets dataset: replace with a working link if needed\n",
        "    url = \"https://www.kaggle.com/datasets/xliang265/snippets-dataset/download\"\n",
        "    # Manually download and place the file in your working directory if needed\n",
        "    file_path = \"./snippets.txt\"\n",
        "    if not os.path.exists(file_path):\n",
        "        raise FileNotFoundError(\"Please download the Snippets dataset manually and place it as 'snippets.txt'.\")\n",
        "\n",
        "    texts, categories = [], []\n",
        "    with open(file_path, \"r\") as f:\n",
        "        for line in f:\n",
        "            category, text = line.split(\"\\t\", 1)\n",
        "            categories.append(category.strip())\n",
        "            texts.append(text.strip())\n",
        "    return pd.DataFrame({\"text\": texts, \"category\": categories})"
      ],
      "metadata": {
        "id": "gr1CS8gR9mZZ"
      },
      "execution_count": 13,
      "outputs": []
    },
    {
      "cell_type": "code",
      "source": [
        "# Load each dataset\n",
        "reuters_df = load_reuters()\n",
        "news_20ng_df = load_20newsgroups()\n",
        "bbc_news_df = load_bbc_news()\n",
        "\n",
        "\n",
        "# Print sample outputs to verify\n",
        "print(\"Reuters dataset sample:\", reuters_df.head())\n",
        "print(\"20 Newsgroups dataset sample:\", news_20ng_df.head())\n",
        "print(\"BBC News dataset sample:\", bbc_news_df.head())\n",
        "\n"
      ],
      "metadata": {
        "colab": {
          "base_uri": "https://localhost:8080/"
        },
        "id": "OluUog_08CfA",
        "outputId": "02757243-b542-48cd-b80f-f648cd7fac3e"
      },
      "execution_count": 15,
      "outputs": [
        {
          "output_type": "stream",
          "name": "stdout",
          "text": [
            "Reuters dataset sample:                                                 text  category\n",
            "0  ASIAN EXPORTERS FEAR DAMAGE FROM U . S .- JAPA...     trade\n",
            "1  CHINA DAILY SAYS VERMIN EAT 7 - 12 PCT GRAIN S...     grain\n",
            "2  JAPAN TO REVISE LONG - TERM ENERGY DEMAND DOWN...     crude\n",
            "3  THAI TRADE DEFICIT WIDENS IN FIRST QUARTER Tha...      corn\n",
            "4  INDONESIA SEES CPO PRICE RISING SHARPLY Indone...  palm-oil\n",
            "20 Newsgroups dataset sample:                                                 text  target\n",
            "0  From: Mamatha Devineni Ratnam <mr47+@andrew.cm...      10\n",
            "1  From: mblawson@midway.ecn.uoknor.edu (Matthew ...       3\n",
            "2  From: hilmi-er@dsv.su.se (Hilmi Eren)\\nSubject...      17\n",
            "3  From: guyd@austin.ibm.com (Guy Dawson)\\nSubjec...       3\n",
            "4  From: Alexander Samuel McDiarmid <am2o+@andrew...       4\n",
            "BBC News dataset sample:                                                 text category\n",
            "0  Musicians to tackle US red tape\\n\\nMusicians' ...      bbc\n",
            "1  U2's desire to be number one\\n\\nU2, who have w...      bbc\n",
            "2  Rocker Doherty in on-stage fight\\n\\nRock singe...      bbc\n",
            "3  Snicket tops US box office chart\\n\\nThe film a...      bbc\n",
            "4  Ocean's Twelve raids box office\\n\\nOcean's Twe...      bbc\n"
          ]
        }
      ]
    },
    {
      "cell_type": "code",
      "source": [],
      "metadata": {
        "id": "0wg3qPpM8vOp"
      },
      "execution_count": null,
      "outputs": []
    }
  ]
}