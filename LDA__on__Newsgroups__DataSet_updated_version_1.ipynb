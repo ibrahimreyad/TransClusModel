{
  "nbformat": 4,
  "nbformat_minor": 0,
  "metadata": {
    "colab": {
      "provenance": []
    },
    "kernelspec": {
      "name": "python3",
      "display_name": "Python 3"
    }
  },
  "cells": [
    {
      "cell_type": "markdown",
      "metadata": {
        "id": "KAWKNjyx1yGV"
      },
      "source": [
        "#Importing Libraries"
      ]
    },
    {
      "cell_type": "code",
      "metadata": {
        "id": "CsIs2K7L13a-",
        "colab": {
          "base_uri": "https://localhost:8080/"
        },
        "outputId": "f02bdc96-ee86-44b8-9051-392a58993240"
      },
      "source": [
        "import nltk; nltk.download('stopwords')"
      ],
      "execution_count": null,
      "outputs": [
        {
          "output_type": "stream",
          "text": [
            "[nltk_data] Downloading package stopwords to /root/nltk_data...\n",
            "[nltk_data]   Unzipping corpora/stopwords.zip.\n"
          ],
          "name": "stdout"
        },
        {
          "output_type": "execute_result",
          "data": {
            "text/plain": [
              "True"
            ]
          },
          "metadata": {
            "tags": []
          },
          "execution_count": 1
        }
      ]
    },
    {
      "cell_type": "code",
      "metadata": {
        "id": "2MIj0SVb14mE"
      },
      "source": [
        "import re\n",
        "import numpy as np\n",
        "import pandas as pd\n",
        "from pprint import pprint"
      ],
      "execution_count": null,
      "outputs": []
    },
    {
      "cell_type": "code",
      "metadata": {
        "id": "dy7dQ8bY2Sun"
      },
      "source": [
        "# Gensim\n",
        "import gensim\n",
        "import gensim.corpora as corpora\n",
        "from gensim.utils import simple_preprocess\n",
        "from gensim.models import CoherenceModel"
      ],
      "execution_count": null,
      "outputs": []
    },
    {
      "cell_type": "code",
      "metadata": {
        "id": "C2fjflDu2XZC"
      },
      "source": [
        "# spacy for lemmatization\n",
        "import spacy\n"
      ],
      "execution_count": null,
      "outputs": []
    },
    {
      "cell_type": "code",
      "metadata": {
        "id": "-K3wzuZV7NSd",
        "colab": {
          "base_uri": "https://localhost:8080/",
          "height": 874
        },
        "outputId": "efcb2a2c-417f-49cc-f054-4a5bd81459aa"
      },
      "source": [
        "#for installing pyLDAvis before import it\n",
        "!pip install pyLDAvis"
      ],
      "execution_count": null,
      "outputs": [
        {
          "output_type": "stream",
          "text": [
            "Collecting pyLDAvis\n",
            "\u001b[?25l  Downloading https://files.pythonhosted.org/packages/03/a5/15a0da6b0150b8b68610cc78af80364a80a9a4c8b6dd5ee549b8989d4b60/pyLDAvis-3.3.1.tar.gz (1.7MB)\n",
            "\u001b[K     |████████████████████████████████| 1.7MB 5.5MB/s \n",
            "\u001b[?25h  Installing build dependencies ... \u001b[?25l\u001b[?25hdone\n",
            "  Getting requirements to build wheel ... \u001b[?25l\u001b[?25hdone\n",
            "  Installing backend dependencies ... \u001b[?25l\u001b[?25hdone\n",
            "    Preparing wheel metadata ... \u001b[?25l\u001b[?25hdone\n",
            "Requirement already satisfied: gensim in /usr/local/lib/python3.7/dist-packages (from pyLDAvis) (3.6.0)\n",
            "Requirement already satisfied: numexpr in /usr/local/lib/python3.7/dist-packages (from pyLDAvis) (2.7.3)\n",
            "Requirement already satisfied: future in /usr/local/lib/python3.7/dist-packages (from pyLDAvis) (0.16.0)\n",
            "Collecting numpy>=1.20.0\n",
            "\u001b[?25l  Downloading https://files.pythonhosted.org/packages/73/ef/8967d406f3f85018ceb5efab50431e901683188f1741ceb053efcab26c87/numpy-1.20.2-cp37-cp37m-manylinux2010_x86_64.whl (15.3MB)\n",
            "\u001b[K     |████████████████████████████████| 15.3MB 280kB/s \n",
            "\u001b[?25hRequirement already satisfied: scipy in /usr/local/lib/python3.7/dist-packages (from pyLDAvis) (1.4.1)\n",
            "Collecting funcy\n",
            "  Downloading https://files.pythonhosted.org/packages/66/89/479de0afbbfb98d1c4b887936808764627300208bb771fcd823403645a36/funcy-1.15-py2.py3-none-any.whl\n",
            "Requirement already satisfied: sklearn in /usr/local/lib/python3.7/dist-packages (from pyLDAvis) (0.0)\n",
            "Requirement already satisfied: joblib in /usr/local/lib/python3.7/dist-packages (from pyLDAvis) (1.0.1)\n",
            "Requirement already satisfied: scikit-learn in /usr/local/lib/python3.7/dist-packages (from pyLDAvis) (0.22.2.post1)\n",
            "Requirement already satisfied: jinja2 in /usr/local/lib/python3.7/dist-packages (from pyLDAvis) (2.11.3)\n",
            "Requirement already satisfied: setuptools in /usr/local/lib/python3.7/dist-packages (from pyLDAvis) (54.2.0)\n",
            "Collecting pandas>=1.2.0\n",
            "\u001b[?25l  Downloading https://files.pythonhosted.org/packages/f3/d4/3fe3b5bf9886912b64ef040040aec356fa48825e5a829a84c2667afdf952/pandas-1.2.3-cp37-cp37m-manylinux1_x86_64.whl (9.9MB)\n",
            "\u001b[K     |████████████████████████████████| 9.9MB 51.3MB/s \n",
            "\u001b[?25hRequirement already satisfied: smart-open>=1.2.1 in /usr/local/lib/python3.7/dist-packages (from gensim->pyLDAvis) (4.2.0)\n",
            "Requirement already satisfied: six>=1.5.0 in /usr/local/lib/python3.7/dist-packages (from gensim->pyLDAvis) (1.15.0)\n",
            "Requirement already satisfied: MarkupSafe>=0.23 in /usr/local/lib/python3.7/dist-packages (from jinja2->pyLDAvis) (1.1.1)\n",
            "Requirement already satisfied: python-dateutil>=2.7.3 in /usr/local/lib/python3.7/dist-packages (from pandas>=1.2.0->pyLDAvis) (2.8.1)\n",
            "Requirement already satisfied: pytz>=2017.3 in /usr/local/lib/python3.7/dist-packages (from pandas>=1.2.0->pyLDAvis) (2018.9)\n",
            "Building wheels for collected packages: pyLDAvis\n",
            "  Building wheel for pyLDAvis (PEP 517) ... \u001b[?25l\u001b[?25hdone\n",
            "  Created wheel for pyLDAvis: filename=pyLDAvis-3.3.1-cp37-none-any.whl size=136870 sha256=0ea70d3ab49e91aac8d9369915f9df562d77dea80eabd979ea4d2d7fbe6f0fdf\n",
            "  Stored in directory: /root/.cache/pip/wheels/a0/9c/fc/c6e00689d35c82cf96a8adc70edfe7ba7904374fdac3240ac2\n",
            "Successfully built pyLDAvis\n",
            "\u001b[31mERROR: tensorflow 2.4.1 has requirement numpy~=1.19.2, but you'll have numpy 1.20.2 which is incompatible.\u001b[0m\n",
            "\u001b[31mERROR: google-colab 1.0.0 has requirement pandas~=1.1.0; python_version >= \"3.0\", but you'll have pandas 1.2.3 which is incompatible.\u001b[0m\n",
            "\u001b[31mERROR: datascience 0.10.6 has requirement folium==0.2.1, but you'll have folium 0.8.3 which is incompatible.\u001b[0m\n",
            "\u001b[31mERROR: albumentations 0.1.12 has requirement imgaug<0.2.7,>=0.2.5, but you'll have imgaug 0.2.9 which is incompatible.\u001b[0m\n",
            "Installing collected packages: numpy, funcy, pandas, pyLDAvis\n",
            "  Found existing installation: numpy 1.19.5\n",
            "    Uninstalling numpy-1.19.5:\n",
            "      Successfully uninstalled numpy-1.19.5\n",
            "  Found existing installation: pandas 1.1.5\n",
            "    Uninstalling pandas-1.1.5:\n",
            "      Successfully uninstalled pandas-1.1.5\n",
            "Successfully installed funcy-1.15 numpy-1.20.2 pandas-1.2.3 pyLDAvis-3.3.1\n"
          ],
          "name": "stdout"
        },
        {
          "output_type": "display_data",
          "data": {
            "application/vnd.colab-display-data+json": {
              "pip_warning": {
                "packages": [
                  "numpy",
                  "pandas"
                ]
              }
            }
          },
          "metadata": {
            "tags": []
          }
        }
      ]
    },
    {
      "cell_type": "code",
      "metadata": {
        "id": "ePEqTdeN4NA7",
        "colab": {
          "base_uri": "https://localhost:8080/",
          "height": 417
        },
        "outputId": "bb03ebdb-7474-4074-c127-557720429d13"
      },
      "source": [
        "# Plotting tools\n",
        "import pyLDAvis\n",
        "import pyLDAvis.gensim  # don't skip this\n",
        "import matplotlib.pyplot as plt\n",
        "%matplotlib inline"
      ],
      "execution_count": null,
      "outputs": [
        {
          "output_type": "stream",
          "text": [
            "/usr/local/lib/python3.7/dist-packages/past/types/oldstr.py:5: DeprecationWarning: Using or importing the ABCs from 'collections' instead of from 'collections.abc' is deprecated since Python 3.3,and in 3.9 it will stop working\n",
            "  from collections import Iterable\n"
          ],
          "name": "stderr"
        },
        {
          "output_type": "error",
          "ename": "ModuleNotFoundError",
          "evalue": "ignored",
          "traceback": [
            "\u001b[0;31m---------------------------------------------------------------------------\u001b[0m",
            "\u001b[0;31mModuleNotFoundError\u001b[0m                       Traceback (most recent call last)",
            "\u001b[0;32m<ipython-input-6-5824b888ddce>\u001b[0m in \u001b[0;36m<module>\u001b[0;34m()\u001b[0m\n\u001b[1;32m      1\u001b[0m \u001b[0;31m# Plotting tools\u001b[0m\u001b[0;34m\u001b[0m\u001b[0;34m\u001b[0m\u001b[0;34m\u001b[0m\u001b[0m\n\u001b[1;32m      2\u001b[0m \u001b[0;32mimport\u001b[0m \u001b[0mpyLDAvis\u001b[0m\u001b[0;34m\u001b[0m\u001b[0;34m\u001b[0m\u001b[0m\n\u001b[0;32m----> 3\u001b[0;31m \u001b[0;32mimport\u001b[0m \u001b[0mpyLDAvis\u001b[0m\u001b[0;34m.\u001b[0m\u001b[0mgensim\u001b[0m  \u001b[0;31m# don't skip this\u001b[0m\u001b[0;34m\u001b[0m\u001b[0;34m\u001b[0m\u001b[0m\n\u001b[0m\u001b[1;32m      4\u001b[0m \u001b[0;32mimport\u001b[0m \u001b[0mmatplotlib\u001b[0m\u001b[0;34m.\u001b[0m\u001b[0mpyplot\u001b[0m \u001b[0;32mas\u001b[0m \u001b[0mplt\u001b[0m\u001b[0;34m\u001b[0m\u001b[0;34m\u001b[0m\u001b[0m\n\u001b[1;32m      5\u001b[0m \u001b[0mget_ipython\u001b[0m\u001b[0;34m(\u001b[0m\u001b[0;34m)\u001b[0m\u001b[0;34m.\u001b[0m\u001b[0mmagic\u001b[0m\u001b[0;34m(\u001b[0m\u001b[0;34m'matplotlib inline'\u001b[0m\u001b[0;34m)\u001b[0m\u001b[0;34m\u001b[0m\u001b[0;34m\u001b[0m\u001b[0m\n",
            "\u001b[0;31mModuleNotFoundError\u001b[0m: No module named 'pyLDAvis.gensim'",
            "",
            "\u001b[0;31m---------------------------------------------------------------------------\u001b[0;32m\nNOTE: If your import is failing due to a missing package, you can\nmanually install dependencies using either !pip or !apt.\n\nTo view examples of installing some common dependencies, click the\n\"Open Examples\" button below.\n\u001b[0;31m---------------------------------------------------------------------------\u001b[0m\n"
          ]
        }
      ]
    },
    {
      "cell_type": "code",
      "metadata": {
        "id": "k57m9mhb4Nvk"
      },
      "source": [
        "# Enable logging for gensim - optional\n",
        "import logging\n",
        "logging.basicConfig(format='%(asctime)s : %(levelname)s : %(message)s', level=logging.ERROR)\n"
      ],
      "execution_count": null,
      "outputs": []
    },
    {
      "cell_type": "code",
      "metadata": {
        "id": "MnZGz6t24Tth"
      },
      "source": [
        "import warnings\n",
        "warnings.filterwarnings(\"ignore\",category=DeprecationWarning)"
      ],
      "execution_count": null,
      "outputs": []
    },
    {
      "cell_type": "markdown",
      "metadata": {
        "id": "FvdtiugA4XDT"
      },
      "source": [
        "#Prepare Stopwords"
      ]
    },
    {
      "cell_type": "code",
      "metadata": {
        "id": "4REupqvf4dM8"
      },
      "source": [
        "# NLTK Stop words\n",
        "from nltk.corpus import stopwords\n",
        "stop_words = stopwords.words('english')\n",
        "stop_words.extend(['from', 'subject', 're', 'edu', 'use'])"
      ],
      "execution_count": null,
      "outputs": []
    },
    {
      "cell_type": "markdown",
      "metadata": {
        "id": "YyHiPJtr4iC0"
      },
      "source": [
        "#Import Newsgroups Data"
      ]
    },
    {
      "cell_type": "code",
      "metadata": {
        "id": "qILk0QDd4jSd",
        "colab": {
          "base_uri": "https://localhost:8080/",
          "height": 296
        },
        "outputId": "3ddeedbc-772c-4683-eef8-c45e22cfda88"
      },
      "source": [
        "# Import Dataset\n",
        "df = pd.read_json('https://raw.githubusercontent.com/selva86/datasets/master/newsgroups.json')\n",
        "print(df.target_names.unique())\n",
        "df.head()"
      ],
      "execution_count": null,
      "outputs": [
        {
          "output_type": "stream",
          "text": [
            "['rec.autos' 'comp.sys.mac.hardware' 'comp.graphics' 'sci.space'\n",
            " 'talk.politics.guns' 'sci.med' 'comp.sys.ibm.pc.hardware'\n",
            " 'comp.os.ms-windows.misc' 'rec.motorcycles' 'talk.religion.misc'\n",
            " 'misc.forsale' 'alt.atheism' 'sci.electronics' 'comp.windows.x'\n",
            " 'rec.sport.hockey' 'rec.sport.baseball' 'soc.religion.christian'\n",
            " 'talk.politics.mideast' 'talk.politics.misc' 'sci.crypt']\n"
          ],
          "name": "stdout"
        },
        {
          "output_type": "execute_result",
          "data": {
            "text/html": [
              "<div>\n",
              "<style scoped>\n",
              "    .dataframe tbody tr th:only-of-type {\n",
              "        vertical-align: middle;\n",
              "    }\n",
              "\n",
              "    .dataframe tbody tr th {\n",
              "        vertical-align: top;\n",
              "    }\n",
              "\n",
              "    .dataframe thead th {\n",
              "        text-align: right;\n",
              "    }\n",
              "</style>\n",
              "<table border=\"1\" class=\"dataframe\">\n",
              "  <thead>\n",
              "    <tr style=\"text-align: right;\">\n",
              "      <th></th>\n",
              "      <th>content</th>\n",
              "      <th>target</th>\n",
              "      <th>target_names</th>\n",
              "    </tr>\n",
              "  </thead>\n",
              "  <tbody>\n",
              "    <tr>\n",
              "      <th>0</th>\n",
              "      <td>From: lerxst@wam.umd.edu (where's my thing)\\nS...</td>\n",
              "      <td>7</td>\n",
              "      <td>rec.autos</td>\n",
              "    </tr>\n",
              "    <tr>\n",
              "      <th>1</th>\n",
              "      <td>From: guykuo@carson.u.washington.edu (Guy Kuo)...</td>\n",
              "      <td>4</td>\n",
              "      <td>comp.sys.mac.hardware</td>\n",
              "    </tr>\n",
              "    <tr>\n",
              "      <th>2</th>\n",
              "      <td>From: twillis@ec.ecn.purdue.edu (Thomas E Will...</td>\n",
              "      <td>4</td>\n",
              "      <td>comp.sys.mac.hardware</td>\n",
              "    </tr>\n",
              "    <tr>\n",
              "      <th>3</th>\n",
              "      <td>From: jgreen@amber (Joe Green)\\nSubject: Re: W...</td>\n",
              "      <td>1</td>\n",
              "      <td>comp.graphics</td>\n",
              "    </tr>\n",
              "    <tr>\n",
              "      <th>4</th>\n",
              "      <td>From: jcm@head-cfa.harvard.edu (Jonathan McDow...</td>\n",
              "      <td>14</td>\n",
              "      <td>sci.space</td>\n",
              "    </tr>\n",
              "  </tbody>\n",
              "</table>\n",
              "</div>"
            ],
            "text/plain": [
              "                                             content  ...           target_names\n",
              "0  From: lerxst@wam.umd.edu (where's my thing)\\nS...  ...              rec.autos\n",
              "1  From: guykuo@carson.u.washington.edu (Guy Kuo)...  ...  comp.sys.mac.hardware\n",
              "2  From: twillis@ec.ecn.purdue.edu (Thomas E Will...  ...  comp.sys.mac.hardware\n",
              "3  From: jgreen@amber (Joe Green)\\nSubject: Re: W...  ...          comp.graphics\n",
              "4  From: jcm@head-cfa.harvard.edu (Jonathan McDow...  ...              sci.space\n",
              "\n",
              "[5 rows x 3 columns]"
            ]
          },
          "metadata": {
            "tags": []
          },
          "execution_count": 31
        }
      ]
    },
    {
      "cell_type": "markdown",
      "metadata": {
        "id": "n8tArkBI4oew"
      },
      "source": [
        "#Remove emails and newline characters"
      ]
    },
    {
      "cell_type": "code",
      "metadata": {
        "id": "M0yYney54pv_",
        "colab": {
          "base_uri": "https://localhost:8080/",
          "height": 185
        },
        "outputId": "dd5b4fc8-f237-4d9c-cb97-d48c4013c463"
      },
      "source": [
        "# Convert to list\n",
        "data = df.content.values.tolist()\n",
        "\n",
        "# Remove Emails\n",
        "data = [re.sub('\\S*@\\S*\\s?', '', sent) for sent in data]\n",
        "\n",
        "# Remove new line characters\n",
        "data = [re.sub('\\s+', ' ', sent) for sent in data]\n",
        "\n",
        "# Remove distracting single quotes\n",
        "data = [re.sub(\"\\'\", \"\", sent) for sent in data]\n",
        "\n",
        "pprint(data[:1])"
      ],
      "execution_count": null,
      "outputs": [
        {
          "output_type": "stream",
          "text": [
            "['From: (wheres my thing) Subject: WHAT car is this!? Nntp-Posting-Host: '\n",
            " 'rac3.wam.umd.edu Organization: University of Maryland, College Park Lines: '\n",
            " '15 I was wondering if anyone out there could enlighten me on this car I saw '\n",
            " 'the other day. It was a 2-door sports car, looked to be from the late 60s/ '\n",
            " 'early 70s. It was called a Bricklin. The doors were really small. In '\n",
            " 'addition, the front bumper was separate from the rest of the body. This is '\n",
            " 'all I know. If anyone can tellme a model name, engine specs, years of '\n",
            " 'production, where this car is made, history, or whatever info you have on '\n",
            " 'this funky looking car, please e-mail. Thanks, - IL ---- brought to you by '\n",
            " 'your neighborhood Lerxst ---- ']\n"
          ],
          "name": "stdout"
        }
      ]
    },
    {
      "cell_type": "markdown",
      "metadata": {
        "id": "-VjFHLpM4sTC"
      },
      "source": [
        "# Tokenize words and Clean-up text"
      ]
    },
    {
      "cell_type": "code",
      "metadata": {
        "id": "YXYkLh4o4vhE",
        "colab": {
          "base_uri": "https://localhost:8080/",
          "height": 54
        },
        "outputId": "0ca9096b-b929-415c-ead9-6811307324e6"
      },
      "source": [
        "def sent_to_words(sentences):\n",
        "    for sentence in sentences:\n",
        "        yield(gensim.utils.simple_preprocess(str(sentence), deacc=True))  # deacc=True removes punctuations\n",
        "\n",
        "data_words = list(sent_to_words(data))\n",
        "\n",
        "print(data_words[:1])"
      ],
      "execution_count": null,
      "outputs": [
        {
          "output_type": "stream",
          "text": [
            "[['from', 'wheres', 'my', 'thing', 'subject', 'what', 'car', 'is', 'this', 'nntp', 'posting', 'host', 'rac', 'wam', 'umd', 'edu', 'organization', 'university', 'of', 'maryland', 'college', 'park', 'lines', 'was', 'wondering', 'if', 'anyone', 'out', 'there', 'could', 'enlighten', 'me', 'on', 'this', 'car', 'saw', 'the', 'other', 'day', 'it', 'was', 'door', 'sports', 'car', 'looked', 'to', 'be', 'from', 'the', 'late', 'early', 'it', 'was', 'called', 'bricklin', 'the', 'doors', 'were', 'really', 'small', 'in', 'addition', 'the', 'front', 'bumper', 'was', 'separate', 'from', 'the', 'rest', 'of', 'the', 'body', 'this', 'is', 'all', 'know', 'if', 'anyone', 'can', 'tellme', 'model', 'name', 'engine', 'specs', 'years', 'of', 'production', 'where', 'this', 'car', 'is', 'made', 'history', 'or', 'whatever', 'info', 'you', 'have', 'on', 'this', 'funky', 'looking', 'car', 'please', 'mail', 'thanks', 'il', 'brought', 'to', 'you', 'by', 'your', 'neighborhood', 'lerxst']]\n"
          ],
          "name": "stdout"
        }
      ]
    },
    {
      "cell_type": "markdown",
      "metadata": {
        "id": "qRNllN7e4247"
      },
      "source": [
        "#Creating Bigram and Trigram Models"
      ]
    },
    {
      "cell_type": "code",
      "metadata": {
        "id": "LQzOtAMX438o",
        "colab": {
          "base_uri": "https://localhost:8080/",
          "height": 87
        },
        "outputId": "1fd89e93-81d3-4a16-c0a4-98b251d2258c"
      },
      "source": [
        "# Build the bigram and trigram models\n",
        "bigram = gensim.models.Phrases(data_words, min_count=5, threshold=100) # higher threshold fewer phrases.\n",
        "trigram = gensim.models.Phrases(bigram[data_words], threshold=100)\n",
        "\n",
        "# Faster way to get a sentence clubbed as a trigram/bigram\n",
        "bigram_mod = gensim.models.phrases.Phraser(bigram)\n",
        "trigram_mod = gensim.models.phrases.Phraser(trigram)\n",
        "\n",
        "# See trigram example\n",
        "print(trigram_mod[bigram_mod[data_words[0]]])"
      ],
      "execution_count": null,
      "outputs": [
        {
          "output_type": "stream",
          "text": [
            "/usr/local/lib/python3.6/dist-packages/gensim/models/phrases.py:598: UserWarning: For a faster implementation, use the gensim.models.phrases.Phraser class\n",
            "  warnings.warn(\"For a faster implementation, use the gensim.models.phrases.Phraser class\")\n"
          ],
          "name": "stderr"
        },
        {
          "output_type": "stream",
          "text": [
            "['from', 'wheres', 'my', 'thing', 'subject', 'what', 'car', 'is', 'this', 'nntp_posting_host', 'rac_wam_umd_edu', 'organization', 'university', 'of', 'maryland_college_park', 'lines', 'was', 'wondering', 'if', 'anyone', 'out', 'there', 'could', 'enlighten', 'me', 'on', 'this', 'car', 'saw', 'the', 'other', 'day', 'it', 'was', 'door', 'sports', 'car', 'looked', 'to', 'be', 'from', 'the', 'late', 'early', 'it', 'was', 'called', 'bricklin', 'the', 'doors', 'were', 'really', 'small', 'in', 'addition', 'the', 'front_bumper', 'was', 'separate', 'from', 'the', 'rest', 'of', 'the', 'body', 'this', 'is', 'all', 'know', 'if', 'anyone', 'can', 'tellme', 'model', 'name', 'engine', 'specs', 'years', 'of', 'production', 'where', 'this', 'car', 'is', 'made', 'history', 'or', 'whatever', 'info', 'you', 'have', 'on', 'this', 'funky', 'looking', 'car', 'please', 'mail', 'thanks', 'il', 'brought', 'to', 'you', 'by', 'your', 'neighborhood', 'lerxst']\n"
          ],
          "name": "stdout"
        }
      ]
    },
    {
      "cell_type": "markdown",
      "metadata": {
        "id": "McAs82175FNj"
      },
      "source": [
        "#Remove Stopwords, Make Bigrams and Lemmatize"
      ]
    },
    {
      "cell_type": "code",
      "metadata": {
        "id": "E7mnhRsU5HK2"
      },
      "source": [
        "# Define functions for stopwords, bigrams, trigrams and lemmatization\n",
        "def remove_stopwords(texts):\n",
        "    return [[word for word in simple_preprocess(str(doc)) if word not in stop_words] for doc in texts]\n",
        "\n",
        "def make_bigrams(texts):\n",
        "    return [bigram_mod[doc] for doc in texts]\n",
        "\n",
        "def make_trigrams(texts):\n",
        "    return [trigram_mod[bigram_mod[doc]] for doc in texts]\n",
        "\n",
        "def lemmatization(texts, allowed_postags=['NOUN', 'ADJ', 'VERB', 'ADV']):\n",
        "    \"\"\"https://spacy.io/api/annotation\"\"\"\n",
        "    texts_out = []\n",
        "    for sent in texts:\n",
        "        doc = nlp(\" \".join(sent))\n",
        "        texts_out.append([token.lemma_ for token in doc if token.pos_ in allowed_postags])\n",
        "    return texts_out"
      ],
      "execution_count": null,
      "outputs": []
    },
    {
      "cell_type": "code",
      "metadata": {
        "id": "1rHDw_fH5Nfu",
        "colab": {
          "base_uri": "https://localhost:8080/",
          "height": 54
        },
        "outputId": "87965430-fa25-463e-f131-65e2924e341b"
      },
      "source": [
        "# Remove Stop Words\n",
        "data_words_nostops = remove_stopwords(data_words)\n",
        "\n",
        "# Form Bigrams\n",
        "data_words_bigrams = make_bigrams(data_words_nostops)\n",
        "\n",
        "# Initialize spacy 'en' model, keeping only tagger component (for efficiency)\n",
        "# python3 -m spacy download en\n",
        "nlp = spacy.load('en', disable=['parser', 'ner'])\n",
        "\n",
        "# Do lemmatization keeping only noun, adj, vb, adv\n",
        "data_lemmatized = lemmatization(data_words_bigrams, allowed_postags=['NOUN', 'ADJ', 'VERB', 'ADV'])\n",
        "\n",
        "print(data_lemmatized[:1])"
      ],
      "execution_count": null,
      "outputs": [
        {
          "output_type": "stream",
          "text": [
            "[['where', 'thing', 'car', 'nntp_poste', 'host', 'park', 'line', 'wonder', 'could', 'enlighten', 'car', 'see', 'day', 'door', 'sport', 'car', 'look', 'late', 'early', 'call', 'bricklin', 'door', 'really', 'small', 'addition', 'separate', 'rest', 'body', 'know', 'tellme', 'model', 'name', 'engine', 'year', 'production', 'car', 'make', 'history', 'info', 'funky', 'look', 'car', 'mail', 'thank', 'bring', 'neighborhood', 'lerxst']]\n"
          ],
          "name": "stdout"
        }
      ]
    },
    {
      "cell_type": "markdown",
      "metadata": {
        "id": "HlO-j8NA5T3w"
      },
      "source": [
        "#Create the Dictionary and Corpus needed for Topic Modeling"
      ]
    },
    {
      "cell_type": "code",
      "metadata": {
        "id": "92blGohT52CY",
        "colab": {
          "base_uri": "https://localhost:8080/",
          "height": 54
        },
        "outputId": "e0df342a-7e28-4409-ebc0-7fb267a4c2cf"
      },
      "source": [
        "# Create Dictionary\n",
        "id2word = corpora.Dictionary(data_lemmatized)\n",
        "\n",
        "# Create Corpus\n",
        "texts = data_lemmatized\n",
        "\n",
        "# Term Document Frequency\n",
        "corpus = [id2word.doc2bow(text) for text in texts]\n",
        "\n",
        "# View\n",
        "print(corpus[:1])"
      ],
      "execution_count": null,
      "outputs": [
        {
          "output_type": "stream",
          "text": [
            "[[(0, 1), (1, 1), (2, 1), (3, 1), (4, 1), (5, 5), (6, 1), (7, 1), (8, 2), (9, 1), (10, 1), (11, 1), (12, 1), (13, 1), (14, 1), (15, 1), (16, 1), (17, 1), (18, 1), (19, 1), (20, 2), (21, 1), (22, 1), (23, 1), (24, 1), (25, 1), (26, 1), (27, 1), (28, 1), (29, 1), (30, 1), (31, 1), (32, 1), (33, 1), (34, 1), (35, 1), (36, 1), (37, 1), (38, 1), (39, 1), (40, 1)]]\n"
          ],
          "name": "stdout"
        }
      ]
    },
    {
      "cell_type": "markdown",
      "metadata": {
        "id": "1feF8_jC5Yb9"
      },
      "source": [
        "#Building the Topic Model"
      ]
    },
    {
      "cell_type": "code",
      "metadata": {
        "id": "O_iJB4zv6AWo"
      },
      "source": [
        "# Build LDA model\n",
        "lda_model = gensim.models.ldamodel.LdaModel(corpus=corpus,\n",
        "                                           id2word=id2word,\n",
        "                                           num_topics=20,\n",
        "                                           random_state=100,\n",
        "                                           update_every=1,\n",
        "                                           chunksize=100,\n",
        "                                           passes=10,\n",
        "                                           alpha='auto',\n",
        "                                           per_word_topics=True)"
      ],
      "execution_count": null,
      "outputs": []
    },
    {
      "cell_type": "markdown",
      "metadata": {
        "id": "VRok-Z7a5Ziz"
      },
      "source": [
        "#View the topics in LDA model"
      ]
    },
    {
      "cell_type": "code",
      "metadata": {
        "id": "2rTxF1xe6DaM",
        "colab": {
          "base_uri": "https://localhost:8080/",
          "height": 1000
        },
        "outputId": "fbe2d02d-79e3-4822-8fdf-bb9a09e015ab"
      },
      "source": [
        "# Print the Keyword in the 10 topics\n",
        "pprint(lda_model.print_topics())\n",
        "doc_lda = lda_model[corpus]"
      ],
      "execution_count": null,
      "outputs": [
        {
          "output_type": "stream",
          "text": [
            "[(0,\n",
            "  '0.051*\"report\" + 0.027*\"black\" + 0.020*\"fire\" + 0.020*\"white\" + '\n",
            "  '0.016*\"trial\" + 0.016*\"cover\" + 0.015*\"medium\" + 0.013*\"vote\" + '\n",
            "  '0.012*\"minor\" + 0.012*\"title\"'),\n",
            " (1,\n",
            "  '0.021*\"god\" + 0.020*\"accept\" + 0.016*\"member\" + 0.015*\"man\" + '\n",
            "  '0.014*\"israeli\" + 0.014*\"season\" + 0.012*\"publish\" + 0.012*\"lebanese\" + '\n",
            "  '0.012*\"jewish\" + 0.011*\"brain\"'),\n",
            " (2,\n",
            "  '0.017*\"package\" + 0.016*\"press\" + 0.015*\"item\" + 0.015*\"break\" + '\n",
            "  '0.011*\"level\" + 0.010*\"edge\" + 0.009*\"hole\" + 0.007*\"eye\" + '\n",
            "  '0.007*\"equipment\" + 0.007*\"contribute\"'),\n",
            " (3,\n",
            "  '0.025*\"pc\" + 0.022*\"contain\" + 0.020*\"input\" + 0.020*\"reality\" + '\n",
            "  '0.017*\"picture\" + 0.016*\"object\" + 0.016*\"level\" + 0.015*\"box\" + '\n",
            "  '0.015*\"quality\" + 0.013*\"greek\"'),\n",
            " (4,\n",
            "  '0.089*\"ax\" + 0.076*\"max\" + 0.032*\"space\" + 0.021*\"launch\" + 0.018*\"di_di\" + '\n",
            "  '0.017*\"orbit\" + 0.016*\"sphere\" + 0.015*\"satellite\" + 0.014*\"plane\" + '\n",
            "  '0.014*\"mission\"'),\n",
            " (5,\n",
            "  '0.019*\"people\" + 0.017*\"kill\" + 0.015*\"child\" + 0.015*\"government\" + '\n",
            "  '0.012*\"attack\" + 0.012*\"year\" + 0.012*\"die\" + 0.011*\"country\" + 0.010*\"say\" '\n",
            "  '+ 0.009*\"war\"'),\n",
            " (6,\n",
            "  '0.035*\"window\" + 0.032*\"card\" + 0.020*\"image\" + 0.020*\"driver\" + '\n",
            "  '0.020*\"problem\" + 0.019*\"run\" + 0.018*\"sale\" + 0.018*\"machine\" + '\n",
            "  '0.017*\"color\" + 0.016*\"screen\"'),\n",
            " (7,\n",
            "  '0.025*\"people\" + 0.021*\"say\" + 0.014*\"reason\" + 0.014*\"believe\" + '\n",
            "  '0.012*\"may\" + 0.012*\"evidence\" + 0.010*\"make\" + 0.010*\"think\" + '\n",
            "  '0.009*\"many\" + 0.009*\"mean\"'),\n",
            " (8,\n",
            "  '0.032*\"book\" + 0.023*\"physical\" + 0.021*\"science\" + 0.017*\"choose\" + '\n",
            "  '0.016*\"explain\" + 0.015*\"create\" + 0.011*\"author\" + 0.011*\"earth\" + '\n",
            "  '0.010*\"study\" + 0.010*\"nature\"'),\n",
            " (9,\n",
            "  '0.033*\"mail\" + 0.028*\"file\" + 0.027*\"send\" + 0.026*\"program\" + '\n",
            "  '0.025*\"thank\" + 0.024*\"information\" + 0.021*\"software\" + 0.021*\"list\" + '\n",
            "  '0.019*\"include\" + 0.019*\"address\"'),\n",
            " (10,\n",
            "  '0.073*\"group\" + 0.031*\"week\" + 0.021*\"young\" + 0.017*\"drug\" + 0.015*\"watch\" '\n",
            "  '+ 0.013*\"nntp_posting\" + 0.013*\"age\" + 0.013*\"route\" + 0.011*\"kid\" + '\n",
            "  '0.010*\"capable\"'),\n",
            " (11,\n",
            "  '0.073*\"car\" + 0.023*\"existence\" + 0.022*\"model\" + 0.020*\"engine\" + '\n",
            "  '0.016*\"pain\" + 0.012*\"keyboard\" + 0.012*\"mile\" + 0.011*\"should\" + '\n",
            "  '0.011*\"price\" + 0.011*\"insurance\"'),\n",
            " (12,\n",
            "  '0.070*\"drive\" + 0.025*\"power\" + 0.024*\"player\" + 0.017*\"speed\" + '\n",
            "  '0.017*\"light\" + 0.014*\"high\" + 0.013*\"bus\" + 0.012*\"university\" + '\n",
            "  '0.012*\"fast\" + 0.012*\"scsi\"'),\n",
            " (13,\n",
            "  '0.040*\"line\" + 0.039*\"would\" + 0.035*\"write\" + 0.024*\"article\" + 0.021*\"be\" '\n",
            "  '+ 0.020*\"get\" + 0.020*\"know\" + 0.020*\"go\" + 0.014*\"good\" + 0.014*\"think\"'),\n",
            " (14,\n",
            "  '0.027*\"patient\" + 0.017*\"family\" + 0.014*\"food\" + 0.013*\"treatment\" + '\n",
            "  '0.012*\"disease\" + 0.012*\"doctor\" + 0.011*\"cd\" + 0.011*\"diagnosis\" + '\n",
            "  '0.011*\"risk\" + 0.010*\"cause\"'),\n",
            " (15,\n",
            "  '0.029*\"wire\" + 0.021*\"ground\" + 0.021*\"eat\" + 0.019*\"material\" + '\n",
            "  '0.018*\"seller\" + 0.018*\"controller\" + 0.016*\"signal\" + 0.016*\"trust\" + '\n",
            "  '0.015*\"lead\" + 0.015*\"expensive\"'),\n",
            " (16,\n",
            "  '0.042*\"gun\" + 0.025*\"right\" + 0.016*\"carry\" + 0.015*\"law\" + 0.014*\"state\" + '\n",
            "  '0.014*\"crime\" + 0.014*\"weapon\" + 0.014*\"shoot\" + 0.013*\"steal\" + '\n",
            "  '0.013*\"protect\"'),\n",
            " (17,\n",
            "  '0.028*\"use\" + 0.025*\"system\" + 0.016*\"also\" + 0.014*\"may\" + 0.014*\"number\" '\n",
            "  '+ 0.012*\"new\" + 0.009*\"work\" + 0.009*\"support\" + 0.008*\"bit\" + '\n",
            "  '0.008*\"need\"'),\n",
            " (18,\n",
            "  '0.043*\"team\" + 0.039*\"game\" + 0.036*\"year\" + 0.030*\"play\" + 0.024*\"win\" + '\n",
            "  '0.017*\"lose\" + 0.013*\"hit\" + 0.013*\"fan\" + 0.012*\"last\" + 0.012*\"hockey\"'),\n",
            " (19,\n",
            "  '0.054*\"key\" + 0.030*\"public\" + 0.021*\"government\" + 0.017*\"internet\" + '\n",
            "  '0.015*\"encryption\" + 0.015*\"technology\" + 0.014*\"chip\" + 0.014*\"security\" + '\n",
            "  '0.014*\"instal\" + 0.013*\"private\"')]\n"
          ],
          "name": "stdout"
        }
      ]
    },
    {
      "cell_type": "markdown",
      "metadata": {
        "id": "SFEKd2Uw5btP"
      },
      "source": [
        "#Compute Model Perplexity and Coherence Score"
      ]
    },
    {
      "cell_type": "code",
      "metadata": {
        "id": "-1RMsrTJ689m",
        "colab": {
          "base_uri": "https://localhost:8080/",
          "height": 84
        },
        "outputId": "ba01cf4c-7140-41b8-845f-cd8534f7357a"
      },
      "source": [
        "# Compute Perplexity\n",
        "print('\\nPerplexity: ', lda_model.log_perplexity(corpus))  # a measure of how good the model is. lower the better.\n",
        "\n",
        "# Compute Coherence Score\n",
        "coherence_model_lda = CoherenceModel(model=lda_model, texts=data_lemmatized, dictionary=id2word, coherence='c_v')\n",
        "coherence_lda = coherence_model_lda.get_coherence()\n",
        "print('\\nCoherence Score: ', coherence_lda)"
      ],
      "execution_count": null,
      "outputs": [
        {
          "output_type": "stream",
          "text": [
            "\n",
            "Perplexity:  -8.348722848762439\n",
            "\n",
            "Coherence Score:  0.4392813747423439\n"
          ],
          "name": "stdout"
        }
      ]
    },
    {
      "cell_type": "markdown",
      "metadata": {
        "id": "mWlMQORY5e2N"
      },
      "source": [
        "#Visualize the topics-keywords"
      ]
    },
    {
      "cell_type": "code",
      "metadata": {
        "id": "T1_KZWcm7ylx",
        "colab": {
          "base_uri": "https://localhost:8080/",
          "height": 861
        },
        "outputId": "b2a39b1e-1636-4bb9-81e8-038743ddc979"
      },
      "source": [
        "# Visualize the topics\n",
        "pyLDAvis.enable_notebook()\n",
        "vis = pyLDAvis.gensim.prepare(lda_model, corpus, id2word)\n",
        "vis"
      ],
      "execution_count": null,
      "outputs": [
        {
          "output_type": "execute_result",
          "data": {
            "text/html": [
              "\n",
              "<link rel=\"stylesheet\" type=\"text/css\" href=\"https://cdn.rawgit.com/bmabey/pyLDAvis/files/ldavis.v1.0.0.css\">\n",
              "\n",
              "\n",
              "<div id=\"ldavis_el1011399006585716882110481524\"></div>\n",
              "<script type=\"text/javascript\">\n",
              "\n",
              "var ldavis_el1011399006585716882110481524_data = {\"mdsDat\": {\"x\": [-0.33866856750251, -0.3105671027861622, -0.22956546450890714, -0.1411224163282307, -0.05018401993579006, -0.022136582757079765, 0.020467865886021026, 0.04042053075214738, -0.051647748274137845, 0.023227400888704106, 0.06299112254399553, 0.11423352515506335, 0.05579931284708623, 0.11158255465161743, 0.12665873617088494, 0.09592497028040194, 0.13173679386915474, 0.10880686336062541, 0.12166896795308069, 0.13037325773403521], \"y\": [0.015796319963087314, -0.10209954301421627, 0.07660561859334697, -0.19223659266303852, 0.25383166461768875, 0.28592269171171986, -0.012451060659741584, -0.0009100903828713421, -0.014666830660166542, -0.12937682593000732, 0.06450885845208809, -0.004343798944824528, -0.14082127831543434, -0.040582798425033074, 0.0209379040408287, -0.07602273211897823, 0.017561386590854444, 0.029944749738475003, -0.03670586436269659, -0.014891778231081218], \"topics\": [1, 2, 3, 4, 5, 6, 7, 8, 9, 10, 11, 12, 13, 14, 15, 16, 17, 18, 19, 20], \"cluster\": [1, 1, 1, 1, 1, 1, 1, 1, 1, 1, 1, 1, 1, 1, 1, 1, 1, 1, 1, 1], \"Freq\": [24.17651182110245, 15.732315096671623, 12.436147990810666, 5.440736475695945, 4.782149757102749, 3.8713820005602098, 3.3043071044427483, 3.246517996640762, 3.241520168083001, 3.1609933077245698, 2.9084514074880317, 2.657395284624011, 2.352572990883354, 2.160116276424441, 2.000264663003988, 1.8965120883773823, 1.7522244451877924, 1.7427267964183777, 1.6325739214974817, 1.5045804072604092]}, \"tinfo\": {\"Term\": [\"line\", \"write\", \"would\", \"people\", \"article\", \"drive\", \"be\", \"use\", \"year\", \"system\", \"ax\", \"key\", \"get\", \"group\", \"say\", \"go\", \"know\", \"max\", \"car\", \"problem\", \"right\", \"good\", \"team\", \"thank\", \"mail\", \"think\", \"window\", \"game\", \"file\", \"program\", \"be\", \"have\", \"lot\", \"will\", \"nntp_poste\", \"maybe\", \"like\", \"test\", \"ill\", \"distribution_usa\", \"pretty\", \"bike\", \"guess\", \"wonder\", \"pin\", \"nice\", \"sorry\", \"there\", \"worth\", \"anyway\", \"wait\", \"internal\", \"advice\", \"drop\", \"motif\", \"pull\", \"disclaimer\", \"personally\", \"laugh\", \"folk\", \"article\", \"get\", \"organization\", \"s\", \"hear\", \"money\", \"want\", \"write\", \"turn\", \"go\", \"line\", \"friend\", \"host\", \"look\", \"back\", \"sure\", \"would\", \"really\", \"much\", \"put\", \"know\", \"could\", \"good\", \"little\", \"try\", \"probably\", \"time\", \"bad\", \"take\", \"think\", \"see\", \"well\", \"make\", \"thing\", \"come\", \"still\", \"way\", \"say\", \"need\", \"reason\", \"believe\", \"claim\", \"sense\", \"faith\", \"agree\", \"rule\", \"religion\", \"argument\", \"prove\", \"matter\", \"understand\", \"mind\", \"truth\", \"atheist\", \"belief\", \"certainly\", \"church\", \"conclusion\", \"statement\", \"christian\", \"religious\", \"slave\", \"indeed\", \"sin\", \"logic\", \"therefore\", \"judge\", \"clearly\", \"argue\", \"evidence\", \"true\", \"person\", \"certain\", \"fact\", \"clear\", \"word\", \"people\", \"life\", \"exist\", \"mean\", \"talk\", \"say\", \"world\", \"view\", \"many\", \"point\", \"may\", \"must\", \"become\", \"even\", \"think\", \"make\", \"question\", \"law\", \"see\", \"would\", \"thing\", \"give\", \"come\", \"can\", \"know\", \"system\", \"add\", \"cheap\", \"hardware\", \"function\", \"currently\", \"device\", \"section\", \"field\", \"remove\", \"replace\", \"release\", \"block\", \"special\", \"secure\", \"period\", \"announce\", \"port\", \"nee\", \"mount\", \"operate\", \"recommend\", \"site\", \"development\", \"transfer\", \"external\", \"tool\", \"convince\", \"secret\", \"master\", \"build\", \"connect\", \"standard\", \"type\", \"support\", \"use\", \"service\", \"datum\", \"number\", \"require\", \"large\", \"design\", \"receive\", \"detail\", \"note\", \"new\", \"single\", \"bit\", \"provide\", \"base\", \"also\", \"high\", \"allow\", \"return\", \"order\", \"cost\", \"may\", \"possible\", \"work\", \"part\", \"need\", \"case\", \"call\", \"set\", \"first\", \"attack\", \"war\", \"soldier\", \"murder\", \"village\", \"visit\", \"terrorist\", \"turkish\", \"withdraw\", \"population\", \"gift\", \"president\", \"town\", \"house\", \"armenian\", \"door\", \"civilian\", \"male\", \"justify\", \"education\", \"minority\", \"somehow\", \"girl\", \"inhabitant\", \"border\", \"restraint\", \"role\", \"victim\", \"islamic\", \"escape\", \"country\", \"national\", \"kill\", \"military\", \"die\", \"burn\", \"child\", \"woman\", \"american\", \"city\", \"fight\", \"government\", \"death\", \"force\", \"live\", \"people\", \"year\", \"say\", \"state\", \"today\", \"area\", \"place\", \"mail\", \"software\", \"address\", \"email\", \"com\", \"copy\", \"info\", \"entry\", \"appreciate\", \"server\", \"distribution\", \"faq\", \"connection\", \"library\", \"select\", \"client\", \"update\", \"mine\", \"byte\", \"winner\", \"welcome\", \"frame\", \"localtalk\", \"shipping\", \"travel\", \"guilty\", \"variable\", \"conference\", \"beautiful\", \"educational\", \"ca\", \"list\", \"send\", \"advance\", \"originator\", \"page\", \"file\", \"information\", \"request\", \"program\", \"source\", \"thank\", \"include\", \"news\", \"available\", \"network\", \"name\", \"computer\", \"post\", \"message\", \"interested\", \"line\", \"window\", \"card\", \"image\", \"color\", \"screen\", \"memory\", \"disk\", \"tape\", \"display\", \"graphic\", \"monitor\", \"video\", \"mouse\", \"apple\", \"convert\", \"processor\", \"font\", \"blind\", \"resolution\", \"accelerator\", \"map\", \"este\", \"compatible\", \"egg\", \"default\", \"string\", \"setup\", \"icon\", \"utility\", \"specification\", \"sale\", \"mode\", \"machine\", \"driver\", \"version\", \"character\", \"application\", \"run\", \"error\", \"problem\", \"offer\", \"set\", \"user\", \"bit\", \"use\", \"program\", \"computer\", \"file\", \"key\", \"internet\", \"encryption\", \"security\", \"instal\", \"ripem\", \"clipper\", \"private\", \"encrypt\", \"tap\", \"market\", \"communication\", \"rational\", \"tax\", \"crash\", \"ram\", \"federal\", \"ensure\", \"pgp\", \"proposal\", \"illegal\", \"random\", \"privacy\", \"predict\", \"manage\", \"sequence\", \"amendment\", \"hint\", \"scheme\", \"corporation\", \"public\", \"pro\", \"step\", \"solution\", \"technology\", \"government\", \"chip\", \"access\", \"message\", \"information\", \"issue\", \"book\", \"physical\", \"science\", \"choose\", \"author\", \"nature\", \"revelation\", \"scientific\", \"direct\", \"theory\", \"animal\", \"objective\", \"translation\", \"benefit\", \"language\", \"topic\", \"statistic\", \"specifically\", \"energy\", \"attitude\", \"principle\", \"contradict\", \"prize\", \"cry\", \"daughter\", \"scientist\", \"element\", \"pattern\", \"implementation\", \"explicitly\", \"student\", \"earth\", \"explain\", \"create\", \"son\", \"study\", \"consistent\", \"research\", \"examine\", \"describe\", \"purpose\", \"concern\", \"necessarily\", \"define\", \"team\", \"game\", \"play\", \"hit\", \"fan\", \"hockey\", \"score\", \"wing\", \"cpu\", \"playoff\", \"average\", \"defense\", \"rider\", \"upgrade\", \"stat\", \"award\", \"coach\", \"king\", \"yesterday\", \"talent\", \"ball\", \"blue\", \"clock\", \"tie\", \"club\", \"offense\", \"weekend\", \"rock\", \"soul\", \"pitch\", \"win\", \"division\", \"trade\", \"goal\", \"lose\", \"year\", \"pick\", \"boy\", \"last\", \"final\", \"run\", \"next\", \"first\", \"great\", \"good\", \"point\", \"throw\", \"god\", \"israeli\", \"season\", \"publish\", \"lebanese\", \"jewish\", \"brain\", \"society\", \"respect\", \"practice\", \"pen\", \"terrorism\", \"evil\", \"hide\", \"interpretation\", \"homosexual\", \"sex\", \"marriage\", \"impact\", \"imply\", \"gay\", \"arab\", \"northern\", \"acquire\", \"economic\", \"compromise\", \"western\", \"penguin\", \"neutral\", \"aid\", \"accept\", \"member\", \"community\", \"shall\", \"assumption\", \"man\", \"exactly\", \"necessary\", \"state\", \"history\", \"whole\", \"right\", \"force\", \"drive\", \"player\", \"bus\", \"university\", \"scsi\", \"switch\", \"cool\", \"printer\", \"baseball\", \"air\", \"hot\", \"star\", \"foot\", \"cycle\", \"stick\", \"helmet\", \"ice\", \"slip\", \"water\", \"tube\", \"jumper\", \"electronic\", \"oil\", \"cold\", \"cap\", \"gas\", \"saturn\", \"remind\", \"maxtor\", \"deliver\", \"light\", \"blow\", \"speed\", \"power\", \"performance\", \"compare\", \"fast\", \"slow\", \"high\", \"low\", \"ride\", \"ever\", \"head\", \"extra\", \"driver\", \"rate\", \"package\", \"press\", \"item\", \"edge\", \"hole\", \"contribute\", \"extremely\", \"slightly\", \"promise\", \"fun\", \"pad\", \"mac\", \"miracle\", \"negative\", \"violence\", \"registration\", \"finish\", \"fool\", \"professional\", \"pitcher\", \"detailed\", \"audio\", \"detect\", \"wind\", \"vertical\", \"essentially\", \"storage\", \"mhz\", \"bend\", \"differential\", \"equipment\", \"break\", \"degree\", \"level\", \"eye\", \"overall\", \"due\", \"gun\", \"weapon\", \"steal\", \"firearm\", \"tv\", \"cop\", \"beat\", \"review\", \"blank\", \"militia\", \"headache\", \"shell\", \"rsa\", \"specify\", \"patent\", \"permit\", \"shot\", \"export\", \"glock\", \"sink\", \"gang\", \"floor\", \"distance\", \"truck\", \"usage\", \"sky\", \"knife\", \"rush\", \"islander\", \"park\", \"criminal\", \"shoot\", \"crime\", \"police\", \"carry\", \"protect\", \"right\", \"arm\", \"rate\", \"law\", \"state\", \"keep\", \"stop\", \"group\", \"young\", \"nntp_posting\", \"route\", \"kid\", \"waste\", \"fax\", \"link\", \"dangerous\", \"btw\", \"conversation\", \"planet\", \"tomorrow\", \"telephone\", \"dream\", \"direction\", \"taste\", \"relevant\", \"funny\", \"buyer\", \"warrant\", \"advocate\", \"wisdom\", \"decade\", \"newspaper\", \"gold\", \"contrary\", \"opponent\", \"imho\", \"warning\", \"week\", \"drug\", \"watch\", \"capable\", \"age\", \"recent\", \"laboratory\", \"issue\", \"environment\", \"discussion\", \"primarily\", \"pc\", \"input\", \"reality\", \"picture\", \"object\", \"box\", \"quality\", \"greek\", \"generate\", \"tumor\", \"interface\", \"ide\", \"digital\", \"status\", \"workstation\", \"mirror\", \"unlikely\", \"unix\", \"management\", \"technique\", \"anywhere\", \"algorithm\", \"expansion\", \"universe\", \"drink\", \"manufacturer\", \"manufacture\", \"routine\", \"shape\", \"compression\", \"contain\", \"scan\", \"level\", \"sample\", \"method\", \"original\", \"patient\", \"family\", \"food\", \"treatment\", \"disease\", \"doctor\", \"cd\", \"diagnosis\", \"medical\", \"wave\", \"ticket\", \"syndrome\", \"health\", \"neurologist\", \"dn\", \"father\", \"liar\", \"immediate\", \"msg\", \"diagnose\", \"spring\", \"eeg\", \"modem\", \"researcher\", \"migraine\", \"surrender\", \"probability\", \"confirm\", \"optional\", \"estimate\", \"adult\", \"blood\", \"risk\", \"cause\", \"effect\", \"study\", \"serious\", \"ax\", \"max\", \"launch\", \"di_di\", \"orbit\", \"sphere\", \"satellite\", \"plane\", \"flight\", \"prediction\", \"moon\", \"shuttle\", \"realistic\", \"lunar\", \"velocity\", \"investigation\", \"solar\", \"horse\", \"wide_range\", \"univ\", \"specifie\", \"film\", \"distant\", \"straightforward\", \"pot\", \"scare\", \"farin\", \"consultation\", \"comet\", \"vat\", \"mission\", \"space\", \"fuel\", \"car\", \"existence\", \"engine\", \"pain\", \"keyboard\", \"mile\", \"should\", \"motorcycle\", \"prayer\", \"battery\", \"observation\", \"accident\", \"morality\", \"sight\", \"cross\", \"arrogance\", \"up\", \"thinking\", \"leg\", \"honor\", \"tongue\", \"freenet\", \"national_capital\", \"react\", \"enjoyable\", \"luxury\", \"cure\", \"jungle\", \"necessarilly\", \"mechanic\", \"insurance\", \"auto\", \"concept\", \"model\", \"dealer\", \"vehicle\", \"mid\", \"pound\", \"safety\", \"race\", \"price\", \"ride\", \"owner\", \"sound\", \"report\", \"black\", \"white\", \"trial\", \"medium\", \"vote\", \"minor\", \"title\", \"past\", \"smoke\", \"ethnic\", \"benign\", \"tank\", \"devil\", \"canadian\", \"wise\", \"trace\", \"brother\", \"assist\", \"echo\", \"channel\", \"advertising\", \"penalty\", \"injury\", \"surveillance\", \"mass\", \"correctly\", \"occupant\", \"revolver\", \"blanking\", \"fire\", \"strange\", \"cover\", \"schedule\", \"table\", \"official\", \"begin\", \"wire\", \"eat\", \"material\", \"seller\", \"controller\", \"signal\", \"trust\", \"expensive\", \"sensitive\", \"circuit\", \"damage\", \"decent\", \"metal\", \"insert\", \"noise\", \"configuration\", \"dept\", \"own\", \"fair\", \"contest\", \"timer\", \"few\", \"voltage\", \"struggle\", \"biker\", \"tire\", \"fold\", \"surgery\", \"stock\", \"unusual\", \"firm\", \"ground\", \"seat\", \"purchase\", \"lead\", \"condition\", \"stop\"], \"Freq\": [11975.0, 10060.0, 12046.0, 5647.0, 6479.0, 2284.0, 5686.0, 4580.0, 3537.0, 3512.0, 1769.0, 2027.0, 5394.0, 1780.0, 6428.0, 5622.0, 6321.0, 1498.0, 1438.0, 3003.0, 2638.0, 4558.0, 1575.0, 2494.0, 1764.0, 5551.0, 1542.0, 1439.0, 1855.0, 2036.0, 5685.137433586504, 2113.276697746424, 1414.063326913942, 1338.8653716452925, 1087.4676889409006, 1070.928442977235, 886.7271196145703, 826.3646556892573, 693.0355919178082, 667.884586468496, 662.9475370152653, 619.3214145948269, 616.4401078648643, 606.8509426285865, 570.135367421627, 469.6336433585199, 412.67188789253356, 412.0474871841059, 401.872723828213, 390.978698398122, 362.9055497515054, 349.4412103302891, 340.2898374473958, 335.16964358849197, 317.59340558916335, 307.5177302528591, 303.1944354251305, 297.0836473845084, 292.7430010305787, 274.94459358130007, 6443.29107878284, 5343.509907874662, 2885.4573675707866, 2819.207333773418, 1499.5509278960255, 900.7101616194061, 3293.484417151885, 9678.711314747272, 941.1868866962676, 5327.879551378679, 11036.735059432054, 620.3912982598272, 3447.197075100482, 2735.199760773465, 1753.3915529486592, 1834.2304703177133, 10541.845634100622, 2085.5757806499814, 2489.328761619625, 1352.7055336834605, 5329.77716004631, 3297.6813254966423, 3888.67303673602, 1386.5889330386756, 2518.055770433989, 1325.5676195873486, 3580.564083418239, 1441.2234865564658, 2680.102754125125, 3854.8331115343644, 3150.6525008642357, 2370.967454854607, 3701.7786675247407, 2244.039705959918, 2223.0988926245063, 1663.1675573419795, 1897.4623554953344, 2125.864753315127, 1882.1318689649827, 2467.6804895366654, 2424.626201304137, 1516.417874287336, 1298.5652768872874, 1056.0645564952742, 931.1849519928293, 789.141535330503, 788.4357788564114, 751.302085986413, 714.6659464675234, 714.071612165326, 705.4000389477956, 660.5008741749876, 646.8226238326208, 637.5360779818702, 622.9460600896118, 557.0875741396399, 517.9796739455783, 492.2218787665604, 476.4764038526953, 472.15931168405484, 467.1478368710448, 465.1085712409721, 421.6783262369076, 393.62570581381027, 369.8352936610224, 362.3099129637979, 340.4865943215744, 325.717469630731, 322.1901761979821, 2088.8752147255896, 1165.270444609554, 1141.9932196538202, 499.32952971763365, 1511.2773995655887, 616.8574215628628, 876.9855514142238, 4487.436899682643, 886.5922602318017, 1115.9815605954086, 1554.4140756846846, 994.813960520397, 3665.2408644923803, 927.9978808265993, 723.9785073688016, 1649.7911239510793, 1453.1017908349543, 2185.6639413776907, 1108.1940855020098, 811.7523779426735, 1294.384257081502, 1694.6096379313133, 1709.7210321780256, 1163.0796382082044, 889.067371016819, 1165.0171597614917, 1479.3909713385813, 1056.7068676792078, 981.4609189893159, 990.3342432664232, 956.5394932089783, 990.3269640154011, 3511.8541902216016, 757.3936551973151, 688.3204469194635, 634.7359931590697, 537.104660169356, 528.0263047326401, 521.7916355844183, 517.1440611048938, 480.26013008873343, 476.9802412402989, 467.4321392602442, 458.3923953677714, 451.2925137666735, 376.67294187908243, 368.6623705532694, 364.7336377530597, 360.55064417420675, 354.4113105577482, 346.6829206361361, 342.0765732161294, 335.59042227424356, 333.67890562965846, 333.6418633945803, 324.90309992234546, 318.1394755037532, 316.9490237264663, 312.9940049977457, 308.52255277803255, 308.0542120741537, 299.1653180251502, 1058.2367608833135, 441.80476480158285, 683.908072651018, 959.1129167960241, 1303.6035452228343, 3903.5521884538757, 617.0196696700184, 721.9946829783746, 1924.1236897607687, 949.4014431931225, 981.1746573624882, 631.812043245583, 830.3888940174849, 433.38430953828095, 783.6351853364206, 1688.161317530898, 660.3704622029137, 1153.6836482095257, 1049.8198365656326, 907.1406012630832, 2210.7645475050604, 1037.156296260041, 848.9399592064616, 673.7008935156758, 990.2429757593372, 741.0549236034567, 1997.3356240214487, 820.1995003860108, 1307.5112558190235, 870.9962071908487, 1070.359804957385, 869.1758739475284, 867.0123197122836, 758.9093462990129, 703.3485438091619, 743.2790987049084, 568.4365920166706, 534.9636191637774, 466.0686930746173, 464.35709180795055, 358.7792825348011, 324.67484347050924, 321.43432387755774, 291.8158294755047, 275.1596995131252, 273.0637946728457, 264.8054444310407, 259.921894039336, 248.89537946790355, 247.7531390785344, 237.05095395222884, 234.07847995141313, 228.47775741511472, 212.62975487589844, 189.22731499379802, 187.65201076274826, 177.73276478384545, 173.07595178416514, 161.1247657402246, 160.63141309540353, 155.96105478218254, 154.51134864849374, 151.84496726623223, 151.2001845955872, 150.54597598869788, 687.6505699853278, 269.24599012265844, 1067.784246716234, 416.152996888729, 720.2910281293273, 214.07801636685483, 911.6261483867056, 468.3997457022346, 328.8529505002002, 402.9411812683271, 271.8214305297439, 892.7440099177677, 566.0175449129157, 453.1801627516248, 551.7776013756131, 1156.9946257191955, 722.1361086631131, 637.0173011598308, 329.71412920944834, 292.23517636292394, 298.0624932573128, 276.20064327050363, 1763.299614246571, 1145.6887777049858, 1032.6066049664867, 929.8592242552718, 874.9521465927768, 823.6518264616225, 796.5263666874908, 775.5505285774595, 593.9686269161646, 570.3539248389111, 502.49632367214133, 484.5166459273714, 346.77473572137865, 333.105847819357, 282.6261779231927, 281.60633683209664, 281.43379862777954, 262.6720415610804, 230.32743939841805, 197.10694560833142, 194.04492050593666, 180.08270257016932, 171.7796849335791, 157.1888415757582, 151.140877148623, 134.0081628464819, 132.77728807004146, 120.57323996794769, 115.78065315609099, 114.88200619860153, 592.2851850835447, 1131.066127173096, 1452.1999055369681, 559.0324818152111, 330.6687896853976, 476.68529222340754, 1530.0150882761745, 1295.5339085284745, 354.08281740988883, 1413.6790793464388, 918.3518161253157, 1338.7570671029391, 1038.164135456693, 488.32883002957647, 646.9255350760608, 378.4263186495047, 667.9992839654, 583.6957897322839, 720.4713150148253, 575.6561933282101, 456.36797576465347, 937.7646019279779, 1541.2902838055122, 1402.927848623129, 891.7718526376663, 759.5183673601867, 680.4055567649519, 677.2480025954026, 657.5153347429301, 596.3411983746403, 596.0440110583639, 577.5027793700209, 532.1495522707723, 494.72007181409447, 305.40375171486966, 287.7351311951191, 265.8233678789938, 242.4658289797752, 238.8192184772905, 213.49370924074904, 210.70468769867796, 168.42658599930346, 167.6810631190103, 166.01356747820887, 161.67152847798965, 160.35669851171875, 154.8595270171359, 151.8903407533962, 151.5937132077498, 147.10552318486864, 144.493440050108, 135.6383979216281, 794.3286912168708, 498.6749022030899, 788.4354260245193, 885.797410526321, 620.1257099551063, 391.8518577111522, 458.61840800230283, 843.0176627436606, 354.8719036032857, 872.1552913914979, 345.4254587154159, 524.2564607034286, 329.0853265653076, 412.48655013441027, 538.075182383184, 416.80341981157636, 344.9212987531191, 324.7968321702572, 2026.9351413635127, 628.8298854854281, 574.8067782556017, 527.1538694032125, 521.9281447531051, 472.12308879412984, 431.2740253458373, 487.70574993094954, 405.532522409724, 328.68783697064794, 282.69821464647407, 245.9566190024987, 245.08687526044784, 237.7916500945322, 231.38253467624088, 223.11827519305973, 217.92828820055797, 202.3398242549681, 192.5742183050898, 190.49959255399057, 178.8647872329497, 175.0343774868911, 165.19646228521168, 161.76437887650152, 161.05237076566218, 159.11694293033193, 153.28769142076575, 149.8910155697612, 144.2567488590811, 143.49129931178328, 1111.0651851245425, 273.0923596745658, 234.14434155095606, 450.54327691434514, 548.5899314633426, 767.8874219284836, 531.2076004185291, 336.5166251908798, 487.39820106612893, 293.61972620443305, 219.6400820404091, 1163.0274846109328, 834.2230201462077, 755.1503088909432, 612.3694405941804, 394.94725725603007, 353.5846687685889, 347.51033553219605, 322.3989765213586, 321.16742240802137, 315.80442313807237, 261.28241231887455, 244.79247833596568, 219.53640130421462, 205.57244373281438, 197.52094619748573, 192.11578444680345, 189.08228784211215, 183.51982760561737, 173.41312250742072, 169.46328327490653, 165.48580798720724, 159.66569573282266, 143.43778364434917, 139.04098797640196, 136.80375627859507, 135.72705966534375, 132.28710479750268, 131.72659985120424, 129.35936432616478, 129.1902364479846, 243.50012148725526, 386.75448980549965, 587.4842226945794, 538.637094013945, 213.33090349213177, 361.8252317438372, 223.92293800417775, 315.0503804563271, 195.06254924396208, 252.63930860652036, 238.64150156172173, 206.52084350185876, 190.1555363496517, 191.05033685169107, 1574.832134272268, 1438.353230995352, 1092.9758030088922, 476.60647404413754, 464.8883501438338, 446.24526053690585, 440.57790446223845, 382.0228718977763, 377.4561543390263, 325.4296544563155, 282.7827326724123, 224.49703936384284, 205.15611855440446, 190.42774541566288, 176.84723847606836, 171.31725343237585, 166.00706203824308, 161.21799429709878, 153.45550843388597, 152.93678792176198, 151.14799894100088, 149.30572729334165, 148.00692339564458, 147.615620479993, 139.58290909617148, 136.93181011210308, 135.65590422682718, 133.3117510966473, 132.5129283253972, 124.76219399144706, 879.8737929257265, 371.81378411192827, 311.6694403020065, 362.41153808865465, 617.2291761747648, 1314.8875570656032, 234.56272270122653, 185.7905186813368, 451.20370710011315, 205.25238053740023, 433.29983044051045, 290.96588749176914, 353.1913172031988, 253.80535334495377, 298.84239471940157, 228.74534927982958, 186.71107502439062, 749.8796052006811, 502.1580500911857, 496.24646183588095, 438.5499734152737, 421.2560082931685, 411.8300558766868, 374.87056305143363, 337.4588359185096, 336.0387769800305, 278.8547210538779, 264.8942596101832, 255.8365266382604, 242.77312122257857, 215.16660173093382, 200.17688757847608, 195.86641818622837, 193.66602653994127, 191.8976258574536, 189.7379535810229, 187.10776483086337, 179.0104106621179, 176.21132793788442, 161.3151852353417, 147.96140916220602, 147.78965652216667, 137.11680221000148, 134.0370549964759, 127.44787980660902, 126.07555394169225, 119.44128828226599, 715.8703221323572, 555.3211928951473, 340.91891866664525, 338.69434470070877, 193.1531951618636, 525.1466440179402, 241.93220806451475, 222.4972018552071, 303.3588400662361, 208.34740365175549, 202.16379338565872, 204.39981863560794, 194.57799084336682, 2283.4409504535083, 796.826377868922, 414.55174875416645, 406.23695074688396, 397.96558291068214, 309.4721745627658, 303.4557195598504, 275.446654106454, 265.7885486737944, 258.6578345210114, 258.01479272736935, 252.2469601615772, 245.0120135982005, 214.99806464150686, 195.108284963961, 188.5640004592775, 181.6517523008814, 180.91799650201025, 180.16816848137645, 178.18983243476802, 176.20446192382963, 170.915141147927, 158.56378400034112, 155.16205468119026, 151.93312850753657, 142.39037299757476, 140.20965847065577, 138.69235509930823, 129.97409997807426, 129.06491075573908, 544.9578718882974, 184.25996345898386, 569.1733118977946, 819.2561649851971, 299.1268019650679, 395.9854423710499, 402.48488981178673, 370.665652631002, 450.200884747091, 326.32289743431215, 229.73256067326358, 255.9589552346211, 221.4338960569987, 190.6836069004083, 221.6890024351565, 200.0786692440682, 522.2090332874093, 465.7712708999499, 463.5893583103233, 290.506347680468, 263.4752227970546, 200.41733417614589, 194.17448767979369, 181.16259829796695, 181.03865012569122, 178.0856907613082, 174.75444565504796, 170.861668241766, 166.59253326243524, 165.48476830442186, 159.21340436701288, 157.79471407051997, 156.52857322109128, 149.3487869672942, 148.8207462360751, 146.25748797336524, 141.44358743334703, 138.95060978235475, 138.23767375593505, 138.19677686716818, 137.93313375335117, 133.29325806799355, 130.2548861033263, 129.31241331959112, 128.9119954725527, 125.26673715202968, 200.59328720663493, 441.48019564705214, 169.44739318847445, 328.9428002565403, 208.89486659621167, 146.62037625319223, 167.1306759583207, 1106.9127632452266, 378.2054954841177, 357.0364413074904, 296.87611249946036, 294.32733849622645, 279.8446289796853, 276.5405197419792, 238.5333431156881, 219.39326900113474, 209.48386050580976, 191.01086476574633, 190.92243473182714, 185.72643734223408, 181.45859040656842, 171.29013844078102, 169.78535588569102, 155.46540513069817, 154.5480533086929, 147.14390268017326, 129.87804060637654, 127.98672145456796, 126.95928048696457, 123.36446168747793, 122.80303178406142, 108.64055798554155, 105.18930037974161, 96.53892825348446, 92.48656535836845, 91.70827839247404, 91.4092874056398, 283.5151742678632, 377.0003533181253, 380.41994483260714, 319.24169962350294, 424.5590126513114, 348.1929183937597, 675.8693267442499, 186.90661772217965, 314.0181799475103, 410.78879018942763, 382.65799531478206, 254.12624600253503, 196.5483364197643, 1779.5100253728178, 504.81637340799773, 315.12602108521304, 309.7781348488348, 275.07381021653254, 235.29418297038495, 219.06562170396532, 209.3947863672343, 200.04589500401647, 197.30731549433423, 170.660199299274, 168.18550345150547, 156.83479203735897, 150.47548426957243, 147.2933203448217, 138.20742674674435, 138.00688470411671, 135.45173125709724, 132.15984106662603, 128.2414401350649, 123.32136253660106, 121.40111313471535, 120.40435433066915, 120.09334777501007, 119.64041601321887, 119.62988747079854, 115.74709277493076, 114.40872990359618, 112.78498333712061, 111.19282239790604, 745.1454484701876, 416.60213459424597, 362.50782384138773, 246.18246762655534, 310.62898191126925, 192.31151643706093, 142.9262126976186, 230.8798956411818, 147.55727215264102, 172.0909907339491, 131.01297954777175, 560.5420092568613, 445.4596549212934, 440.99507463394093, 390.9328456145407, 362.9435880290085, 347.709510875651, 347.0213935456826, 304.57771757528974, 261.83444953022735, 250.83260736781003, 248.1116685204444, 237.9892720255082, 237.7140797827994, 204.39415304699827, 189.13161643446585, 181.4474362512193, 156.85408838183534, 152.7148672330765, 151.3935006435445, 146.01748146076932, 145.9649061331953, 144.91918402463696, 144.0055996267487, 141.4456155329723, 139.38832056343168, 126.6191733308932, 125.34577554893576, 125.12866963033001, 116.62561215557726, 115.95212420761636, 489.9825331241468, 254.54615662054363, 352.05455302073375, 162.1401647357622, 225.01064382185172, 238.38053174473367, 577.2582288214817, 355.0967393496456, 297.3026346006558, 273.5273703964987, 264.3655385325323, 250.01104998551648, 245.5178646254815, 238.20980228270912, 171.1925799121723, 165.185050006909, 156.32492036900143, 153.03295978950436, 150.20537892535503, 143.4680738543686, 133.17315349062383, 122.09953704890567, 119.7373230934006, 119.34754128766241, 113.90360900987287, 113.15548600914356, 110.67137861064062, 137.52671581492123, 109.83191530085858, 104.09965277893593, 101.03500592052683, 100.59046978760429, 100.46017024411174, 99.99245002619493, 98.60983097033191, 98.02133413415675, 147.17440632717202, 155.9696703853429, 232.70882219835948, 221.28035463896117, 136.25148145209192, 117.13116270550843, 109.67227916465498, 1768.6192301282979, 1497.1997956976372, 425.0182569796596, 349.8745878355331, 329.2739857242777, 317.74406226481534, 287.909250732372, 272.94473889156353, 254.67242799044618, 182.09043380013725, 180.45661861236488, 167.89677376075267, 142.92470397403613, 139.22471667021333, 125.326840030909, 123.10175285901107, 122.5449743509765, 119.71617764347792, 118.4513155104638, 117.17393290896473, 109.1718610409097, 109.0700205268313, 107.27045423640064, 105.06556196289786, 97.62985933701488, 93.94288079073493, 93.25536979719533, 88.3943877346772, 86.01573826056661, 84.47338053464118, 268.72188613672824, 634.1105966062544, 131.2807512000498, 1437.4883556583982, 449.79825766825644, 392.5956345554427, 316.57757682580177, 237.15399323718512, 227.34333937386728, 222.73710399832402, 212.65285938464618, 202.09761498029232, 201.45495435777076, 171.8932437884785, 146.16279333508558, 139.82708469991513, 130.26417258478818, 129.43072781687022, 126.87945604304964, 112.77939805126462, 110.78288563168897, 107.8390132386064, 94.69909769392842, 92.53339846965565, 81.00239775796923, 80.96525069848904, 79.65541825854963, 78.82681158816632, 75.0943980199094, 70.54916115816968, 70.40294615369871, 70.38461086360994, 67.25104931122073, 213.57664279573513, 95.57784464785281, 177.34455185953723, 431.76963698913147, 205.5237027537904, 181.20542699670943, 92.10882792179811, 97.10007690001491, 188.03060815859735, 158.59126113945268, 217.48346153335964, 134.13467810171215, 121.04171409447288, 106.1572062353719, 939.7277524396987, 492.99142198513204, 366.88124196397473, 299.70463056561334, 284.008709436946, 243.57816629072968, 228.83509150490272, 218.95113477497483, 192.28750622118875, 168.98972471060674, 161.6489348186847, 152.66623524093316, 151.6068112955496, 144.50897988159008, 136.61177352909675, 135.78631214290436, 124.58211849435895, 119.36562726459702, 118.16759921577714, 115.98143644427998, 115.5658215634861, 114.14353933727887, 113.65935632752918, 113.29248078526948, 109.34110930386655, 107.52062891364702, 100.89105738985621, 91.37220792044482, 88.27368044057843, 86.36912941252803, 377.64111619702066, 138.75673361919837, 287.68874409357517, 125.98538739988051, 146.3404047340553, 141.88500428469717, 141.01567062671043, 496.5111630313183, 351.42470482057735, 326.91431282811305, 311.7788946011736, 299.90967221153613, 277.14683327484545, 272.5364461824063, 247.86160206176226, 202.66427468059894, 192.53317553449773, 175.8191814240918, 160.77777652653896, 144.9491088818273, 136.65201328489724, 134.626423164615, 133.66429752341708, 128.394401071253, 125.40884498992449, 111.21049062132396, 108.87817845400565, 102.13380586605241, 90.6957996133666, 90.69492150165658, 90.00664805024117, 89.45070049588477, 89.24997681643966, 86.95049495179337, 86.30981357287793, 79.42357452280002, 72.76099289853983, 155.65128125426298, 355.0250261190011, 121.90938787440872, 167.2361694900118, 254.01958588941164, 153.88314399425983, 136.93884728833874], \"Total\": [11975.0, 10060.0, 12046.0, 5647.0, 6479.0, 2284.0, 5686.0, 4580.0, 3537.0, 3512.0, 1769.0, 2027.0, 5394.0, 1780.0, 6428.0, 5622.0, 6321.0, 1498.0, 1438.0, 3003.0, 2638.0, 4558.0, 1575.0, 2494.0, 1764.0, 5551.0, 1542.0, 1439.0, 1855.0, 2036.0, 5686.113985795841, 2114.253249951262, 1415.0398791187804, 1339.8419238501308, 1088.444241145739, 1071.9049951820732, 887.7036718194084, 827.3412079128276, 694.0121441226464, 668.8611386733342, 663.9240892201035, 620.2979668041393, 617.416660074201, 607.8274948334247, 571.1119196834613, 470.61019556335816, 413.6484401024206, 413.0240393889441, 402.84927603305124, 391.95525060296023, 363.88210195634366, 350.4177625568195, 341.2663896564757, 336.1461957970637, 318.5699578142362, 308.49428245769735, 304.1709876342104, 298.060199603322, 293.7195532415556, 275.9211457861383, 6479.325225073642, 5394.194012631482, 2904.3130893414186, 2862.811880447455, 1514.1175509104794, 910.4806315177434, 3379.9780911260814, 10060.39689851158, 955.822975884642, 5622.504016767993, 11975.421944130505, 630.0060821647123, 3698.8417640234984, 2914.5402935989123, 1843.4565130632725, 1943.1464675100888, 12046.493800368671, 2230.5071577509866, 2716.5037737756998, 1433.2848795725881, 6321.032352959608, 3779.2510306819645, 4558.419898316549, 1480.0154844036235, 3072.571640279042, 1435.1890489332238, 4685.847138594293, 1588.870054807459, 3424.215106834641, 5551.483968374248, 4330.076240018797, 3118.1909112455182, 5896.987840880869, 3301.674802537024, 3430.09965259737, 1966.4704788140778, 2944.5889894365105, 6428.995989639716, 3218.1212399628134, 2468.661114610455, 2425.606826373759, 1517.3984993569577, 1299.5459019655507, 1057.0451815690633, 932.1655770700007, 790.1221604104244, 789.4164039260331, 752.2827110560347, 715.6465716785974, 715.0522372391894, 706.3806640174173, 661.4814992494784, 647.8032489022426, 638.516703051492, 623.9266851592336, 558.0681992092616, 518.9602990152, 493.20250384034966, 477.4570289223171, 473.13993675367664, 468.12846194066657, 466.0891964759583, 422.6589513065294, 394.60633088343207, 370.8159187882685, 363.29053804247997, 341.4672193973349, 326.6980947003528, 323.1708012793952, 2108.707771508239, 1196.61548817686, 1174.9365559589278, 505.5522585746501, 1603.4980737752078, 637.9763807234816, 934.0230555961125, 5647.884585388374, 959.3490754628405, 1277.1061999828855, 2034.1820024683295, 1206.9564921450417, 6428.995989639716, 1109.9101177579523, 818.188157773437, 2872.271753486842, 2658.1272234879384, 5440.888441238544, 1695.7955279442, 1033.7126045233526, 2928.5905785615178, 5551.483968374248, 5896.987840880869, 2442.9931013702003, 1328.6322834686055, 4330.076240018797, 12046.493800368671, 3301.674802537024, 3003.9658325966357, 3430.09965259737, 2632.5967333546723, 6321.032352959608, 3512.8289064096857, 758.3683710027433, 689.2951627387754, 635.7107089890526, 538.0793759823339, 529.00102080817, 522.7663513898465, 518.1187769225005, 481.2348459119121, 477.9549570584353, 468.4068550694059, 459.36711117319965, 452.26722957634337, 377.64765768451065, 369.63708636293927, 365.70835356264894, 361.52536000087747, 355.3860263631764, 347.6576364415643, 343.0512890699913, 336.5651380933621, 334.6536214485021, 334.6165792000085, 325.8778157367708, 319.1141913091814, 317.9237395495957, 313.96872080767247, 309.4972686235612, 309.0289278838236, 300.1400338613035, 1080.4275786959138, 446.2919048648913, 706.8212257248335, 1007.2951489721003, 1412.1156729560046, 4580.845384940648, 644.391371713818, 771.2936851804327, 2269.43717315106, 1055.2454177662914, 1118.0788043433665, 691.9644995334604, 950.1766689276301, 450.7345452344992, 941.1619458656196, 2517.7869122298953, 772.5724741538244, 1603.916491798321, 1449.8060767122256, 1190.4252250463328, 4347.152639786164, 1506.7617596080947, 1140.2047655775189, 810.4371661566765, 1498.9325264441684, 953.5053215699926, 5440.888441238544, 1226.894340668833, 3428.7799385494864, 1690.8562589978874, 3218.1212399628134, 2002.8586212351668, 2284.030918605824, 1520.8153024986361, 2754.981866194748, 744.2528888662338, 569.4103821677145, 535.9374093148213, 467.0424832256612, 465.33088196305215, 359.7530727209586, 325.64863362579484, 322.4081140286017, 292.7896196366461, 276.13348966416913, 274.0375849075611, 265.77923458208465, 260.89568419037994, 249.86916962281035, 248.72692922957845, 238.02474411564793, 235.05227010669878, 229.45154757955956, 213.6035450460532, 190.20110516418148, 188.62580091379232, 178.70655497982938, 174.04974194007818, 162.0985558953263, 161.60520325544465, 156.93484549618177, 155.48513881704682, 152.81875743059007, 152.17397474663125, 151.51976613974193, 699.4502231889936, 275.05413334897617, 1145.7968263577914, 432.3779275986575, 792.9828917557649, 223.5558072337192, 1171.8679022884312, 552.0543760447216, 370.26107895923053, 507.8076330265628, 311.3859208178493, 1661.553107428909, 894.4710267237126, 714.9674906152917, 1274.8025746771054, 5647.884585388374, 3537.3360341299226, 6428.995989639716, 1869.191605160432, 687.5050848556672, 911.2271231661589, 1356.8367203882706, 1764.2736953215285, 1146.6628587799432, 1033.580686046493, 930.8333053302291, 875.9262276937438, 824.6259075365798, 797.5004477624482, 776.5246096564078, 594.9427079960914, 571.3280059138684, 503.4704047470987, 485.49072700682734, 347.7488168039323, 334.0799288943144, 283.6002590101162, 282.580417907054, 282.4078797027369, 263.6461226360378, 231.30152048606953, 198.08102668744993, 195.01900159011035, 181.05678366676167, 172.7537660949029, 158.1629226507157, 152.11495826590428, 134.9822439857062, 133.75136915836686, 121.54732104696276, 116.7547342809194, 115.85608731710508, 608.076864274153, 1193.6922482654559, 1587.455405893638, 605.0126401481498, 349.19937517568513, 516.5166804231006, 1855.7296275251574, 1590.075608303477, 386.0875622886093, 2036.104055339274, 1323.2820332112917, 2494.8810373683277, 1794.3079434037315, 720.1492166895715, 1190.8973204436543, 479.68970734218215, 1442.0683258324034, 1264.0949011652249, 2078.8886742286304, 1288.472750793583, 743.2366472696555, 11975.421944130505, 1542.2628581858428, 1403.900423017049, 892.7444270324995, 760.4909417453862, 681.3781311452824, 678.220576975733, 658.4879091232606, 597.3137727630751, 597.0165854386944, 578.4753537503514, 533.1221266511028, 495.6926461986667, 306.3763260952002, 288.70782281999993, 266.7959422736759, 243.43840336010584, 239.79179285762112, 214.46628385401317, 211.67726208250065, 169.39916039152595, 168.65363749934093, 166.986144007469, 162.64410288190768, 161.32927322946648, 155.8321014203372, 152.8629151480239, 152.5662875918139, 148.07809756519927, 145.46601443430137, 136.610972365849, 809.897757058125, 548.6916926662423, 923.722955311497, 1108.4087883692805, 818.1374149663267, 476.48593688839185, 710.6934682196097, 2287.0949008069647, 591.5810098623718, 3003.768631369456, 671.78729104673, 1520.8153024986361, 683.3939122921926, 1603.916491798321, 4580.845384940648, 2036.104055339274, 1264.0949011652249, 1855.7296275251574, 2027.9119751716887, 629.8067192997427, 575.7836120637775, 528.1307032113883, 522.9049785891117, 473.0999226761657, 432.25085915401326, 488.856399254438, 406.50935621789995, 329.66467078301525, 283.675048462987, 246.9334528156443, 246.06370920058805, 238.76848390874807, 232.35936854193488, 224.0951090253496, 218.905122008734, 203.31665806314413, 193.55105211326583, 191.4764263621666, 179.84162104716557, 176.01121129923453, 166.1732960933877, 162.74121275052406, 162.02920460175537, 160.09377674347752, 154.26452523498162, 150.86784940818973, 145.23358267622982, 144.46813312792548, 1223.835140874444, 287.70557760266115, 262.8322692416396, 634.3822401385825, 969.0624653170024, 1661.553107428909, 1095.1553701617356, 553.7119859560587, 1288.472750793583, 1590.075608303477, 1378.077636524049, 1164.0063913590018, 835.2019269436597, 756.129215639012, 613.3483473646211, 395.92616401023776, 354.56357552113207, 348.4892422853138, 323.37788326942757, 322.146329160332, 316.78332988614136, 262.26131907594066, 245.77138508403473, 220.51530805601715, 206.55135049022655, 198.49985294555478, 193.09469120101116, 190.06119459839988, 184.49873435368642, 174.39202926035875, 170.4421900363236, 166.4647147352763, 160.64460249437343, 144.41669041539984, 140.01989478136622, 137.78266305142205, 136.7059664134128, 133.26601154557173, 132.70550663589233, 130.3382711047498, 130.16914319978713, 247.33687811563368, 454.24798636420655, 771.4043459239402, 778.0166202225025, 251.94704040058892, 559.8297927125353, 292.4660329097046, 565.7037255952316, 253.96155977050032, 590.6974249563582, 670.7592850421728, 522.8533545055168, 319.52208613241714, 418.858426852964, 1575.8111534086142, 1439.3322501316984, 1093.954822152788, 477.5854931804838, 465.86736928018007, 447.2242796732521, 441.5569235985847, 383.0018910341226, 378.4351735143397, 326.4086735926618, 283.7617518385377, 225.476058509721, 206.13513771615146, 191.4067645837192, 177.82625761241462, 172.2962726121409, 166.98608117458934, 162.19701343344505, 154.43452758713184, 153.91580705810824, 152.12701808158877, 150.2847464296879, 148.9859425712079, 148.59463962439335, 140.56192824204965, 137.91082926377956, 136.63492339247912, 134.29077023299357, 133.4919474836447, 125.74121312779332, 1033.4858564823471, 407.61277163938223, 366.80851294883655, 455.5557977538399, 902.9167874173213, 3537.3360341299226, 373.60911375748, 238.1703434600573, 1654.726275268326, 333.1898074901262, 2287.0949008069647, 1211.939606015329, 2754.981866194748, 1323.2702071224312, 4558.419898316549, 2658.1272234879384, 335.4065218121273, 750.8606675925057, 503.13911246932014, 497.2275242223374, 439.53103580353775, 422.23707069635964, 412.8111182548212, 375.85162547749127, 338.4398983673265, 337.01983936321363, 279.83578343688123, 265.87532200037316, 256.8175890539257, 243.7541836057617, 216.14766414278017, 201.15794996582667, 196.84748056436277, 194.64708891807567, 192.878688235588, 190.71901600848787, 188.08882720899777, 179.9914730402523, 177.19239031601882, 162.29624764270028, 148.9424715547829, 148.77071890030106, 138.09786459586954, 135.01811738260085, 128.42894219306547, 127.05661634674186, 120.42235066876137, 727.4357387632359, 567.2343129434402, 383.62454087980404, 388.5741245195198, 214.24547377576292, 1443.6430313178898, 427.03753962640695, 384.3725149426453, 1869.191605160432, 599.7966539692511, 777.1519414007405, 2638.294198720796, 714.9674906152917, 2284.419699857544, 797.805127277118, 415.530498163171, 407.21570015516056, 398.94433231471714, 310.4509239668008, 304.43446898734277, 276.4254035215972, 266.7672980819904, 259.63658392853847, 258.99354213140435, 253.22570956977322, 245.9907630022355, 215.9768140546022, 196.08703437413467, 189.5427498633125, 182.63050170907744, 181.89674595288972, 181.14691788541145, 179.168581855442, 177.18321134196046, 171.89389057057485, 159.54253340437612, 156.14080412644407, 152.9118779176114, 143.36912240160976, 141.18840790007098, 139.6711045453555, 130.95284940234376, 130.04366018501187, 596.7910095288609, 189.52097139929916, 654.5359734110991, 1204.6236899999742, 376.55954609194697, 569.330640433658, 601.966796424828, 537.5251919148468, 1506.7617596080947, 821.8101292142208, 364.79770870875285, 955.7734957424152, 553.1081236500313, 245.93971965358188, 1108.4087883692805, 706.97300042728, 523.1832888253348, 466.7455264524561, 464.5636138683553, 291.48060321839364, 264.44948365492934, 201.39158971407153, 195.14874322276808, 182.13685385014006, 182.01290566361686, 179.05994630744146, 175.72870122997844, 171.83592380753893, 167.56678882297786, 166.45902384650853, 160.1876599235768, 158.7689696293399, 157.50282875901692, 150.32304250521983, 149.79500179263457, 147.23174351961293, 142.4178430211121, 139.9248653202804, 139.2119293032376, 139.17103240928517, 138.90738930813183, 134.2675136059192, 131.22914166946154, 130.28666885751676, 129.8862510353537, 126.2409927771454, 213.993441229671, 532.666439809384, 210.93557077443063, 699.5197342057213, 336.92913628319144, 171.128475113267, 438.51896329884954, 1107.8901810810848, 379.1829133199758, 358.0138591433485, 297.85353033531845, 295.3047563362456, 280.82204681978504, 277.51793758813704, 239.51076096584333, 220.37068691707768, 210.46127834921762, 191.98828282986523, 191.89985260640694, 186.70385519670512, 182.436008270562, 172.26755629126112, 170.76277373554157, 156.44282297071737, 155.52547115493135, 148.12132054852222, 130.85545853162998, 128.9641392981095, 127.93669833528791, 124.34187955484771, 123.78044961991958, 109.61797584006682, 106.1667182281285, 97.51634609825412, 93.46398321591813, 92.6856962408456, 92.38670524565899, 287.30012598238966, 424.2942750895064, 451.22282028081844, 380.35476087759525, 607.6121906523233, 510.09709099581823, 2638.294198720796, 266.49202702147, 706.97300042728, 1328.6322834686055, 1869.191605160432, 1602.4255196553775, 898.9578341697526, 1780.4906908279809, 505.7970388755794, 316.1066865403761, 310.75880040579625, 276.0544756792453, 236.27484843447607, 220.04628716409795, 210.37545184636534, 201.02656046521935, 198.2879809494973, 171.6408648064922, 169.16616891116706, 157.81545750244118, 151.45614973670155, 148.27398579998476, 139.1880922019074, 138.98755016414876, 136.43239672104252, 133.1405065217891, 129.22210562990253, 124.30202799600572, 122.3817785898784, 121.38501978999963, 121.07401323433415, 120.62108146838192, 120.61055293431396, 116.72775824037525, 115.38939538650128, 113.76564882119985, 112.17348785920777, 828.9242106221915, 469.29856736426643, 430.1994557859672, 284.6442738604568, 559.5867257420053, 275.57861426438643, 194.10831295134776, 1378.077636524049, 271.56587623438816, 634.2649149259904, 207.03756532930294, 561.519699129185, 446.4373447886475, 441.9727645532111, 391.91053549111103, 363.9212778963626, 348.6872007430051, 347.9990834130367, 305.5554074461359, 262.8121394058141, 251.8102974170402, 249.08935839153204, 238.96696189659585, 238.6917696736618, 205.37184293495343, 190.10930631716988, 182.42512615780367, 157.83177826642947, 153.69255713079545, 152.3711905200093, 146.9951713372341, 146.94259600851566, 145.89687389623276, 144.9832894982639, 142.42330540954268, 140.36601043565483, 127.59695872024412, 126.32346542232975, 126.10635949768417, 117.60330202293142, 116.92981407497052, 597.951196251554, 342.30316791590525, 699.5197342057213, 209.54289249136917, 417.40640861154986, 560.7775121397227, 578.2414633250409, 356.07997386499596, 298.28586910421484, 274.5106049000578, 265.3487730421312, 250.99428448907562, 246.50109912904065, 239.19303680314462, 172.17581441573145, 166.16828451046814, 157.3081548767216, 154.0161942930635, 151.18861343659756, 144.45130838287636, 134.2316957911354, 123.08277156923069, 120.72055768871053, 120.3307758506234, 114.88684351343198, 114.13872052035575, 111.65461316717828, 138.74935985044155, 110.81514980938726, 105.08288734608361, 102.01824042408595, 101.57370429116341, 101.4434048314222, 100.97568457471642, 99.59306564211099, 99.00456864734974, 178.0875738557993, 210.43809612957355, 449.7374690676358, 1066.3391587129167, 559.3948565503819, 559.8297927125353, 397.2034888497203, 1769.588641235229, 1498.1692068045684, 425.9876680865909, 350.84399894246434, 330.24339683120894, 318.7134735125685, 288.8786618393033, 273.91415000346433, 255.64183909737747, 183.05984494384944, 181.42602971929617, 168.86618486768396, 143.89411528726882, 140.19412777714462, 126.29625118255642, 124.07116405465194, 123.51438545790778, 120.685588796457, 119.42072694822717, 118.14334408924759, 110.14127250712433, 110.03943165070827, 108.2398654530524, 106.03497318892649, 98.59927056234254, 94.91229196661699, 94.22478097697017, 89.36380413524508, 86.98514936749788, 85.4427916922259, 312.6966549016749, 1188.380792340265, 182.12291483729913, 1438.4690245647027, 450.77892659132675, 393.5763034617471, 317.55824573697515, 238.1346621484591, 228.32400828789721, 223.71777291808627, 213.6335282909506, 203.07828389164553, 202.4356232640752, 172.87391269895036, 147.14346224139, 140.80775361027722, 131.24484151407307, 130.41139672317465, 127.86012496262795, 113.76006698853362, 111.76355453799343, 108.81968214877361, 95.67976661360368, 93.51406739004527, 81.98306673024994, 81.94591967076975, 80.63608718302082, 79.80775336967376, 76.07506697172418, 71.52983011178148, 71.39726888057612, 71.39190893211973, 68.23171822618474, 228.52815839396172, 100.67980500328578, 201.9206886803857, 627.4909357072808, 268.00862460943137, 255.28021032849105, 99.26700236831255, 107.81738678757709, 381.4089960343646, 308.14759576048186, 1035.9604952422433, 364.79770870875285, 297.3637263491443, 796.7961054909777, 940.7084492119027, 493.9721171950174, 367.8619371738601, 300.6853257754987, 284.98940464683136, 244.55886150061508, 229.81578672743308, 219.93182999524052, 193.26820143531577, 169.9704199345773, 162.6296300611275, 153.64693086183374, 152.587506505435, 145.4896750956365, 137.59246873898215, 136.76700736231268, 125.56281370424435, 120.34632247448242, 119.14829448232373, 116.9621316652736, 116.54651679098103, 115.12423455166281, 114.6400515415756, 114.27317600868341, 110.32180472611192, 108.50132412694362, 101.8717526148408, 92.35290317469719, 89.25437566701764, 87.34997640715113, 524.7469071339907, 160.60280458587633, 615.0142815229432, 173.5106724657317, 253.84385908245488, 255.1074137578081, 683.3808959113117, 497.49023360203955, 352.4037753961676, 327.8933834080505, 312.7579652709912, 300.88874279096046, 278.12590385160655, 273.5155167656018, 248.84067264493277, 203.6433453560763, 193.512246105219, 176.79825199481306, 161.75684710142124, 145.92817945254856, 137.63108387467324, 135.60549373533627, 134.6433681230759, 129.37347165060945, 126.38791556668559, 112.18956119204523, 109.85724909606488, 103.11287643677369, 91.6748702269239, 91.67399207237786, 90.98571864188935, 90.42977109301299, 90.22904738716093, 87.92956553272191, 87.28888418740893, 80.4026451014158, 73.74006351573092, 159.40973620125965, 372.4524565828807, 145.08880143264815, 311.1156776646226, 862.1091947890866, 421.63182896934507, 898.9578341697526], \"Category\": [\"Default\", \"Default\", \"Default\", \"Default\", \"Default\", \"Default\", \"Default\", \"Default\", \"Default\", \"Default\", \"Default\", \"Default\", \"Default\", \"Default\", \"Default\", \"Default\", \"Default\", \"Default\", \"Default\", \"Default\", \"Default\", \"Default\", \"Default\", \"Default\", \"Default\", \"Default\", \"Default\", \"Default\", \"Default\", \"Default\", \"Topic1\", \"Topic1\", \"Topic1\", \"Topic1\", \"Topic1\", \"Topic1\", \"Topic1\", \"Topic1\", \"Topic1\", \"Topic1\", \"Topic1\", \"Topic1\", \"Topic1\", \"Topic1\", \"Topic1\", \"Topic1\", \"Topic1\", \"Topic1\", \"Topic1\", \"Topic1\", \"Topic1\", \"Topic1\", \"Topic1\", \"Topic1\", \"Topic1\", \"Topic1\", \"Topic1\", \"Topic1\", \"Topic1\", \"Topic1\", \"Topic1\", \"Topic1\", \"Topic1\", \"Topic1\", \"Topic1\", \"Topic1\", \"Topic1\", \"Topic1\", \"Topic1\", \"Topic1\", \"Topic1\", \"Topic1\", \"Topic1\", \"Topic1\", \"Topic1\", \"Topic1\", \"Topic1\", \"Topic1\", \"Topic1\", \"Topic1\", \"Topic1\", \"Topic1\", \"Topic1\", \"Topic1\", \"Topic1\", \"Topic1\", \"Topic1\", \"Topic1\", \"Topic1\", \"Topic1\", \"Topic1\", \"Topic1\", \"Topic1\", \"Topic1\", \"Topic1\", \"Topic1\", \"Topic1\", \"Topic1\", \"Topic1\", \"Topic2\", \"Topic2\", \"Topic2\", \"Topic2\", \"Topic2\", \"Topic2\", \"Topic2\", \"Topic2\", \"Topic2\", \"Topic2\", \"Topic2\", \"Topic2\", \"Topic2\", \"Topic2\", \"Topic2\", \"Topic2\", \"Topic2\", \"Topic2\", \"Topic2\", \"Topic2\", \"Topic2\", \"Topic2\", \"Topic2\", \"Topic2\", \"Topic2\", \"Topic2\", \"Topic2\", \"Topic2\", \"Topic2\", \"Topic2\", \"Topic2\", \"Topic2\", \"Topic2\", \"Topic2\", \"Topic2\", \"Topic2\", \"Topic2\", \"Topic2\", \"Topic2\", \"Topic2\", \"Topic2\", \"Topic2\", \"Topic2\", \"Topic2\", \"Topic2\", \"Topic2\", \"Topic2\", \"Topic2\", \"Topic2\", \"Topic2\", \"Topic2\", \"Topic2\", \"Topic2\", \"Topic2\", \"Topic2\", \"Topic2\", \"Topic2\", \"Topic2\", \"Topic2\", \"Topic2\", \"Topic2\", \"Topic2\", \"Topic3\", \"Topic3\", \"Topic3\", \"Topic3\", \"Topic3\", \"Topic3\", \"Topic3\", \"Topic3\", \"Topic3\", \"Topic3\", \"Topic3\", \"Topic3\", \"Topic3\", \"Topic3\", \"Topic3\", \"Topic3\", \"Topic3\", \"Topic3\", \"Topic3\", \"Topic3\", \"Topic3\", \"Topic3\", \"Topic3\", \"Topic3\", \"Topic3\", \"Topic3\", \"Topic3\", \"Topic3\", \"Topic3\", \"Topic3\", \"Topic3\", \"Topic3\", \"Topic3\", \"Topic3\", \"Topic3\", \"Topic3\", \"Topic3\", \"Topic3\", \"Topic3\", \"Topic3\", \"Topic3\", \"Topic3\", \"Topic3\", \"Topic3\", \"Topic3\", \"Topic3\", \"Topic3\", \"Topic3\", \"Topic3\", \"Topic3\", \"Topic3\", \"Topic3\", \"Topic3\", \"Topic3\", \"Topic3\", \"Topic3\", \"Topic3\", \"Topic3\", \"Topic3\", \"Topic3\", \"Topic3\", \"Topic3\", \"Topic3\", \"Topic3\", \"Topic3\", \"Topic4\", \"Topic4\", \"Topic4\", \"Topic4\", \"Topic4\", \"Topic4\", \"Topic4\", \"Topic4\", \"Topic4\", \"Topic4\", \"Topic4\", \"Topic4\", \"Topic4\", \"Topic4\", \"Topic4\", \"Topic4\", \"Topic4\", \"Topic4\", \"Topic4\", \"Topic4\", \"Topic4\", \"Topic4\", \"Topic4\", \"Topic4\", \"Topic4\", \"Topic4\", \"Topic4\", \"Topic4\", \"Topic4\", \"Topic4\", \"Topic4\", \"Topic4\", \"Topic4\", \"Topic4\", \"Topic4\", \"Topic4\", \"Topic4\", \"Topic4\", \"Topic4\", \"Topic4\", \"Topic4\", \"Topic4\", \"Topic4\", \"Topic4\", \"Topic4\", \"Topic4\", \"Topic4\", \"Topic4\", \"Topic4\", \"Topic4\", \"Topic4\", \"Topic4\", \"Topic5\", \"Topic5\", \"Topic5\", \"Topic5\", \"Topic5\", \"Topic5\", \"Topic5\", \"Topic5\", \"Topic5\", \"Topic5\", \"Topic5\", \"Topic5\", \"Topic5\", \"Topic5\", \"Topic5\", \"Topic5\", \"Topic5\", \"Topic5\", \"Topic5\", \"Topic5\", \"Topic5\", \"Topic5\", \"Topic5\", \"Topic5\", \"Topic5\", \"Topic5\", \"Topic5\", \"Topic5\", \"Topic5\", \"Topic5\", \"Topic5\", \"Topic5\", \"Topic5\", \"Topic5\", \"Topic5\", \"Topic5\", \"Topic5\", \"Topic5\", \"Topic5\", \"Topic5\", \"Topic5\", \"Topic5\", \"Topic5\", \"Topic5\", \"Topic5\", \"Topic5\", \"Topic5\", \"Topic5\", \"Topic5\", \"Topic5\", \"Topic5\", \"Topic5\", \"Topic6\", \"Topic6\", \"Topic6\", \"Topic6\", \"Topic6\", \"Topic6\", \"Topic6\", \"Topic6\", \"Topic6\", \"Topic6\", \"Topic6\", \"Topic6\", \"Topic6\", \"Topic6\", \"Topic6\", \"Topic6\", \"Topic6\", \"Topic6\", \"Topic6\", \"Topic6\", \"Topic6\", \"Topic6\", \"Topic6\", \"Topic6\", \"Topic6\", \"Topic6\", \"Topic6\", \"Topic6\", \"Topic6\", \"Topic6\", \"Topic6\", \"Topic6\", \"Topic6\", \"Topic6\", \"Topic6\", \"Topic6\", \"Topic6\", \"Topic6\", \"Topic6\", \"Topic6\", \"Topic6\", \"Topic6\", \"Topic6\", \"Topic6\", \"Topic6\", \"Topic6\", \"Topic6\", \"Topic6\", \"Topic7\", \"Topic7\", \"Topic7\", \"Topic7\", \"Topic7\", \"Topic7\", \"Topic7\", \"Topic7\", \"Topic7\", \"Topic7\", \"Topic7\", \"Topic7\", \"Topic7\", \"Topic7\", \"Topic7\", \"Topic7\", \"Topic7\", \"Topic7\", \"Topic7\", \"Topic7\", \"Topic7\", \"Topic7\", \"Topic7\", \"Topic7\", \"Topic7\", \"Topic7\", \"Topic7\", \"Topic7\", \"Topic7\", \"Topic7\", \"Topic7\", \"Topic7\", \"Topic7\", \"Topic7\", \"Topic7\", \"Topic7\", \"Topic7\", \"Topic7\", \"Topic7\", \"Topic7\", \"Topic7\", \"Topic8\", \"Topic8\", \"Topic8\", \"Topic8\", \"Topic8\", \"Topic8\", \"Topic8\", \"Topic8\", \"Topic8\", \"Topic8\", \"Topic8\", \"Topic8\", \"Topic8\", \"Topic8\", \"Topic8\", \"Topic8\", \"Topic8\", \"Topic8\", \"Topic8\", \"Topic8\", \"Topic8\", \"Topic8\", \"Topic8\", \"Topic8\", \"Topic8\", \"Topic8\", \"Topic8\", \"Topic8\", \"Topic8\", \"Topic8\", \"Topic8\", \"Topic8\", \"Topic8\", \"Topic8\", \"Topic8\", \"Topic8\", \"Topic8\", \"Topic8\", \"Topic8\", \"Topic8\", \"Topic8\", \"Topic8\", \"Topic8\", \"Topic8\", \"Topic9\", \"Topic9\", \"Topic9\", \"Topic9\", \"Topic9\", \"Topic9\", \"Topic9\", \"Topic9\", \"Topic9\", \"Topic9\", \"Topic9\", \"Topic9\", \"Topic9\", \"Topic9\", \"Topic9\", \"Topic9\", \"Topic9\", \"Topic9\", \"Topic9\", \"Topic9\", \"Topic9\", \"Topic9\", \"Topic9\", \"Topic9\", \"Topic9\", \"Topic9\", \"Topic9\", \"Topic9\", \"Topic9\", \"Topic9\", \"Topic9\", \"Topic9\", \"Topic9\", \"Topic9\", \"Topic9\", \"Topic9\", \"Topic9\", \"Topic9\", \"Topic9\", \"Topic9\", \"Topic9\", \"Topic9\", \"Topic9\", \"Topic9\", \"Topic9\", \"Topic9\", \"Topic9\", \"Topic10\", \"Topic10\", \"Topic10\", \"Topic10\", \"Topic10\", \"Topic10\", \"Topic10\", \"Topic10\", \"Topic10\", \"Topic10\", \"Topic10\", \"Topic10\", \"Topic10\", \"Topic10\", \"Topic10\", \"Topic10\", \"Topic10\", \"Topic10\", \"Topic10\", \"Topic10\", \"Topic10\", \"Topic10\", \"Topic10\", \"Topic10\", \"Topic10\", \"Topic10\", \"Topic10\", \"Topic10\", \"Topic10\", \"Topic10\", \"Topic10\", \"Topic10\", \"Topic10\", \"Topic10\", \"Topic10\", \"Topic10\", \"Topic10\", \"Topic10\", \"Topic10\", \"Topic10\", \"Topic10\", \"Topic10\", \"Topic10\", \"Topic11\", \"Topic11\", \"Topic11\", \"Topic11\", \"Topic11\", \"Topic11\", \"Topic11\", \"Topic11\", \"Topic11\", \"Topic11\", \"Topic11\", \"Topic11\", \"Topic11\", \"Topic11\", \"Topic11\", \"Topic11\", \"Topic11\", \"Topic11\", \"Topic11\", \"Topic11\", \"Topic11\", \"Topic11\", \"Topic11\", \"Topic11\", \"Topic11\", \"Topic11\", \"Topic11\", \"Topic11\", \"Topic11\", \"Topic11\", \"Topic11\", \"Topic11\", \"Topic11\", \"Topic11\", \"Topic11\", \"Topic11\", \"Topic11\", \"Topic11\", \"Topic11\", \"Topic11\", \"Topic11\", \"Topic11\", \"Topic11\", \"Topic11\", \"Topic11\", \"Topic11\", \"Topic12\", \"Topic12\", \"Topic12\", \"Topic12\", \"Topic12\", \"Topic12\", \"Topic12\", \"Topic12\", \"Topic12\", \"Topic12\", \"Topic12\", \"Topic12\", \"Topic12\", \"Topic12\", \"Topic12\", \"Topic12\", \"Topic12\", \"Topic12\", \"Topic12\", \"Topic12\", \"Topic12\", \"Topic12\", \"Topic12\", \"Topic12\", \"Topic12\", \"Topic12\", \"Topic12\", \"Topic12\", \"Topic12\", \"Topic12\", \"Topic12\", \"Topic12\", \"Topic12\", \"Topic12\", \"Topic12\", \"Topic12\", \"Topic12\", \"Topic13\", \"Topic13\", \"Topic13\", \"Topic13\", \"Topic13\", \"Topic13\", \"Topic13\", \"Topic13\", \"Topic13\", \"Topic13\", \"Topic13\", \"Topic13\", \"Topic13\", \"Topic13\", \"Topic13\", \"Topic13\", \"Topic13\", \"Topic13\", \"Topic13\", \"Topic13\", \"Topic13\", \"Topic13\", \"Topic13\", \"Topic13\", \"Topic13\", \"Topic13\", \"Topic13\", \"Topic13\", \"Topic13\", \"Topic13\", \"Topic13\", \"Topic13\", \"Topic13\", \"Topic13\", \"Topic13\", \"Topic13\", \"Topic13\", \"Topic13\", \"Topic13\", \"Topic13\", \"Topic13\", \"Topic13\", \"Topic13\", \"Topic14\", \"Topic14\", \"Topic14\", \"Topic14\", \"Topic14\", \"Topic14\", \"Topic14\", \"Topic14\", \"Topic14\", \"Topic14\", \"Topic14\", \"Topic14\", \"Topic14\", \"Topic14\", \"Topic14\", \"Topic14\", \"Topic14\", \"Topic14\", \"Topic14\", \"Topic14\", \"Topic14\", \"Topic14\", \"Topic14\", \"Topic14\", \"Topic14\", \"Topic14\", \"Topic14\", \"Topic14\", \"Topic14\", \"Topic14\", \"Topic14\", \"Topic14\", \"Topic14\", \"Topic14\", \"Topic14\", \"Topic14\", \"Topic14\", \"Topic14\", \"Topic14\", \"Topic14\", \"Topic14\", \"Topic15\", \"Topic15\", \"Topic15\", \"Topic15\", \"Topic15\", \"Topic15\", \"Topic15\", \"Topic15\", \"Topic15\", \"Topic15\", \"Topic15\", \"Topic15\", \"Topic15\", \"Topic15\", \"Topic15\", \"Topic15\", \"Topic15\", \"Topic15\", \"Topic15\", \"Topic15\", \"Topic15\", \"Topic15\", \"Topic15\", \"Topic15\", \"Topic15\", \"Topic15\", \"Topic15\", \"Topic15\", \"Topic15\", \"Topic15\", \"Topic15\", \"Topic15\", \"Topic15\", \"Topic15\", \"Topic15\", \"Topic15\", \"Topic16\", \"Topic16\", \"Topic16\", \"Topic16\", \"Topic16\", \"Topic16\", \"Topic16\", \"Topic16\", \"Topic16\", \"Topic16\", \"Topic16\", \"Topic16\", \"Topic16\", \"Topic16\", \"Topic16\", \"Topic16\", \"Topic16\", \"Topic16\", \"Topic16\", \"Topic16\", \"Topic16\", \"Topic16\", \"Topic16\", \"Topic16\", \"Topic16\", \"Topic16\", \"Topic16\", \"Topic16\", \"Topic16\", \"Topic16\", \"Topic16\", \"Topic16\", \"Topic16\", \"Topic16\", \"Topic16\", \"Topic16\", \"Topic16\", \"Topic17\", \"Topic17\", \"Topic17\", \"Topic17\", \"Topic17\", \"Topic17\", \"Topic17\", \"Topic17\", \"Topic17\", \"Topic17\", \"Topic17\", \"Topic17\", \"Topic17\", \"Topic17\", \"Topic17\", \"Topic17\", \"Topic17\", \"Topic17\", \"Topic17\", \"Topic17\", \"Topic17\", \"Topic17\", \"Topic17\", \"Topic17\", \"Topic17\", \"Topic17\", \"Topic17\", \"Topic17\", \"Topic17\", \"Topic17\", \"Topic17\", \"Topic17\", \"Topic17\", \"Topic18\", \"Topic18\", \"Topic18\", \"Topic18\", \"Topic18\", \"Topic18\", \"Topic18\", \"Topic18\", \"Topic18\", \"Topic18\", \"Topic18\", \"Topic18\", \"Topic18\", \"Topic18\", \"Topic18\", \"Topic18\", \"Topic18\", \"Topic18\", \"Topic18\", \"Topic18\", \"Topic18\", \"Topic18\", \"Topic18\", \"Topic18\", \"Topic18\", \"Topic18\", \"Topic18\", \"Topic18\", \"Topic18\", \"Topic18\", \"Topic18\", \"Topic18\", \"Topic18\", \"Topic18\", \"Topic18\", \"Topic18\", \"Topic18\", \"Topic18\", \"Topic18\", \"Topic18\", \"Topic18\", \"Topic18\", \"Topic18\", \"Topic18\", \"Topic19\", \"Topic19\", \"Topic19\", \"Topic19\", \"Topic19\", \"Topic19\", \"Topic19\", \"Topic19\", \"Topic19\", \"Topic19\", \"Topic19\", \"Topic19\", \"Topic19\", \"Topic19\", \"Topic19\", \"Topic19\", \"Topic19\", \"Topic19\", \"Topic19\", \"Topic19\", \"Topic19\", \"Topic19\", \"Topic19\", \"Topic19\", \"Topic19\", \"Topic19\", \"Topic19\", \"Topic19\", \"Topic19\", \"Topic19\", \"Topic19\", \"Topic19\", \"Topic19\", \"Topic19\", \"Topic19\", \"Topic19\", \"Topic19\", \"Topic20\", \"Topic20\", \"Topic20\", \"Topic20\", \"Topic20\", \"Topic20\", \"Topic20\", \"Topic20\", \"Topic20\", \"Topic20\", \"Topic20\", \"Topic20\", \"Topic20\", \"Topic20\", \"Topic20\", \"Topic20\", \"Topic20\", \"Topic20\", \"Topic20\", \"Topic20\", \"Topic20\", \"Topic20\", \"Topic20\", \"Topic20\", \"Topic20\", \"Topic20\", \"Topic20\", \"Topic20\", \"Topic20\", \"Topic20\", \"Topic20\", \"Topic20\", \"Topic20\", \"Topic20\", \"Topic20\", \"Topic20\", \"Topic20\"], \"logprob\": [30.0, 29.0, 28.0, 27.0, 26.0, 25.0, 24.0, 23.0, 22.0, 21.0, 20.0, 19.0, 18.0, 17.0, 16.0, 15.0, 14.0, 13.0, 12.0, 11.0, 10.0, 9.0, 8.0, 7.0, 6.0, 5.0, 4.0, 3.0, 2.0, 1.0, -3.8715999126434326, -4.861199855804443, -5.262899875640869, -5.317599773406982, -5.525599956512451, -5.540900230407715, -5.729599952697754, -5.800099849700928, -5.976099967956543, -6.013000011444092, -6.020500183105469, -6.088500022888184, -6.093200206756592, -6.10890007019043, -6.171299934387207, -6.365200042724609, -6.494500160217285, -6.495999813079834, -6.520999908447266, -6.548500061035156, -6.623000144958496, -6.660799980163574, -6.687399864196777, -6.702499866485596, -6.756400108337402, -6.788599967956543, -6.802800178527832, -6.8231000900268555, -6.837900161743164, -6.900599956512451, -3.7464001178741455, -3.933500051498413, -4.549699783325195, -4.572999954223633, -5.20419979095459, -5.714000225067139, -4.417500019073486, -3.3394999504089355, -5.670000076293945, -3.936500072479248, -3.208199977874756, -6.0868000984191895, -4.371799945831299, -4.6031999588012695, -5.047900199890137, -5.002799987792969, -3.2541000843048096, -4.8744001388549805, -4.697400093078613, -5.307300090789795, -3.9361000061035156, -4.416200160980225, -4.251299858093262, -5.282599925994873, -4.6859002113342285, -5.327600002288818, -4.333899974822998, -5.243899822235107, -4.623600006103516, -4.2600998878479, -4.4618000984191895, -4.746099948883057, -4.300600051879883, -4.80109977722168, -4.810500144958496, -5.1006999015808105, -4.968900203704834, -4.855199813842773, -4.9770002365112305, -4.276500225067139, -4.294099807739258, -4.763400077819824, -4.918499946594238, -5.125199794769287, -5.250999927520752, -5.416600227355957, -5.417399883270264, -5.465700149536133, -5.515699863433838, -5.516499996185303, -5.52869987487793, -5.5945000648498535, -5.6153998374938965, -5.629899978637695, -5.6529998779296875, -5.764800071716309, -5.837600231170654, -5.888599872589111, -5.92110013961792, -5.930200099945068, -5.940899848937988, -5.945199966430664, -6.043300151824951, -6.112100124359131, -6.1743998527526855, -6.195000171661377, -6.2571001052856445, -6.301499843597412, -6.312399864196777, -4.4430999755859375, -5.026800155639648, -5.046999931335449, -5.874199867248535, -4.7667999267578125, -5.662899971008301, -5.310999870300293, -3.678499937057495, -5.300099849700928, -5.070000171661377, -4.73859977722168, -5.184899806976318, -3.8808000087738037, -5.254499912261963, -5.502699851989746, -4.679100036621094, -4.806000232696533, -4.397799968719482, -5.077000141143799, -5.388299942016602, -4.9217000007629395, -4.652299880981445, -4.643400192260742, -5.02869987487793, -5.297299861907959, -5.0269999504089355, -4.788099765777588, -5.124599933624268, -5.198500156402588, -5.189499855041504, -5.2241997718811035, -5.189499855041504, -3.688499927520752, -5.222499847412109, -5.3180999755859375, -5.399199962615967, -5.566199779510498, -5.583199977874756, -5.595099925994873, -5.604100227355957, -5.678100109100342, -5.684899806976318, -5.705100059509277, -5.724699974060059, -5.740300178527832, -5.921000003814697, -5.942500114440918, -5.953199863433838, -5.964799880981445, -5.981900215148926, -6.004000186920166, -6.017399787902832, -6.036499977111816, -6.042200088500977, -6.042300224304199, -6.068900108337402, -6.089900016784668, -6.093599796295166, -6.106200218200684, -6.12060022354126, -6.122099876403809, -6.151400089263916, -4.888000011444092, -5.761499881744385, -5.3246002197265625, -4.986400127410889, -4.679500102996826, -3.58270001411438, -5.427499771118164, -5.270400047302246, -4.290200233459473, -4.996600151062012, -4.963600158691406, -5.403800010681152, -5.130499839782715, -5.780799865722656, -5.188399791717529, -4.421000003814697, -5.359600067138672, -4.801700115203857, -4.895999908447266, -5.042099952697754, -4.151299953460693, -4.908199787139893, -5.108399868011475, -5.339600086212158, -4.954400062561035, -5.24429988861084, -4.252799987792969, -5.1427998542785645, -4.676499843597412, -5.082799911499023, -4.8765997886657715, -5.084799766540527, -5.087299823760986, -5.2204999923706055, -5.296500205993652, -4.414599895477295, -4.682799816131592, -4.743500232696533, -4.881400108337402, -4.885000228881836, -5.14300012588501, -5.2428998947143555, -5.252900123596191, -5.349599838256836, -5.408299922943115, -5.415999889373779, -5.446700096130371, -5.4653000831604, -5.508699893951416, -5.513299942016602, -5.557400226593018, -5.570000171661377, -5.594299793243408, -5.666100025177002, -5.782700061798096, -5.791100025177002, -5.845399856567383, -5.872000217437744, -5.94350004196167, -5.946599960327148, -5.976099967956543, -5.985400199890137, -6.002799987792969, -6.0071001052856445, -6.01140022277832, -4.492400169372559, -5.430099964141846, -4.0524001121521, -4.99459981918335, -4.446000099182129, -5.65939998626709, -4.2104997634887695, -4.876399993896484, -5.230100154876709, -5.026899814605713, -5.420599937438965, -4.231400012969971, -4.687099933624268, -4.90939998626709, -4.712600231170654, -3.972100019454956, -4.44350004196167, -4.568900108337402, -5.227499961853027, -5.348100185394287, -5.328400135040283, -5.404600143432617, -3.4217000007629395, -3.8529000282287598, -3.9567999839782715, -4.061600208282471, -4.122499942779541, -4.1828999519348145, -4.216400146484375, -4.243100166320801, -4.509799957275391, -4.5503997802734375, -4.67710018157959, -4.713500022888184, -5.047999858856201, -5.088200092315674, -5.252500057220459, -5.256199836730957, -5.256800174713135, -5.325799942016602, -5.457200050354004, -5.6128997802734375, -5.628600120544434, -5.7032999992370605, -5.750500202178955, -5.839200019836426, -5.878499984741211, -5.998799800872803, -6.007999897003174, -6.104400157928467, -6.144999980926514, -6.1528000831604, -4.512700080871582, -3.865799903869629, -3.615799903869629, -4.570499897003174, -5.095600128173828, -4.729800224304199, -3.5636000633239746, -3.7300000190734863, -5.027100086212158, -3.642699956893921, -4.074100017547607, -3.697200059890747, -3.9514999389648438, -4.705699920654297, -4.4243998527526855, -4.960700035095215, -4.392399787902832, -4.527299880981445, -4.316800117492676, -4.541200160980225, -4.773399829864502, -4.053199768066406, -3.3450000286102295, -3.4391000270843506, -3.892199993133545, -4.052700042724609, -4.162700176239014, -4.167399883270264, -4.196899890899658, -4.294600009918213, -4.295100212097168, -4.326700210571289, -4.4085001945495605, -4.481400012969971, -4.963799953460693, -5.023399829864502, -5.10260009765625, -5.194499969482422, -5.209700107574463, -5.321800231933594, -5.33489990234375, -5.558899879455566, -5.563300132751465, -5.573299884796143, -5.599800109863281, -5.607999801635742, -5.642899990081787, -5.662199974060059, -5.6641998291015625, -5.694200038909912, -5.712200164794922, -5.775400161743164, -4.007900238037109, -4.473400115966797, -4.0152997970581055, -3.898900032043457, -4.255499839782715, -4.7144999504089355, -4.557199954986572, -3.9484000205993652, -4.813600063323975, -3.914400100708008, -4.84060001373291, -4.423399925231934, -4.889100074768066, -4.6631999015808105, -4.39739990234375, -4.6528000831604, -4.842100143432617, -4.902200222015381, -2.9126999378204346, -4.083099842071533, -4.172999858856201, -4.259500026702881, -4.269499778747559, -4.369800090789795, -4.460299968719482, -4.337299823760986, -4.5218000411987305, -4.731900215148926, -4.882599830627441, -5.021900177001953, -5.025400161743164, -5.055600166320801, -5.082900047302246, -5.11929988861084, -5.1427998542785645, -5.217100143432617, -5.266499996185303, -5.277400016784668, -5.340400218963623, -5.361999988555908, -5.419899940490723, -5.440899848937988, -5.445300102233887, -5.457399845123291, -5.494699954986572, -5.517099857330322, -5.5553998947143555, -5.560699939727783, -3.5139000415802, -4.917200088500977, -5.071100234985352, -4.416600227355957, -4.219699859619141, -3.8833999633789062, -4.2519001960754395, -4.708399772644043, -4.337900161743164, -4.844699859619141, -5.135000228881836, -3.4505999088287354, -3.782900094985962, -3.8824000358581543, -4.0920000076293945, -4.530600070953369, -4.641200065612793, -4.658599853515625, -4.73360013961792, -4.737400054931641, -4.754199981689453, -4.94379997253418, -5.008999824523926, -5.117800235748291, -5.183599948883057, -5.223499774932861, -5.251299858093262, -5.267199993133545, -5.296999931335449, -5.353700160980225, -5.376699924468994, -5.4004998207092285, -5.436299800872803, -5.543499946594238, -5.5746002197265625, -5.590799808502197, -5.598700046539307, -5.6244001388549805, -5.628600120544434, -5.6468000411987305, -5.648099899291992, -5.014200210571289, -4.551599979400635, -4.133500099182129, -4.220300197601318, -5.146500110626221, -4.618199825286865, -5.098100185394287, -4.7565999031066895, -5.236000061035156, -4.977399826049805, -5.03439998626709, -5.178999900817871, -5.261499881744385, -5.256800174713135, -3.145900011062622, -3.236599922180176, -3.511199951171875, -4.341100215911865, -4.366000175476074, -4.4070000648498535, -4.4197001457214355, -4.562300205230713, -4.574399948120117, -4.722700119018555, -4.863100051879883, -5.093999862670898, -5.184100151062012, -5.258600234985352, -5.332499980926514, -5.364299774169922, -5.3958001136779785, -5.425099849700928, -5.474400043487549, -5.477799892425537, -5.48960018157959, -5.501800060272217, -5.5106000900268555, -5.513199806213379, -5.569200038909912, -5.5883002281188965, -5.597700119018555, -5.615099906921387, -5.621099948883057, -5.681399822235107, -3.7279999256134033, -4.589399814605713, -4.765900135040283, -4.614999771118164, -4.082600116729736, -3.3262999057769775, -5.050099849700928, -5.283199787139893, -4.395899772644043, -5.183599948883057, -4.436399936676025, -4.83459997177124, -4.6407999992370605, -4.97130012512207, -4.8078999519348145, -5.075200080871582, -5.278299808502197, -3.862799882888794, -4.263800144195557, -4.275599956512451, -4.399199962615967, -4.4394001960754395, -4.462100028991699, -4.556099891662598, -4.661200046539307, -4.66540002822876, -4.8520002365112305, -4.903299808502197, -4.9380998611450195, -4.990499973297119, -5.111299991607666, -5.183499813079834, -5.2052001953125, -5.2164998054504395, -5.2256999015808105, -5.236999988555908, -5.250999927520752, -5.295199871063232, -5.310999870300293, -5.3993000984191895, -5.4857001304626465, -5.4868998527526855, -5.561800003051758, -5.58459997177124, -5.635000228881836, -5.6458001136779785, -5.69980001449585, -3.9091999530792236, -4.163099765777588, -4.651000022888184, -4.657599925994873, -5.219200134277344, -4.218999862670898, -4.99399995803833, -5.0777997970581055, -4.7677998542785645, -5.143499851226807, -5.173600196838379, -5.162600040435791, -5.2118000984191895, -2.6659998893737793, -3.7188000679016113, -4.372200012207031, -4.392499923706055, -4.413000106811523, -4.6645002365112305, -4.684199810028076, -4.781000137329102, -4.816699981689453, -4.843900203704834, -4.846399784088135, -4.86899995803833, -4.898099899291992, -5.028800010681152, -5.125800132751465, -5.159999847412109, -5.197299957275391, -5.201399803161621, -5.20550012588501, -5.216599941253662, -5.227799892425537, -5.258200168609619, -5.333199977874756, -5.354899883270264, -5.375999927520752, -5.440800189971924, -5.456299781799316, -5.467100143432617, -5.532100200653076, -5.539100170135498, -4.098700046539307, -5.18310022354126, -4.055200099945068, -3.690999984741211, -4.698500156402588, -4.418000221252441, -4.401700019836426, -4.484099864959717, -4.289700031280518, -4.611499786376953, -4.962500095367432, -4.854400157928467, -4.999300003051758, -5.148799896240234, -4.9980998039245605, -5.1006999015808105, -4.05109977722168, -4.16540002822876, -4.170100212097168, -4.637499809265137, -4.735199928283691, -5.008699893951416, -5.04040002822876, -5.1097002029418945, -5.110400199890137, -5.1269001960754395, -5.145699977874756, -5.168300151824951, -5.193600177764893, -5.200200080871582, -5.238900184631348, -5.247799873352051, -5.255899906158447, -5.302800178527832, -5.306399822235107, -5.323800086975098, -5.3572001457214355, -5.375, -5.380199909210205, -5.38040018081665, -5.382400035858154, -5.416600227355957, -5.439599990844727, -5.446899890899658, -5.449999809265137, -5.478700160980225, -5.007800102233887, -4.218999862670898, -5.176599979400635, -4.513199806213379, -4.967299938201904, -5.321300029754639, -5.190400123596191, -3.177999973297119, -4.2519001960754395, -4.309500217437744, -4.49399995803833, -4.502600193023682, -4.553100109100342, -4.564899921417236, -4.712800025939941, -4.79640007019043, -4.842599868774414, -4.934999942779541, -4.935400009155273, -4.9629998207092285, -4.986299991607666, -5.043900012969971, -5.052800178527832, -5.140900135040283, -5.1468000411987305, -5.195899963378906, -5.320700168609619, -5.335400104522705, -5.343400001525879, -5.372099876403809, -5.376699924468994, -5.499199867248535, -5.531499862670898, -5.617300033569336, -5.660200119018555, -5.668700218200684, -5.671899795532227, -4.539999961853027, -4.255000114440918, -4.245999813079834, -4.421299934387207, -4.136199951171875, -4.334499835968018, -3.671299934387207, -4.956699848175049, -4.43779993057251, -4.1691999435424805, -4.240099906921387, -4.649499893188477, -4.906400203704834, -2.6178998947143555, -3.877700090408325, -4.348999977111816, -4.366099834442139, -4.484899997711182, -4.64109992980957, -4.712600231170654, -4.757699966430664, -4.803400039672852, -4.817200183868408, -4.962299823760986, -4.976900100708008, -5.046800136566162, -5.088099956512451, -5.109499931335449, -5.1732001304626465, -5.174600124359131, -5.193299770355225, -5.217899799346924, -5.248000144958496, -5.287199974060059, -5.302800178527832, -5.311100006103516, -5.313700199127197, -5.317500114440918, -5.317500114440918, -5.350500106811523, -5.362199783325195, -5.376500129699707, -5.390699863433838, -3.4883999824523926, -4.069799900054932, -4.208899974822998, -4.595900058746338, -4.36329984664917, -4.842800140380859, -5.139599800109863, -4.659999847412109, -5.107699871063232, -4.95389986038208, -5.226600170135498, -3.696199893951416, -3.9260001182556152, -3.936000108718872, -4.05649995803833, -4.130799770355225, -4.173699855804443, -4.1757001876831055, -4.306099891662598, -4.457300186157227, -4.50029993057251, -4.511199951171875, -4.552800178527832, -4.553999900817871, -4.704999923706055, -4.782599925994873, -4.824100017547607, -4.969699859619141, -4.996500015258789, -5.005199909210205, -5.041299819946289, -5.0416998863220215, -5.048900127410889, -5.055200099945068, -5.0731000900268555, -5.087800025939941, -5.183899879455566, -5.193999767303467, -5.195700168609619, -5.26609992980957, -5.271900177001953, -3.830699920654297, -4.485599994659424, -4.161300182342529, -4.936600208282471, -4.60890007019043, -4.551199913024902, -3.6135001182556152, -4.099400043487549, -4.2769999504089355, -4.360400199890137, -4.394499778747559, -4.450300216674805, -4.468400001525879, -4.498600006103516, -4.828999996185303, -4.864699840545654, -4.919899940490723, -4.941100120544434, -4.959799766540527, -5.00570011138916, -5.080100059509277, -5.166999816894531, -5.186500072479248, -5.189799785614014, -5.236400127410889, -5.243000030517578, -5.265200138092041, -5.047999858856201, -5.272799968719482, -5.326399803161621, -5.356299877166748, -5.3607001304626465, -5.361999988555908, -5.366700172424316, -5.3805999755859375, -5.386600017547607, -4.980199813842773, -4.922100067138672, -4.521999835968018, -4.572400093078613, -5.057300090789795, -5.208499908447266, -5.2743000984191895, -2.4147000312805176, -2.5813000202178955, -3.8405001163482666, -4.035099983215332, -4.095799922943115, -4.131400108337402, -4.230000019073486, -4.283400058746338, -4.352700233459473, -4.688199996948242, -4.697199821472168, -4.7692999839782715, -4.9303998947143555, -4.956600189208984, -5.061699867248535, -5.079699993133545, -5.084199905395508, -5.107500076293945, -5.118199825286865, -5.129000186920166, -5.199699878692627, -5.200699806213379, -5.217299938201904, -5.238100051879883, -5.311500072479248, -5.349999904632568, -5.3572998046875, -5.410900115966797, -5.4380998611450195, -5.456200122833252, -4.298999786376953, -3.4403998851776123, -5.0152997970581055, -2.6166000366210938, -3.77839994430542, -3.9144999980926514, -4.129700183868408, -4.418499946594238, -4.4608001708984375, -4.481200218200684, -4.527599811553955, -4.578499794006348, -4.581699848175049, -4.7403998374938965, -4.902500152587891, -4.946800231933594, -5.0177001953125, -5.024099826812744, -5.044000148773193, -5.161799907684326, -5.179699897766113, -5.206600189208984, -5.33650016784668, -5.3597002029418945, -5.492800235748291, -5.493199825286865, -5.509500026702881, -5.519999980926514, -5.56850004196167, -5.630899906158447, -5.632999897003174, -5.633299827575684, -5.678800106048584, -4.523200035095215, -5.327300071716309, -4.709099769592285, -3.8192999362945557, -4.561699867248535, -4.687600135803223, -5.364299774169922, -5.311500072479248, -4.650599956512451, -4.820899963378906, -4.505099773406982, -4.988399982452393, -5.091100215911865, -5.222300052642822, -2.976300001144409, -3.6214001178741455, -3.9168999195098877, -4.119100093841553, -4.172900199890137, -4.326499938964844, -4.388899803161621, -4.43310022354126, -4.562900066375732, -4.6921000480651855, -4.736499786376953, -4.793700218200684, -4.800600051879883, -4.848599910736084, -4.904799938201904, -4.910900115966797, -4.997000217437744, -5.039700031280518, -5.049799919128418, -5.06850004196167, -5.0721001625061035, -5.084499835968018, -5.088699817657471, -5.0920000076293945, -5.127500057220459, -5.1442999839782715, -5.207900047302246, -5.307000160217285, -5.3414998054504395, -5.36329984664917, -3.888000011444092, -4.889200210571289, -4.160099983215332, -4.985799789428711, -4.835999965667725, -4.8668999671936035, -4.8730998039245605, -3.5327000617980957, -3.8782999515533447, -3.9505999088287354, -3.997999906539917, -4.036799907684326, -4.115699768066406, -4.132500171661377, -4.227399826049805, -4.428699970245361, -4.480000019073486, -4.570799827575684, -4.660299777984619, -4.763899803161621, -4.82289981842041, -4.837800025939941, -4.84499979019165, -4.885200023651123, -4.908699989318848, -5.028900146484375, -5.050099849700928, -5.113999843597412, -5.232800006866455, -5.232800006866455, -5.2403998374938965, -5.246600151062012, -5.248899936676025, -5.275000095367432, -5.282400131225586, -5.365499973297119, -5.453100204467773, -4.692699909210205, -3.8680999279022217, -4.936999797821045, -4.6209001541137695, -4.202899932861328, -4.704100131988525, -4.820799827575684], \"loglift\": [30.0, 29.0, 28.0, 27.0, 26.0, 25.0, 24.0, 23.0, 22.0, 21.0, 20.0, 19.0, 18.0, 17.0, 16.0, 15.0, 14.0, 13.0, 12.0, 11.0, 10.0, 9.0, 8.0, 7.0, 6.0, 5.0, 4.0, 3.0, 2.0, 1.0, 1.4196, 1.4193, 1.4191, 1.4191, 1.4189, 1.4189, 1.4187, 1.4186, 1.4184, 1.4183, 1.4183, 1.4182, 1.4182, 1.4182, 1.4181, 1.4177, 1.4174, 1.4174, 1.4174, 1.4173, 1.4171, 1.417, 1.4169, 1.4169, 1.4167, 1.4166, 1.4166, 1.4165, 1.4165, 1.4162, 1.4142, 1.4103, 1.4133, 1.4044, 1.4101, 1.409, 1.3939, 1.3811, 1.4044, 1.366, 1.3382, 1.4044, 1.3493, 1.3563, 1.3697, 1.3621, 1.2864, 1.3526, 1.3325, 1.3619, 1.2492, 1.2835, 1.2609, 1.3546, 1.2208, 1.3403, 1.1508, 1.3223, 1.1748, 1.0551, 1.1018, 1.1458, 0.9542, 1.0336, 0.9861, 1.2523, 0.9803, 0.3131, 0.8834, 1.8491, 1.849, 1.8488, 1.8487, 1.8485, 1.8484, 1.8482, 1.8482, 1.8481, 1.8481, 1.8481, 1.8481, 1.848, 1.8479, 1.8479, 1.8479, 1.8477, 1.8476, 1.8475, 1.8474, 1.8474, 1.8474, 1.8473, 1.8471, 1.847, 1.8468, 1.8468, 1.8466, 1.8464, 1.8464, 1.84, 1.8229, 1.821, 1.8371, 1.7902, 1.8158, 1.7864, 1.6195, 1.7706, 1.7146, 1.5805, 1.6562, 1.2875, 1.6704, 1.7271, 1.295, 1.2455, 0.9374, 1.424, 1.6077, 1.033, 0.6628, 0.6113, 1.1073, 1.4477, 0.5366, -0.2477, 0.7102, 0.7308, 0.6072, 0.837, -0.0041, 2.0843, 2.0833, 2.0831, 2.083, 2.0827, 2.0827, 2.0827, 2.0827, 2.0825, 2.0825, 2.0825, 2.0824, 2.0824, 2.082, 2.0819, 2.0819, 2.0819, 2.0818, 2.0818, 2.0817, 2.0817, 2.0816, 2.0816, 2.0816, 2.0815, 2.0815, 2.0815, 2.0814, 2.0814, 2.0813, 2.0638, 2.0745, 2.0516, 2.0355, 2.0046, 1.9246, 2.0412, 2.0185, 1.9195, 1.9789, 1.9539, 1.9936, 1.9498, 2.0453, 1.9014, 1.6848, 1.9276, 1.7551, 1.7618, 1.8128, 1.4084, 1.7111, 1.7896, 1.8998, 1.67, 1.8325, 1.0824, 1.6819, 1.1205, 1.4212, 0.9838, 1.2498, 1.1159, 1.3894, 0.7192, 2.9099, 2.9095, 2.9094, 2.9092, 2.9092, 2.9085, 2.9083, 2.9082, 2.9079, 2.9077, 2.9077, 2.9076, 2.9075, 2.9074, 2.9073, 2.9072, 2.9071, 2.907, 2.9067, 2.9061, 2.9061, 2.9058, 2.9056, 2.9052, 2.9052, 2.905, 2.905, 2.9049, 2.9048, 2.9048, 2.8942, 2.8899, 2.8407, 2.873, 2.8151, 2.8679, 2.6601, 2.7469, 2.7927, 2.6799, 2.7754, 2.29, 2.4536, 2.4553, 2.0739, 1.3258, 1.3223, 0.5995, 1.1762, 2.0557, 1.7938, 1.3195, 3.0397, 3.0394, 3.0393, 3.0392, 3.0392, 3.0391, 3.0391, 3.039, 3.0386, 3.0386, 3.0383, 3.0383, 3.0375, 3.0374, 3.0368, 3.0368, 3.0368, 3.0366, 3.0361, 3.0354, 3.0353, 3.0349, 3.0346, 3.0341, 3.0339, 3.033, 3.033, 3.0322, 3.0319, 3.0318, 3.014, 2.9864, 2.9512, 2.9612, 2.9858, 2.96, 2.8473, 2.8354, 2.9537, 2.6754, 2.675, 2.4178, 2.4931, 2.6518, 2.43, 2.8032, 2.2707, 2.2675, 1.9806, 2.2346, 2.5526, 0.4932, 3.2509, 3.2509, 3.2505, 3.2503, 3.2501, 3.2501, 3.2501, 3.2499, 3.2499, 3.2499, 3.2497, 3.2496, 3.2484, 3.2482, 3.2479, 3.2476, 3.2475, 3.247, 3.247, 3.2458, 3.2458, 3.2457, 3.2456, 3.2455, 3.2453, 3.2452, 3.2452, 3.245, 3.2449, 3.2444, 3.2321, 3.156, 3.0932, 3.0274, 2.9745, 3.056, 2.8135, 2.2535, 2.7405, 2.0149, 2.5864, 2.1865, 2.5208, 1.8936, 1.1099, 1.6654, 1.9528, 1.5087, 3.4095, 3.4084, 3.4082, 3.4081, 3.4081, 3.4079, 3.4077, 3.4076, 3.4075, 3.407, 3.4065, 3.406, 3.406, 3.4058, 3.4057, 3.4056, 3.4055, 3.4051, 3.4049, 3.4048, 3.4045, 3.4044, 3.404, 3.4039, 3.4039, 3.4038, 3.4036, 3.4034, 3.4032, 3.4032, 3.3133, 3.3578, 3.2944, 3.0677, 2.841, 2.6381, 2.6864, 2.9119, 2.4378, 1.7207, 1.5735, 3.4267, 3.4264, 3.4263, 3.426, 3.4251, 3.4248, 3.4248, 3.4246, 3.4245, 3.4245, 3.4238, 3.4236, 3.4231, 3.4228, 3.4226, 3.4225, 3.4224, 3.4223, 3.422, 3.4218, 3.4217, 3.4215, 3.4208, 3.4206, 3.4205, 3.4204, 3.4202, 3.4202, 3.42, 3.42, 3.412, 3.2667, 3.1552, 3.0599, 3.2612, 2.9911, 3.1605, 2.8422, 3.1637, 2.5782, 2.3941, 2.4987, 2.9086, 2.6426, 3.4285, 3.4284, 3.4282, 3.4271, 3.427, 3.4269, 3.4269, 3.4266, 3.4265, 3.4261, 3.4257, 3.4248, 3.4244, 3.424, 3.4236, 3.4234, 3.4232, 3.4231, 3.4228, 3.4227, 3.4227, 3.4226, 3.4225, 3.4225, 3.4221, 3.422, 3.4219, 3.4218, 3.4218, 3.4213, 3.2682, 3.3372, 3.2662, 3.2004, 3.0487, 2.4395, 2.9636, 3.1808, 2.1297, 2.9447, 1.7655, 2.0024, 1.375, 1.7778, 0.7043, 0.9764, 2.8433, 3.453, 3.4523, 3.4523, 3.452, 3.452, 3.4519, 3.4517, 3.4514, 3.4514, 3.4508, 3.4506, 3.4505, 3.4503, 3.4497, 3.4494, 3.4493, 3.4492, 3.4492, 3.4491, 3.4491, 3.4488, 3.4487, 3.4482, 3.4477, 3.4477, 3.4472, 3.447, 3.4466, 3.4465, 3.4461, 3.4383, 3.4331, 3.3363, 3.3169, 3.3506, 2.443, 2.8861, 2.9076, 1.6359, 2.3969, 2.1077, 0.8965, 2.1529, 3.5371, 3.5363, 3.5352, 3.5351, 3.5351, 3.5344, 3.5343, 3.534, 3.5339, 3.5338, 3.5338, 3.5337, 3.5336, 3.533, 3.5325, 3.5324, 3.5322, 3.5322, 3.5321, 3.5321, 3.532, 3.5318, 3.5314, 3.5313, 3.5311, 3.5307, 3.5306, 3.5305, 3.53, 3.53, 3.4467, 3.5094, 3.3978, 3.152, 3.3073, 3.1745, 3.135, 3.1659, 2.3295, 2.6139, 3.0751, 2.22, 2.6221, 3.2831, 1.9281, 2.2753, 3.626, 3.6257, 3.6257, 3.6245, 3.6241, 3.623, 3.6228, 3.6225, 3.6225, 3.6224, 3.6223, 3.6221, 3.622, 3.622, 3.6217, 3.6217, 3.6216, 3.6213, 3.6213, 3.6212, 3.621, 3.6208, 3.6208, 3.6208, 3.6208, 3.6205, 3.6204, 3.6203, 3.6203, 3.6201, 3.5632, 3.4401, 3.4088, 2.8733, 3.1498, 3.4733, 2.6632, 3.7488, 3.7471, 3.7469, 3.7464, 3.7463, 3.7462, 3.7461, 3.7456, 3.7452, 3.745, 3.7446, 3.7446, 3.7444, 3.7443, 3.744, 3.7439, 3.7434, 3.7434, 3.743, 3.7422, 3.7421, 3.742, 3.7418, 3.7417, 3.7407, 3.7404, 3.7396, 3.7391, 3.7391, 3.739, 3.7364, 3.6315, 3.579, 3.5745, 3.3912, 3.3678, 2.3878, 3.3949, 2.9381, 2.5758, 2.1635, 1.9082, 2.2293, 3.8345, 3.8331, 3.8319, 3.8318, 3.8314, 3.8308, 3.8305, 3.8303, 3.8301, 3.8301, 3.8293, 3.8292, 3.8288, 3.8285, 3.8284, 3.8279, 3.8279, 3.8278, 3.8276, 3.8274, 3.8271, 3.827, 3.8269, 3.8269, 3.8268, 3.8268, 3.8266, 3.8265, 3.8264, 3.8262, 3.7285, 3.7159, 3.6638, 3.6898, 3.2464, 3.4753, 3.5289, 2.0485, 3.225, 2.5306, 3.3774, 3.9101, 3.9097, 3.9097, 3.9094, 3.9092, 3.9091, 3.9091, 3.9087, 3.9082, 3.908, 3.908, 3.9078, 3.9078, 3.9071, 3.9067, 3.9065, 3.9057, 3.9055, 3.9055, 3.9052, 3.9052, 3.9052, 3.9051, 3.905, 3.9049, 3.9042, 3.9041, 3.9041, 3.9035, 3.9035, 3.7128, 3.6157, 3.2253, 3.6554, 3.294, 3.0564, 3.9635, 3.9624, 3.9619, 3.9616, 3.9614, 3.9612, 3.9612, 3.961, 3.9594, 3.9592, 3.9589, 3.9587, 3.9586, 3.9583, 3.9572, 3.9571, 3.957, 3.9569, 3.9566, 3.9565, 3.9563, 3.9563, 3.9562, 3.9558, 3.9555, 3.9554, 3.9554, 3.9554, 3.9552, 3.9552, 3.7745, 3.6656, 3.3063, 2.3926, 2.5528, 2.4008, 2.6782, 4.0437, 4.0436, 4.042, 4.0415, 4.0413, 4.0412, 4.0409, 4.0407, 4.0405, 4.039, 4.0389, 4.0385, 4.0375, 4.0373, 4.0366, 4.0364, 4.0364, 4.0362, 4.0361, 4.036, 4.0354, 4.0354, 4.0353, 4.0351, 4.0344, 4.034, 4.0339, 4.0334, 4.0331, 4.0329, 3.8927, 3.4162, 3.7169, 4.049, 4.0475, 4.0472, 4.0466, 4.0456, 4.0454, 4.0453, 4.0451, 4.0449, 4.0449, 4.044, 4.043, 4.0427, 4.0422, 4.0422, 4.042, 4.0411, 4.0409, 4.0407, 4.0394, 4.0392, 4.0377, 4.0377, 4.0375, 4.0374, 4.0367, 4.0359, 4.0357, 4.0355, 4.0352, 3.9821, 3.9977, 3.9199, 3.6759, 3.7843, 3.707, 3.9749, 3.945, 3.3425, 3.3855, 2.4888, 3.0492, 3.1509, 2.034, 4.114, 4.113, 4.1123, 4.1117, 4.1116, 4.111, 4.1107, 4.1105, 4.1099, 4.1092, 4.109, 4.1086, 4.1086, 4.1082, 4.1079, 4.1078, 4.1072, 4.1068, 4.1067, 4.1066, 4.1066, 4.1065, 4.1064, 4.1064, 4.1061, 4.1059, 4.1053, 4.1043, 4.104, 4.1037, 3.786, 3.9688, 3.3552, 3.7949, 3.5642, 3.5283, 2.5368, 4.1947, 4.1939, 4.1937, 4.1935, 4.1934, 4.1931, 4.1931, 4.1927, 4.1918, 4.1916, 4.1911, 4.1906, 4.1899, 4.1895, 4.1894, 4.1894, 4.1891, 4.1889, 4.1879, 4.1877, 4.1871, 4.1859, 4.1859, 4.1858, 4.1858, 4.1857, 4.1855, 4.1854, 4.1844, 4.1833, 4.1728, 4.1487, 4.0226, 3.5759, 2.9747, 3.1887, 2.315]}, \"token.table\": {\"Topic\": [6, 6, 10, 3, 6, 7, 18, 10, 3, 5, 2, 16, 1, 5, 19, 1, 14, 4, 9, 10, 14, 16, 2, 10, 11, 15, 2, 3, 10, 13, 1, 2, 3, 4, 5, 6, 7, 4, 7, 10, 8, 3, 1, 15, 6, 3, 5, 6, 5, 10, 1, 3, 4, 12, 2, 2, 4, 13, 4, 18, 1, 2, 19, 10, 18, 2, 4, 8, 12, 8, 13, 18, 3, 5, 6, 9, 9, 17, 1, 4, 9, 1, 2, 9, 9, 2, 3, 9, 11, 18, 1, 13, 5, 2, 3, 4, 2, 3, 4, 8, 19, 2, 2, 12, 8, 19, 1, 20, 3, 6, 15, 19, 13, 19, 6, 3, 2, 16, 10, 11, 9, 8, 4, 15, 9, 13, 10, 12, 13, 19, 14, 1, 3, 4, 19, 11, 14, 5, 5, 9, 1, 2, 3, 4, 5, 1, 2, 6, 19, 11, 14, 19, 20, 18, 6, 4, 8, 12, 13, 1, 2, 3, 7, 13, 16, 2, 3, 12, 16, 16, 2, 14, 2, 19, 3, 6, 3, 2, 4, 16, 3, 7, 8, 2, 2, 20, 4, 13, 4, 2, 2, 3, 2, 5, 7, 9, 9, 9, 11, 6, 5, 1, 2, 4, 9, 17, 7, 4, 10, 11, 13, 15, 6, 15, 10, 1, 3, 5, 6, 7, 15, 18, 3, 7, 8, 10, 2, 2, 4, 7, 16, 18, 20, 5, 20, 16, 3, 6, 5, 2, 8, 17, 8, 10, 15, 20, 8, 14, 12, 20, 14, 6, 3, 11, 13, 5, 7, 19, 1, 3, 11, 1, 2, 4, 7, 4, 13, 2, 3, 4, 19, 9, 7, 6, 7, 8, 10, 4, 13, 4, 13, 18, 8, 18, 3, 11, 20, 14, 3, 7, 8, 3, 18, 2, 4, 13, 14, 20, 6, 9, 2, 3, 8, 8, 12, 11, 20, 2, 3, 8, 3, 20, 3, 8, 12, 12, 3, 3, 19, 17, 16, 16, 4, 16, 12, 15, 8, 14, 1, 2, 7, 14, 16, 6, 6, 13, 17, 5, 1, 9, 12, 16, 16, 4, 14, 15, 11, 6, 11, 1, 14, 16, 1, 2, 11, 12, 13, 8, 17, 20, 19, 10, 12, 4, 5, 16, 2, 13, 16, 20, 6, 11, 8, 5, 7, 7, 8, 18, 18, 7, 5, 5, 6, 10, 14, 1, 12, 2, 3, 6, 4, 12, 6, 16, 19, 1, 2, 7, 9, 2, 9, 11, 2, 16, 10, 4, 10, 15, 20, 7, 8, 2, 3, 8, 18, 15, 20, 1, 8, 8, 13, 3, 6, 11, 18, 12, 2, 12, 2, 7, 10, 20, 2, 16, 9, 5, 17, 6, 11, 15, 16, 14, 7, 20, 3, 4, 7, 5, 6, 17, 2, 5, 8, 9, 12, 4, 13, 19, 13, 4, 20, 1, 2, 3, 4, 9, 17, 13, 20, 1, 6, 16, 12, 11, 2, 4, 10, 5, 18, 1, 2, 17, 19, 12, 3, 14, 9, 13, 11, 10, 15, 1, 6, 9, 4, 4, 1, 2, 3, 4, 9, 13, 1, 4, 9, 9, 10, 10, 14, 1, 2, 9, 4, 7, 6, 2, 3, 9, 11, 14, 15, 4, 20, 14, 1, 5, 13, 3, 1, 1, 2, 4, 11, 13, 16, 1, 2, 11, 10, 1, 3, 9, 11, 7, 2, 4, 8, 10, 9, 9, 12, 10, 18, 17, 1, 5, 11, 4, 11, 6, 15, 1, 7, 6, 14, 16, 10, 8, 10, 2, 3, 4, 5, 2, 5, 5, 7, 4, 19, 15, 20, 7, 16, 18, 1, 5, 15, 1, 7, 10, 17, 4, 13, 10, 2, 5, 7, 10, 13, 14, 19, 12, 10, 2, 11, 18, 4, 1, 2, 13, 7, 18, 14, 4, 13, 9, 13, 1, 2, 8, 14, 8, 1, 3, 4, 1, 3, 4, 9, 1, 17, 2, 7, 13, 2, 3, 9, 19, 20, 10, 18, 9, 12, 15, 16, 5, 2, 4, 2, 11, 1, 1, 5, 14, 3, 5, 9, 1, 2, 1, 2, 4, 5, 2, 1, 5, 9, 10, 15, 16, 1, 1, 3, 11, 20, 17, 18, 12, 3, 6, 5, 1, 2, 3, 4, 2, 4, 10, 7, 15, 15, 15, 1, 2, 3, 4, 6, 7, 10, 19, 3, 20, 2, 17, 11, 1, 2, 3, 5, 9, 1, 1, 2, 3, 18, 16, 19, 4, 10, 6, 1, 2, 5, 7, 20, 4, 7, 15, 16, 12, 18, 20, 16, 18, 4, 13, 13, 2, 5, 19, 4, 12, 15, 8, 17, 3, 6, 6, 18, 16, 1, 4, 6, 17, 18, 1, 18, 3, 6, 16, 1, 2, 3, 4, 2, 3, 1, 2, 5, 9, 4, 20, 18, 8, 18, 7, 8, 9, 18, 7, 10, 12, 15, 16, 3, 1, 3, 5, 6, 7, 12, 5, 7, 16, 10, 1, 3, 5, 2, 4, 5, 14, 1, 3, 5, 9, 1, 1, 14, 20, 10, 1, 3, 5, 8, 9, 3, 4, 5, 9, 10, 15, 8, 18, 19, 9, 1, 6, 7, 8, 3, 19, 11, 3, 14, 16, 17, 1, 2, 3, 4, 1, 7, 10, 2, 6, 8, 15, 5, 9, 9, 12, 20, 1, 18, 12, 12, 5, 10, 18, 13, 1, 2, 3, 10, 17, 19, 13, 16, 8, 15, 10, 19, 10, 1, 2, 4, 3, 11, 3, 13, 2, 7, 16, 1, 7, 8, 3, 9, 13, 15, 1, 9, 12, 1, 2, 3, 4, 17, 14, 9, 11, 9, 1, 2, 3, 9, 7, 13, 4, 3, 2, 3, 1, 2, 5, 14, 17, 10, 18, 2, 4, 11, 20, 10, 18, 7, 17, 4, 12, 1, 1, 5, 6, 18, 12, 14, 8, 11, 7, 7, 8, 7, 9, 16, 1, 2, 3, 1, 3, 6, 16, 6, 12, 3, 5, 6, 12, 7, 3, 4, 13, 2, 2, 3, 7, 10, 4, 7, 10, 10, 1, 6, 15, 20, 3, 8, 10, 1, 2, 11, 15, 1, 2, 3, 5, 2, 4, 18, 7, 7, 1, 11, 13, 15, 7, 18, 17, 15, 1, 2, 2, 3, 4, 8, 2, 10, 12, 14, 16, 3, 12, 3, 14, 2, 2, 11, 3, 3, 19, 3, 5, 2, 3, 3, 8, 16, 16, 6, 10, 4, 3, 4, 10, 8, 13, 19, 11, 18, 9, 1, 2, 7, 10, 13, 7, 4, 13, 16, 9, 4, 14, 15, 13, 2, 1, 3, 6, 9, 11, 13, 1, 2, 3, 18, 6, 11, 5, 15, 17, 11, 1, 2, 4, 5, 15, 17, 3, 17, 19, 7, 8, 8, 8, 9, 6, 11, 10, 9, 20, 3, 3, 3, 7, 1, 2, 3, 5, 20, 1, 4, 5, 2, 20, 7, 10, 11, 16, 5, 1, 3, 5, 1, 2, 3, 4, 6, 6, 10, 10, 13, 15, 13, 5, 4, 13, 13, 18, 17, 18, 20, 2, 1, 2, 3, 9, 13, 3, 13, 2, 12, 11, 6, 11, 19, 10, 5, 17, 4, 7, 11, 4, 8, 10, 1, 9, 3, 6, 11, 18, 2, 3, 4, 5, 8, 10, 3, 5, 17, 3, 8, 6, 17, 13, 6, 11, 17, 16, 2, 3, 11, 9, 1, 2, 3, 4, 7, 10, 13, 2, 8, 15, 13, 7, 20, 11, 1, 2, 4, 9, 20, 2, 4, 13, 14, 20, 12, 17, 7, 19, 6, 20, 3, 8, 12, 8, 10, 16, 2, 3, 4, 1, 2, 20, 16, 19, 11, 16, 3, 6, 10, 19, 1, 2, 4, 9, 2, 3, 4, 9, 19, 7, 6, 14, 7, 9, 15, 3, 7, 14, 10, 4, 1, 1, 5, 6, 8, 1, 2, 1, 2, 1, 2, 9, 18, 2, 4, 9, 16, 16, 9, 1, 2, 3, 4, 9, 20, 20, 19, 1, 2, 4, 7, 14, 18, 3, 8, 4, 19, 9, 10, 3, 8, 5, 16, 19, 13, 2, 3, 20, 2, 1, 2, 6, 11, 15, 4, 1, 2, 11, 13, 3, 6, 2, 17, 15, 11, 15, 15, 20, 18, 5, 9, 13, 1, 2, 3, 6, 3, 5, 6, 7, 6, 5, 17, 17, 18, 17, 3, 6, 12, 4, 6, 2, 6, 8, 4, 12, 4, 20, 19, 1, 1, 2, 4, 14, 14, 14, 14, 19, 11, 16, 1, 2, 3, 4, 13, 14, 16, 9, 5, 1, 2, 3, 9, 10, 19, 1, 10, 17, 1, 6, 9, 12, 6, 9, 5, 20, 14, 19, 4, 2, 4, 1, 2, 6, 8, 1, 3, 4, 6, 15, 1, 2, 4, 10, 1, 1, 2, 17, 1, 2, 1, 3, 4, 8, 9, 16, 9, 14], \"Freq\": [0.991740452619174, 0.015121610630104407, 0.9842793828322505, 0.007223972212003788, 0.38467652028920174, 0.6086196588613192, 0.9922289293457418, 0.9936722444246787, 0.998195638089529, 0.9994381802462717, 0.16845644729986348, 0.825436591769331, 0.07437861131129563, 0.9239476382892056, 0.9902345969461512, 0.9962891462656183, 0.9887092784089291, 0.11079605206465314, 0.048249893641058625, 0.18227737597733257, 0.5557672934210827, 0.1018608865755682, 0.9987496029689656, 0.9881886488607605, 0.9975481732238717, 0.9938526859946935, 0.1701448773560757, 0.7446030972954035, 0.04999102066647585, 0.035081418011562004, 0.292145251210335, 0.17459704383357816, 0.5086087798630321, 0.005750890771856989, 0.011041710281965418, 0.007821211449725505, 0.9918028773429572, 0.8885622029860346, 0.06481912726949797, 0.04591354848256106, 0.9951906019523397, 0.998546823932694, 0.9975628580010327, 0.9935852772843278, 0.9975483074442315, 0.23076052803868286, 0.12241564597174029, 0.645848063230216, 0.9984154642397978, 0.9932706460255307, 0.1108395453035511, 0.5410286716302048, 0.3270315297075072, 0.019753582331325938, 0.9963771439908551, 0.9982949082343869, 0.2964441408734354, 0.7017095486497774, 0.9970774003770718, 0.9932729225559622, 0.9943936715920554, 0.005401797067471976, 0.9903624765481298, 0.9008358337688889, 0.09335086360299366, 0.999190775982801, 0.9983165817896356, 0.9915385384568441, 0.993390271856518, 0.9976607658335663, 0.03972991405644316, 0.9535179373546359, 0.3996986069484748, 0.543287812385847, 0.05626009803686515, 0.9973155232035249, 0.9924764906838178, 0.999667357022128, 0.9509310296053792, 0.0401419829953212, 0.00813688844499754, 0.9069338273699306, 0.04531522246400763, 0.047203356733341285, 0.9925915981539563, 0.21504920646320827, 0.761912618211445, 0.02184093503141959, 0.9971237176089155, 0.992908247862075, 0.9998040866224941, 0.998133678879865, 0.9935357286745782, 0.7855181376785235, 0.1199559717637154, 0.09383652629903544, 0.30436905866767744, 0.18876734888524227, 0.27363949024449846, 0.02633963007701055, 0.20632710226991596, 0.9985147531252057, 0.9997498249233302, 0.9931767140225453, 0.9973306856192516, 0.9957894970097679, 0.9979075107873937, 0.9841891550124309, 0.7194888299366061, 0.2568712287122025, 0.02306853267561042, 0.9980320403496912, 0.9937800851090806, 0.9845452000941741, 0.9931631031803057, 0.9971980512991613, 0.2566075296877351, 0.7413106413201237, 0.02110584369880869, 0.9708688101451998, 0.9914512519719425, 0.999135407359897, 0.9962550509312004, 0.9980291770344859, 0.780953654001819, 0.21413245351662782, 0.9977341444874441, 0.8279102399576984, 0.16896127346075476, 0.9888129321544671, 0.9935044930946907, 0.01943674931488439, 0.9792419416736992, 0.9572553835574087, 0.040258403981386345, 0.9987233231603552, 0.990542596222641, 0.994373056937393, 0.9735611314642869, 0.024667934074264028, 0.4386980893461908, 0.15061092089330302, 0.3795920593444585, 0.021015477333949262, 0.009632093778060078, 0.615362003407055, 0.36351940571638997, 0.020891919868758043, 0.9956940322067621, 0.9940365789104838, 0.8642366019300228, 0.06674998144987981, 0.06323682453146509, 0.9989787582911998, 0.9993586275762252, 0.1711618061651251, 0.0394988783457981, 0.08887247627804573, 0.6994593040401746, 0.022467886411397534, 0.4333805645576235, 0.43387985092232123, 0.03844505008172466, 0.02895860915246793, 0.042938627364004174, 0.5861174607470873, 0.17817970806711453, 0.027195850178664847, 0.20725113412017004, 0.9979671525570832, 0.9870394040111233, 0.009890174388889011, 0.9980858984425647, 0.9953107411012448, 0.17629061740740415, 0.8226895479012193, 0.998121033181737, 0.19626785540490913, 0.7782447136055527, 0.02474681655105376, 0.5140823077157122, 0.4848627094086024, 0.9978016613716911, 0.9975906985119497, 0.9981495713313286, 0.9973529008342942, 0.793607606089134, 0.204801962861712, 0.9955232506105084, 0.9990783572294619, 0.9671204430802064, 0.03134912295235677, 0.9978631809867362, 0.9979460080378078, 0.9971061731225673, 0.9933823114168194, 0.9960022728125784, 0.9940948301340256, 0.9926937475900263, 0.9993544410348144, 0.9989425733989237, 0.6480861272694164, 0.28862135222524615, 0.05335121965375762, 0.009620711740841538, 0.9886745108255688, 0.996219820340255, 0.10948204696101363, 0.8888899527072773, 0.6955536411993698, 0.2142867278442503, 0.08957887803325218, 0.9960398018096275, 0.9920481009712855, 0.9920500972329852, 0.00395539923101586, 0.19065024293496444, 0.46199063018265246, 0.2729225469400943, 0.0704061063120823, 0.11885854865515486, 0.8765817963317671, 0.20655887366762693, 0.18169530554096813, 0.3959045078629516, 0.21420920232198348, 0.9975618456293586, 0.16364988423351853, 0.1019847104643666, 0.007115212357979066, 0.23717374526596888, 0.12095861008564412, 0.36524756770959205, 0.9954970538038326, 0.9952216872465058, 0.9903374304534229, 0.9903831890784786, 0.008962743792565417, 0.9978466733235372, 0.2325056326147597, 0.7659009074368555, 0.9847387412785039, 0.152186333216594, 0.026758036609511034, 0.8194648711662754, 0.9921966997797728, 0.995987400234029, 0.9937653369571564, 0.9930901299500776, 0.9970462743713283, 0.9962662457613767, 0.9970166627464693, 0.9983933020612017, 0.9952880861614839, 0.9970727126694843, 0.9992409800239607, 0.989837668030046, 0.9914426463424386, 0.17724075175766543, 0.777132526937456, 0.045096759322956294, 0.8726596813032759, 0.08546666981836207, 0.026195666600674444, 0.015611558883230223, 0.9836296811275737, 0.015726637343609462, 0.06991707557346517, 0.32194374333828146, 0.13983415114693035, 0.46828180849204576, 0.9962076106694525, 0.9941497149417087, 0.2223602883323036, 0.030847670057660613, 0.692787256711628, 0.05398342260090607, 0.15513399778059875, 0.8421559879518218, 0.01044204206225753, 0.9885133152270461, 0.9891773513769611, 0.9927160723627259, 0.9925928789296228, 0.9981077147892065, 0.995477227225163, 0.995484955389511, 0.9948934087971079, 0.9360896035744138, 0.06223310383874219, 0.9943195824925379, 0.2313358388759038, 0.7686319807812287, 0.3275679046566847, 0.6327762253777596, 0.038011292690536796, 0.9911292836039437, 0.9953210815184429, 0.9946602695288519, 0.9934535909511769, 0.07162324565223847, 0.47032597978303264, 0.45600133065258497, 0.1943721480899227, 0.8011925128584618, 0.9919745400619525, 0.9893836685907395, 0.13881895626353596, 0.43169309569758135, 0.42830726749603165, 0.9133416532583826, 0.08526448978203255, 0.9606541246460871, 0.035497611996160264, 0.9900444846584151, 0.9912943573923343, 0.9973063040980984, 0.998534046065113, 0.9966342965896747, 0.9975943754346422, 0.9900233635425003, 0.9950122427513369, 0.9079641029907071, 0.0907964102990707, 0.9901696529008123, 0.9971018285439519, 0.9964415886304838, 0.9914641246739415, 0.9961502323304463, 0.6243447977036654, 0.10248083800691477, 0.27118006364906677, 0.994916980294772, 0.9992590461927991, 0.9982972241249422, 0.9892081448370273, 0.9885452051528077, 0.9970794614077916, 0.9987125299654243, 0.9126308739145959, 0.08586580802959907, 0.990824106155584, 0.9960386170103451, 0.9956948000534346, 0.9914078940205782, 0.9902682249683158, 0.9993785293229469, 0.7993440771103105, 0.20028711638655636, 0.9965901866170288, 0.8885601384679434, 0.11080366235091858, 0.3671448978827374, 0.10261813915977133, 0.13682418554636178, 0.3808273164373736, 0.011402015462196815, 0.8519575465761371, 0.14749652615142425, 0.9960165710637195, 0.9917739899950946, 0.9948194180548555, 0.9983511656930614, 0.993685077890874, 0.9926107696459495, 0.9945991833674095, 0.5720467327378425, 0.05720467327378424, 0.24311986141358302, 0.12513522278640304, 0.9917604957683297, 0.9947997536875353, 0.9905001167898028, 0.9991047749092589, 0.9987470000133849, 0.9986390511168445, 0.9920178160305679, 0.9985357262195966, 0.9898787607022064, 0.9935241013909681, 0.9993244133542143, 0.15097625875724147, 0.2761760830925149, 0.02577643442196806, 0.544987470635896, 0.05607648501301896, 0.9392811239680676, 0.21129819570963, 0.18763279779015143, 0.6000868758153491, 0.9965696479542968, 0.9905597893944815, 0.9940944560799914, 0.9898533101949267, 0.9961284419026789, 0.5514598086268737, 0.4418507692651236, 0.0003414611818123057, 0.005804840090809197, 0.6099771573464104, 0.1213676676709839, 0.2678458872738955, 0.9906541002150605, 0.009010257493578817, 0.9969059665167368, 0.1779703022513863, 0.5666949098004669, 0.2248045923175406, 0.03044228854300029, 0.22838101975910596, 0.76783273884527, 0.8738505850296204, 0.09161336778536344, 0.034452890449196506, 0.9982720430229142, 0.993217911514722, 0.9966216429332181, 0.23722967204808, 0.7609498223618741, 0.991018276904591, 0.9966213177106669, 0.9970944618640168, 0.13824525801643858, 0.7766130670923462, 0.08132074000966977, 0.9941134992529429, 0.37693386033927195, 0.6203084788260459, 0.9423148207734143, 0.012472730916921434, 0.04427819475507109, 0.9893968638489552, 0.9990112233731469, 0.9969670468876033, 0.9981381626244391, 0.9989892144596606, 0.9870014982866395, 0.3222769115376386, 0.667810919784179, 0.008306105967464913, 0.9912028990294417, 0.9952451496565462, 0.9958652314736707, 0.9926384381537341, 0.9974340056161725, 0.8735141244844888, 0.12524651049593774, 0.8244735533162998, 0.17513327112927937, 0.9905540074579113, 0.09003876867058433, 0.2250969216764608, 0.06902972264744799, 0.615264919248993, 0.996807493789294, 0.10290675231404738, 0.1753226150535622, 0.7203472661983316, 0.9971343957737967, 0.01881942766790862, 0.9786102387312482, 0.38294262947624885, 0.14337662430627326, 0.2551740933855952, 0.09001874133659689, 0.12813151488636573, 0.9974893033955488, 0.9926784234119199, 0.9894282938043634, 0.9966615614634615, 0.9966979985086843, 0.9956891383823295, 0.9911986713203075, 0.9959723568879434, 0.09231188951430681, 0.6335952416663786, 0.2727396735649974, 0.9941632473229686, 0.98800890513788, 0.9841174832307472, 0.014285576369478588, 0.7192944397855142, 0.27453986251355506, 0.9940804946650572, 0.9979940209000515, 0.9914338126571387, 0.9990743970813017, 0.9925239736925563, 0.9904503677034827, 0.9944915554970176, 0.9969098101493704, 0.9906948076925035, 0.0011123070445649365, 0.008156918326809535, 0.9962137131375205, 0.9939687245245121, 0.5183148167348246, 0.3265682949369704, 0.09953508683603889, 0.025632781559782592, 0.02929460749689439, 0.9924297154226701, 0.9476204879730289, 0.02507779444523218, 0.027212074823549814, 0.7946337238706533, 0.20195111214392295, 0.9988537585871088, 0.9949378149800335, 0.8531465039971922, 0.08116847685239421, 0.06559290426720506, 0.5374489662757937, 0.4622181479281182, 0.9991782644718231, 0.42999532290335557, 0.3559363744946933, 0.1919487030183696, 0.008312739107094748, 0.012846960438237336, 0.9981823020224775, 0.04564340951317378, 0.9531417868927465, 0.9997244069679732, 0.9977055039719357, 0.9927231615307106, 0.9991965078341825, 0.9988820245136616, 0.9994072375429522, 0.46103101563076376, 0.028927436274871453, 0.11028585079794741, 0.39956021354666194, 0.9948523794509845, 0.9921382079669907, 0.9906760535851459, 0.009246309833461362, 0.9971365306048166, 0.9946903699036874, 0.005309399411676589, 0.6882308987385778, 0.006636749264595736, 0.29865371690680814, 0.9942476186172597, 0.32344295140056833, 0.22507628061379756, 0.10336836591152185, 0.3467841953160733, 0.9987740557683511, 0.9972624928276556, 0.9945188637357268, 0.99569473502057, 0.9928953984978991, 0.994319215713375, 0.9319133447467209, 0.06785908022379662, 0.9961638343441773, 0.9965215011354847, 0.9965476648031018, 0.9927193988650173, 0.9959535749673453, 0.9985416045940724, 0.9953202098476145, 0.9991661364552294, 0.9932699472192772, 0.9889406858618164, 0.996229972115335, 0.9897323242559029, 0.9942111010783862, 0.024521989194638313, 0.3661578841108494, 0.030652486493297892, 0.5784960178189675, 0.9984409384812686, 0.9993724796470619, 0.8150555817800139, 0.18489686808898462, 0.9932229137436875, 0.9888584875895402, 0.996780410945845, 0.995414670458834, 0.9982693249707557, 0.06126159725080914, 0.9364272722623682, 0.3848034149697084, 0.6135327175740805, 0.9956266361655653, 0.9959540790784267, 0.9987191002016624, 0.9942435784117735, 0.9913665349816488, 0.992285311935987, 0.992601919512329, 0.9977359890314836, 0.46804329662216676, 0.07183920366758839, 0.1596426748168631, 0.10957292680611966, 0.007982133740843155, 0.16762480855770623, 0.01596426748168631, 0.9987867886086426, 0.9980351346682467, 0.9957031910708021, 0.9933221023989859, 0.980429659250506, 0.997174461472898, 0.7320153015612663, 0.10858539000141547, 0.15850970724344557, 0.9995502885811346, 0.9952352079356186, 0.9961801898822662, 0.932102424646184, 0.06720214110276795, 0.9926200032410817, 0.9947050302958043, 0.843216693473244, 0.15661998621735676, 0.25758814364911947, 0.7367020908364816, 0.9974818472752628, 0.04203639297822348, 0.8773979045029199, 0.07960082925663596, 0.5650481375527702, 0.04109441000383783, 0.12086591177599361, 0.2725526310548656, 0.9975502031321563, 0.9976814631958075, 0.669109136561942, 0.021074303513761952, 0.3093406694341487, 0.40946089211629483, 0.10555507417162276, 0.1461531796222469, 0.04407794306067763, 0.29462625098452944, 0.9970701987527542, 0.9924675193624167, 0.025731940243885087, 0.47032268556878853, 0.5032023869915306, 0.9940311931745001, 0.9967674535315888, 0.9245852450236266, 0.0750508879838795, 0.08545705143960222, 0.9132175104820237, 0.9992073122577423, 0.9216376718491783, 0.07832709397431632, 0.9934619185161878, 0.04021136944614359, 0.9474803925747584, 0.011728316088458547, 0.9371523572666509, 0.06216151180139285, 0.012550963041514596, 0.5538112442068315, 0.43300822493225355, 0.9956367602748017, 0.9977996662307953, 0.9383984177562309, 0.06107309629272728, 0.6833409330718615, 0.14951543916483195, 0.13622517790573577, 0.02990308783296639, 0.9992651238073743, 0.025553347730185912, 0.5049828241917692, 0.39668530285907655, 0.07179273886099852, 0.9914823267131215, 0.9858683401208997, 0.9951353373088901, 0.14506514018027478, 0.8530696303138546, 0.999278062510989, 0.6277781301049808, 0.28997855280375934, 0.08224537901159257, 0.993673838355541, 0.4620255738644069, 0.17386569571209315, 0.36366330776433825, 0.9936480302777205, 0.9910009857156742, 0.9895232020598462, 0.995321528614542, 0.18974527717942713, 0.5744581786166142, 0.21028650902086968, 0.025415422447886568, 0.996124379473621, 0.9976203460027784, 0.9954443477212229, 0.9953795575217398, 0.9962016601163232, 0.9972753844595311, 0.9985284470359088, 0.9992195762673148, 0.9927237215021095, 0.22000083496060788, 0.4017726192346607, 0.36703564529351207, 0.0033082832324903442, 0.0079031210553936, 0.9991557132524422, 0.21581156428839993, 0.763943441695156, 0.01917232575682824, 0.9819480110100459, 0.9931708502746364, 0.9965282756807837, 0.019392338843043207, 0.9784316416262708, 0.9982003244708739, 0.11486467207695727, 0.0589845613368159, 0.44704088592113106, 0.37796686014512293, 0.993639477611311, 0.08624687895844602, 0.2443661570489304, 0.5390429934902876, 0.12937031843766902, 0.9901243245467893, 0.9267933734782317, 0.06044304609640642, 0.9900190356170312, 0.9942011867353531, 0.9621212681007625, 0.03469187264786403, 0.9930567828881428, 0.999272089620005, 0.9975492807192551, 0.9964502580999772, 0.9966823154056303, 0.9966175348530631, 0.9921878844881769, 0.13751346337082188, 0.8602586429476997, 0.08930333856868812, 0.9094360397097014, 0.31076146108820585, 0.688456159949256, 0.9926440580481153, 0.9895872232867386, 0.009884889022842007, 0.9978951789936921, 0.9921398835574888, 0.9942634294663, 0.9982108864936707, 0.9970345090678473, 0.9969354755295008, 0.9955077270076913, 0.9922807217405334, 0.9162512579691764, 0.07656900829955351, 0.006626164179769054, 0.9977679049270609, 0.6533806592491843, 0.3461502229054794, 0.2739121253301189, 0.2558824664476301, 0.4632235435962517, 0.006241035767015367, 0.977989302413809, 0.018178239821818012, 0.9884567813190683, 0.9984105092568978, 0.9805032677660549, 0.1658727277401275, 0.5946380805778156, 0.07198250449099873, 0.1658727277401275, 0.19772485556450478, 0.577564709675264, 0.09886242778225239, 0.08065092792762696, 0.041626285382001006, 0.9981083791275361, 0.5848132682601316, 0.33249213445182824, 0.05313659344977816, 0.026102186256031376, 0.003107403125718021, 0.9912349369064312, 0.7880094031918788, 0.20846809608250763, 0.9899529578574007, 0.9916838935497989, 0.3276687141364688, 0.6704300478331628, 0.001588696795813182, 0.12636270080014067, 0.1944041550771395, 0.6776373405546006, 0.9948509708185238, 0.5544830754474909, 0.1980296698026753, 0.00660098899342251, 0.2401109746357438, 0.9987033949346811, 0.9986731142568969, 0.9964990093930369, 0.9955348878673159, 0.9920130769409161, 0.039313106700218106, 0.8330128554857026, 0.011687680370335112, 0.09881402494919686, 0.015937745959547882, 0.847787294031397, 0.04935144331159899, 0.006168930413949874, 0.02996337629632796, 0.0665363208933165, 0.9974684692753114, 0.9968613714579874, 0.9949447971338959, 0.985350723927563, 0.9933955203616575, 0.3646987718661049, 0.5135554134441068, 0.01786279698936024, 0.10122251627304135, 0.43903075316474216, 0.5566282763338696, 0.9965994434662698, 0.9983208656233274, 0.9879590721326909, 0.994045111089941, 0.9962349078190821, 0.10340692277036485, 0.20481242122904522, 0.6604700228558787, 0.030021364675267215, 0.9933502040767244, 0.002410208467430527, 0.0037874704488194, 0.41014483466429275, 0.1444423113382944, 0.0196156225274227, 0.4244107419569638, 0.9478825666096085, 0.05154648398481254, 0.14024550843519648, 0.8590037391655785, 0.9890186054539899, 0.5885048662409041, 0.40690907894371087, 0.9977382900971636, 0.9958532600259489, 0.9234938929934831, 0.07550578999317786, 0.9982420682049065, 0.9849902078229579, 0.0005914163280754958, 0.41576567863707353, 0.5151236217537568, 0.04731330624603966, 0.020699571482642353, 0.993438126779794, 0.992641932592821, 0.9978530364842706, 0.9946836672133881, 0.9990744774760512, 0.9967077726740959, 0.9944168592654246, 0.9888736746665923, 0.000531172327380997, 0.7944567443195112, 0.2048554609266045, 0.20448293184738017, 0.7940311249658009, 0.9980630643086265, 0.9955331380554706, 0.9719673749260048, 0.017873305493385377, 0.00936220763939234, 0.996443001766982, 0.9971529366167261, 0.9985609145466677, 0.29442536584212997, 0.6289996452081867, 0.07494463857799673, 0.9976766751371713, 0.9980530616764616, 0.9941052491116019, 0.9916339812993599, 0.4871625229974975, 0.08549296924010547, 0.22331353172199964, 0.20341430612300956, 0.9966626404533947, 0.9931063703891087, 0.9991271831949066, 0.9989908221323848, 0.9956843254894026, 0.30096377364145005, 0.5466254538762837, 0.06621203020111902, 0.08615088020486508, 0.1577474667638222, 0.8386906982943214, 0.9958951387405139, 0.9960999413022502, 0.330916841444286, 0.6683542117840259, 0.39684664707027445, 0.2135756500596386, 0.3463388919886031, 0.042811335259702335, 0.9939221602865345, 0.09274941916095686, 0.8996693658612815, 0.12535034903721945, 0.14278317903577314, 0.6798803699435942, 0.05063822047198931, 0.9970133074955021, 0.994690304295555, 0.9954454514747884, 0.9942103909015408, 0.9970681133787223, 0.9984027132340774, 0.9986081402450858, 0.44210180031324825, 0.3417118718578382, 0.005791726641658274, 0.20946744687330757, 0.3622531006907321, 0.6327354158731454, 0.9912010497984177, 0.9948434423774447, 0.9929393222559157, 0.9982481578317394, 0.9901902584020942, 0.9488867135451561, 0.0486608571048798, 0.9857713290102906, 0.9239200933045134, 0.0006967723177258774, 0.07525141031439475, 0.6168917208364326, 0.08655793168778872, 0.2903019862759683, 0.005992472193769988, 0.9940913046575561, 0.9946927348501581, 0.10068247713687749, 0.6944635252270477, 0.20480289251745323, 0.9944349788828225, 0.9922892525716246, 0.23524933217269367, 0.08037685515900367, 0.6822230633008117, 0.9990965209585496, 0.13863923129348066, 0.724234790339078, 0.12001605097047578, 0.016553938064893213, 0.05638014279496724, 0.9078020093508493, 0.03513545130700857, 0.9987918127270196, 0.9983977581245281, 0.29892418375731106, 0.16071192675124252, 0.53677783534915, 0.40401975200829515, 0.35631262261986174, 0.23853564694216686, 0.9439853997507255, 0.052327350318776354, 0.003488490021251757, 0.9971290630905171, 0.3258298189845677, 0.47605537622996513, 0.18788428004260876, 0.009414680699302836, 0.113581934376684, 0.36995258625548505, 0.5159865018826502, 0.9951131953298199, 0.9942548472238204, 0.13437571157962744, 0.2828962349044788, 0.44414708880003173, 0.13720467392867222, 0.9956770984065719, 0.9921116313397365, 0.9937862970595857, 0.9977990395987534, 0.935213318079332, 0.06455930863059627, 0.9997321970980373, 0.873521764049141, 0.07577538194161222, 0.04946448543410798, 0.06168838625369684, 0.07257457206317275, 0.14152041552318687, 0.6967158918064584, 0.025401100222110465, 0.998046871730618, 0.9951566755699485, 0.9970239245693752, 0.9895010513963829, 0.9982057581790942, 0.9975894182208268, 0.9951951081969316, 0.99800199360979, 0.9969965105032517, 0.9992468982153863, 0.08029266681433987, 0.916890453299236, 0.09950291963575689, 0.8993168641365075, 0.3464711139983557, 0.5568285760687859, 0.09545632732607758, 0.9896949220426615, 0.9968004967759047, 0.9969739485807703, 0.9940430979925072, 0.8316499145717855, 0.11845458723871129, 0.049356078016129706, 0.9985961050559108, 0.997867482179992, 0.985946059701349, 0.6304864161951943, 0.3673268685658958, 0.9944932352207, 0.43967803157147445, 0.19520188470630115, 0.031080688438673194, 0.0773226883108455, 0.2562261632261351, 0.9976750732277786, 0.3868923804830507, 0.09338781597866741, 0.5180800267387978, 0.9903882431327626, 0.9968798380299376, 0.9975582335727728, 0.9912267747471968, 0.9962300982164318, 0.998579763400331, 0.18363907848852698, 0.23698185843043243, 0.36858986468054344, 0.18932314520364804, 0.021424559156994812, 0.9843363917784664, 0.9846962069891203, 0.015020197552512299, 0.5033966214648513, 0.49290919185100024, 0.9803706617044206, 0.0185208563294286, 0.21952546064951683, 0.7731114048961245, 0.9969583705708521, 0.9915828224303507, 0.3306892714548329, 0.5700734618447613, 0.09908234521012632, 0.25416066269469517, 0.7449536665189341, 0.9903880525091748, 0.19595336423305598, 0.07492334514793317, 0.7261801145107369, 0.9915062160314543, 0.9985065837747616, 0.9957390924342233, 0.9948358770876329, 0.9987387275143464, 0.9979774356083809, 0.9976329220940725, 0.997531262525627, 0.15163127534837792, 0.8408643451137321, 0.9966704480034619, 0.99784069411816, 0.9982764544293758, 0.9978590466251765, 0.7277008129506564, 0.2690483805418961, 0.0032331994228210694, 0.9978834327859525, 0.9975765116954434, 0.02582749716797214, 0.059214261799741, 0.9146713631194036, 0.9995799286776058, 0.9968408230823776, 0.9931678996790105, 0.47582663623457516, 0.24420732124208355, 0.2769361374910226, 0.9976755805769678, 0.037244446548329466, 0.9574926466799701, 0.004655555818541183, 0.009863130634834898, 0.12559053008356436, 0.4990744101226458, 0.020383803311992122, 0.3445520301768991, 0.9962882521377922, 0.9966755787529501, 0.8724204176466479, 0.12610206626750958, 0.9948700247990164, 0.995310821794884, 0.9926473118274131, 0.10841532092389447, 0.888534260615396, 0.9907773143994759, 0.9967916142346497, 0.9948705842536641, 0.9905151204442607, 0.9959518195320373, 0.9984634537360954, 0.04530319312545332, 0.05436383175054398, 0.8542887846514055, 0.04530319312545332, 0.9934625689961325, 0.998157356095497, 0.9890105086829426, 0.9976631158066018, 0.9937582437265802, 0.9950700275137304, 0.3088227351887486, 0.6902002093676248, 0.9942906540152644, 0.9957454828042652, 0.9994219235629133, 0.9958354206597007, 0.9982508977755076, 0.7109278467528944, 0.2884696140926379, 0.9960462839210955, 0.845415765397902, 0.15082534781746607, 0.9984323883772896, 0.9963147778355321, 0.7906665151328776, 0.003765078643489893, 0.07153649422630796, 0.1330327787366429, 0.008312664816664674, 0.12242288184542521, 0.045341808090898224, 0.6937296637907429, 0.12771275945603, 0.0007556968015149704, 0.41485019210815466, 0.05048886719369022, 0.5334990300133267, 0.9982850213119773, 0.99729681422784, 0.9955276479241156, 0.9896381031275038, 0.9921287015421192, 0.12833519227711188, 0.869318147686627, 0.9977613951970551, 0.9941371596872747, 0.03112526788855182, 0.9677128743531567, 0.9951596164076085, 0.99535356800785, 0.11127805165920775, 0.2931748668713743, 0.017119700255262733, 0.1765469088823969, 0.03477439114350242, 0.16210216179201897, 0.20490141243017582, 0.9969483559062775, 0.994416563567107, 0.9933201995203017, 0.9971681008501334, 0.8903016386654862, 0.10653182001125476, 0.9944563679204785, 0.8456775822044925, 0.07831289696902696, 0.06254861251422283, 0.01271313262484204, 0.9825547393416402, 0.26586341529659446, 0.2569642214791352, 0.2191426477549335, 0.10567792658232833, 0.1523986941239893, 0.9906336225793697, 0.9902393223876953, 0.13075736786882222, 0.8654892444650614, 0.9943549738850114, 0.9891662267814905, 0.008086137478718277, 0.9865087724036299, 0.0040430687393591385, 0.6466251076885469, 0.14290057628476174, 0.20899209281646403, 0.05594442545533683, 0.9234370986551801, 0.01982840395885356, 0.9438300358027324, 0.05557995848783811, 0.9852342689517981, 0.994351842387092, 0.9880186448237185, 0.9953263982974778, 0.9934020295870324, 0.999764034505588, 0.22454748444982064, 0.19303204803581073, 0.575156714555681, 0.7826611110530971, 0.14105422262636041, 0.07592980928127062, 0.9940499479838188, 0.8243876282828175, 0.05136887734023587, 0.09528098216334072, 0.028170029509161604, 0.9961497076733864, 0.9979837973494808, 0.9978005316083742, 0.9928946861572678, 0.9967814684075234, 0.9994852470698283, 0.9932299045731849, 0.4334085933899095, 0.5665269470739531, 0.9903856678039619, 0.9968164600526873, 0.9980081794952649, 0.9983788938590269, 0.37316408520305466, 0.5366989367206124, 0.09018466076335907, 0.9975272376661268, 0.997520630057129, 0.9964476420183311, 0.6796550642345814, 0.3201405538752017, 0.6944089223640388, 0.30532376742076417, 0.00018013201617744198, 0.9931681258604399, 0.14012846186195005, 0.22659070428740857, 0.5575323908124395, 0.07751787251937663, 0.9916841254813091, 0.9959982431001788, 0.7642161372498941, 0.1037165715452244, 0.11118587196514797, 0.020273815425506825, 0.00042681716685277527, 0.9892072020951129, 0.9863785840286304, 0.9957630962500486, 0.27054345356449006, 0.1890895105558264, 0.42472413140231774, 0.11490824103007911, 0.9948328413746887, 0.9945027801228974, 0.9969145945329189, 0.9943308063302911, 0.9965668876694551, 0.9955176720906397, 0.8505800410458811, 0.14721577633486405, 0.9965084871198915, 0.9976631642466914, 0.992670291741097, 0.9981399447200093, 0.9977207874254216, 0.9936948878250481, 0.9735792420462243, 0.025070710095610925, 0.9981152193056617, 0.9987600418744368, 0.8195089634334197, 0.1282313469391451, 0.052073643427064, 0.9934777523863819, 0.9967821116715564, 0.9956325105748525, 0.9844919234433313, 0.008369750677520351, 0.006277313008140262, 0.9955816616283689, 0.9520546197195695, 0.04665961118542207, 0.9980454391127228, 0.9903223994710706, 0.9900065132918386, 0.9970146039195018, 0.995493879835664, 0.9947299696197721, 0.9899638882793605, 0.9933186837116558, 0.9950147293899205, 0.9926503925460592, 0.9943624589367673, 0.028597341536707926, 0.0015281022195187443, 0.8522444378573111, 0.1174455705858692, 0.04682511714608024, 0.20193331769247103, 0.4814207356581374, 0.2677811386791464, 0.989921945411081, 0.9943823441726626, 0.983113944855372, 0.28596027833910276, 0.7090247997175014, 0.9897364239205902, 0.24079084564065345, 0.757818905061955, 0.9934676671079102, 0.9946422975532834, 0.9986026700134076, 0.8848820324780129, 0.10266587117148217, 0.012222127520414542, 0.997139923407968, 0.9925858213788539, 0.997906695514057, 0.9926479467388556, 0.9977148180311852, 0.9975758578077867, 0.9742666701436803, 0.025443951907791224, 0.9975230831542881, 0.9895386344705565, 0.9895252875838232, 0.9946043836535161, 0.8437946518012327, 0.1557417125914121, 0.9936685763202608, 0.9929692689919144, 0.6442325250842625, 0.3019097073273112, 0.007131725369936485, 0.046186411919588666, 0.9968803622778815, 0.8987552667098505, 0.10012978139183569, 0.9953531397631386, 0.994774859978762, 0.7603767913789913, 0.14335235164336108, 0.043615033162185915, 0.052594598813224196, 0.9924594017281709, 0.9976569003564706, 0.7385943075242417, 0.2599234322646286, 0.9881031795356336, 0.9993716244915584, 0.1480426645805901, 0.8514872211171196, 0.9915856598243713, 0.99918116540307, 0.9973841094324171, 0.994542502603464, 0.999014586480442, 0.9885898623042961, 0.9943918684988056, 0.9973031160133818, 0.15034750850933606, 0.8477425781008348, 0.9986386024974875, 0.93894898498012, 0.03747230840855667, 0.022483385045134002, 0.5453834989454255, 0.38147680033188053, 0.025373456902808567, 0.047538775576526394, 0.9941649026096642, 0.029732137289333726, 0.8361037395303544, 0.0900973857252537, 0.04324674514812178, 0.9978918268355493, 0.875109403175667, 0.12277431296687644, 0.0019922809406389685, 0.9620892791448409, 0.037871269279283436, 0.29626814921974925, 0.11816802134909847, 0.20410840051207918, 0.006502068160357093, 0.3717486796030251, 0.0031096847723446966, 0.9907110954425494, 0.9984241922859982], \"Term\": [\"accelerator\", \"accept\", \"accept\", \"access\", \"access\", \"access\", \"accident\", \"acquire\", \"add\", \"address\", \"adult\", \"adult\", \"advance\", \"advance\", \"advertising\", \"advice\", \"advocate\", \"age\", \"age\", \"age\", \"age\", \"age\", \"agree\", \"aid\", \"air\", \"algorithm\", \"allow\", \"allow\", \"allow\", \"allow\", \"also\", \"also\", \"also\", \"also\", \"also\", \"also\", \"amendment\", \"american\", \"american\", \"american\", \"animal\", \"announce\", \"anyway\", \"anywhere\", \"apple\", \"application\", \"application\", \"application\", \"appreciate\", \"arab\", \"area\", \"area\", \"area\", \"area\", \"argue\", \"argument\", \"arm\", \"arm\", \"armenian\", \"arrogance\", \"article\", \"article\", \"assist\", \"assumption\", \"assumption\", \"atheist\", \"attack\", \"attitude\", \"audio\", \"author\", \"auto\", \"auto\", \"available\", \"available\", \"available\", \"average\", \"award\", \"ax\", \"back\", \"back\", \"back\", \"bad\", \"bad\", \"bad\", \"ball\", \"base\", \"base\", \"base\", \"baseball\", \"battery\", \"be\", \"beat\", \"beautiful\", \"become\", \"become\", \"become\", \"begin\", \"begin\", \"begin\", \"begin\", \"begin\", \"belief\", \"believe\", \"bend\", \"benefit\", \"benign\", \"bike\", \"biker\", \"bit\", \"bit\", \"bit\", \"black\", \"blank\", \"blanking\", \"blind\", \"block\", \"blood\", \"blood\", \"blow\", \"blow\", \"blue\", \"book\", \"border\", \"box\", \"boy\", \"boy\", \"brain\", \"break\", \"break\", \"brother\", \"btw\", \"build\", \"build\", \"burn\", \"burn\", \"bus\", \"buyer\", \"byte\", \"ca\", \"ca\", \"call\", \"call\", \"call\", \"call\", \"call\", \"can\", \"can\", \"can\", \"canadian\", \"cap\", \"capable\", \"capable\", \"capable\", \"car\", \"card\", \"carry\", \"carry\", \"carry\", \"carry\", \"case\", \"case\", \"case\", \"case\", \"case\", \"case\", \"cause\", \"cause\", \"cause\", \"cause\", \"cd\", \"certain\", \"certain\", \"certainly\", \"channel\", \"character\", \"character\", \"cheap\", \"child\", \"child\", \"child\", \"chip\", \"chip\", \"choose\", \"christian\", \"church\", \"circuit\", \"city\", \"city\", \"civilian\", \"claim\", \"clear\", \"clear\", \"clearly\", \"client\", \"clipper\", \"clock\", \"club\", \"coach\", \"cold\", \"color\", \"com\", \"come\", \"come\", \"come\", \"come\", \"comet\", \"communication\", \"community\", \"community\", \"compare\", \"compare\", \"compare\", \"compatible\", \"compression\", \"compromise\", \"computer\", \"computer\", \"computer\", \"computer\", \"computer\", \"concept\", \"concept\", \"concern\", \"concern\", \"concern\", \"concern\", \"conclusion\", \"condition\", \"condition\", \"condition\", \"condition\", \"condition\", \"condition\", \"conference\", \"configuration\", \"confirm\", \"connect\", \"connect\", \"connection\", \"consistent\", \"consistent\", \"consultation\", \"contain\", \"contain\", \"contain\", \"contest\", \"contradict\", \"contrary\", \"contribute\", \"controller\", \"conversation\", \"convert\", \"convince\", \"cool\", \"cop\", \"copy\", \"corporation\", \"correctly\", \"cost\", \"cost\", \"cost\", \"could\", \"could\", \"could\", \"could\", \"country\", \"country\", \"cover\", \"cover\", \"cover\", \"cover\", \"cpu\", \"crash\", \"create\", \"create\", \"create\", \"create\", \"crime\", \"crime\", \"criminal\", \"criminal\", \"cross\", \"cry\", \"cure\", \"currently\", \"cycle\", \"damage\", \"dangerous\", \"datum\", \"datum\", \"daughter\", \"dealer\", \"dealer\", \"death\", \"death\", \"death\", \"decade\", \"decent\", \"default\", \"defense\", \"define\", \"define\", \"define\", \"degree\", \"degree\", \"deliver\", \"dept\", \"describe\", \"describe\", \"describe\", \"design\", \"design\", \"detail\", \"detail\", \"detailed\", \"detect\", \"development\", \"device\", \"devil\", \"di_di\", \"diagnose\", \"diagnosis\", \"die\", \"die\", \"differential\", \"digital\", \"direct\", \"direction\", \"disclaimer\", \"discussion\", \"discussion\", \"discussion\", \"disease\", \"disk\", \"display\", \"distance\", \"distant\", \"distribution\", \"distribution_usa\", \"division\", \"division\", \"dn\", \"doctor\", \"door\", \"dream\", \"drink\", \"drive\", \"driver\", \"driver\", \"drop\", \"drug\", \"drug\", \"due\", \"due\", \"due\", \"due\", \"due\", \"earth\", \"earth\", \"eat\", \"echo\", \"economic\", \"edge\", \"education\", \"educational\", \"eeg\", \"effect\", \"effect\", \"effect\", \"effect\", \"egg\", \"electronic\", \"element\", \"email\", \"encrypt\", \"encryption\", \"energy\", \"engine\", \"enjoyable\", \"ensure\", \"entry\", \"environment\", \"environment\", \"environment\", \"environment\", \"equipment\", \"equipment\", \"error\", \"error\", \"error\", \"escape\", \"essentially\", \"este\", \"estimate\", \"ethnic\", \"even\", \"even\", \"even\", \"even\", \"ever\", \"ever\", \"ever\", \"evidence\", \"evidence\", \"evil\", \"exactly\", \"exactly\", \"exactly\", \"exactly\", \"examine\", \"examine\", \"exist\", \"exist\", \"exist\", \"existence\", \"expansion\", \"expensive\", \"explain\", \"explain\", \"explicitly\", \"export\", \"external\", \"extra\", \"extra\", \"extra\", \"extremely\", \"eye\", \"eye\", \"fact\", \"fact\", \"fact\", \"fair\", \"faith\", \"family\", \"fan\", \"faq\", \"farin\", \"fast\", \"fast\", \"fast\", \"father\", \"fax\", \"federal\", \"few\", \"field\", \"fight\", \"fight\", \"file\", \"file\", \"film\", \"final\", \"final\", \"final\", \"final\", \"finish\", \"fire\", \"fire\", \"fire\", \"firearm\", \"firm\", \"firm\", \"first\", \"first\", \"first\", \"first\", \"first\", \"flight\", \"floor\", \"fold\", \"folk\", \"font\", \"food\", \"fool\", \"foot\", \"force\", \"force\", \"force\", \"frame\", \"freenet\", \"friend\", \"friend\", \"fuel\", \"fuel\", \"fun\", \"function\", \"funny\", \"game\", \"gang\", \"gas\", \"gay\", \"generate\", \"get\", \"get\", \"get\", \"gift\", \"girl\", \"give\", \"give\", \"give\", \"give\", \"give\", \"glock\", \"go\", \"go\", \"go\", \"goal\", \"goal\", \"god\", \"gold\", \"good\", \"good\", \"good\", \"government\", \"government\", \"graphic\", \"great\", \"great\", \"great\", \"great\", \"great\", \"greek\", \"ground\", \"ground\", \"group\", \"guess\", \"guilty\", \"gun\", \"hardware\", \"have\", \"head\", \"head\", \"head\", \"head\", \"headache\", \"health\", \"hear\", \"hear\", \"helmet\", \"hide\", \"high\", \"high\", \"high\", \"high\", \"hint\", \"history\", \"history\", \"history\", \"history\", \"hit\", \"hockey\", \"hole\", \"homosexual\", \"honor\", \"horse\", \"host\", \"host\", \"hot\", \"house\", \"ice\", \"icon\", \"ide\", \"ill\", \"illegal\", \"image\", \"imho\", \"immediate\", \"impact\", \"implementation\", \"imply\", \"include\", \"include\", \"include\", \"include\", \"indeed\", \"info\", \"information\", \"information\", \"inhabitant\", \"injury\", \"input\", \"insert\", \"instal\", \"insurance\", \"insurance\", \"interested\", \"interested\", \"interface\", \"internal\", \"internet\", \"interpretation\", \"investigation\", \"islamic\", \"islander\", \"israeli\", \"issue\", \"issue\", \"issue\", \"issue\", \"issue\", \"issue\", \"issue\", \"item\", \"jewish\", \"judge\", \"jumper\", \"jungle\", \"justify\", \"keep\", \"keep\", \"keep\", \"key\", \"keyboard\", \"kid\", \"kill\", \"kill\", \"king\", \"knife\", \"know\", \"know\", \"laboratory\", \"laboratory\", \"language\", \"large\", \"large\", \"large\", \"last\", \"last\", \"last\", \"last\", \"laugh\", \"launch\", \"law\", \"law\", \"law\", \"lead\", \"lead\", \"lead\", \"lead\", \"lead\", \"lebanese\", \"leg\", \"level\", \"level\", \"level\", \"liar\", \"library\", \"life\", \"life\", \"light\", \"light\", \"like\", \"line\", \"line\", \"link\", \"list\", \"list\", \"list\", \"little\", \"little\", \"live\", \"live\", \"live\", \"localtalk\", \"logic\", \"look\", \"look\", \"lose\", \"lose\", \"lose\", \"lose\", \"lot\", \"low\", \"low\", \"low\", \"low\", \"lunar\", \"luxury\", \"mac\", \"machine\", \"machine\", \"mail\", \"make\", \"make\", \"make\", \"male\", \"man\", \"man\", \"man\", \"manage\", \"management\", \"manufacture\", \"manufacturer\", \"many\", \"many\", \"many\", \"many\", \"map\", \"market\", \"marriage\", \"mass\", \"master\", \"material\", \"matter\", \"max\", \"maxtor\", \"may\", \"may\", \"may\", \"may\", \"may\", \"maybe\", \"mean\", \"mean\", \"mean\", \"mechanic\", \"medical\", \"medium\", \"member\", \"member\", \"memory\", \"message\", \"message\", \"message\", \"message\", \"metal\", \"method\", \"method\", \"method\", \"method\", \"mhz\", \"mid\", \"mid\", \"migraine\", \"mile\", \"military\", \"military\", \"militia\", \"mind\", \"mine\", \"minor\", \"minority\", \"miracle\", \"mirror\", \"mission\", \"mission\", \"mode\", \"mode\", \"model\", \"model\", \"modem\", \"money\", \"money\", \"monitor\", \"moon\", \"morality\", \"motif\", \"motorcycle\", \"mount\", \"mouse\", \"msg\", \"much\", \"much\", \"much\", \"murder\", \"must\", \"must\", \"name\", \"name\", \"name\", \"name\", \"national\", \"national\", \"national_capital\", \"nature\", \"necessarilly\", \"necessarily\", \"necessarily\", \"necessarily\", \"necessarily\", \"necessary\", \"necessary\", \"necessary\", \"necessary\", \"necessary\", \"nee\", \"need\", \"need\", \"need\", \"need\", \"need\", \"negative\", \"network\", \"network\", \"neurologist\", \"neutral\", \"new\", \"new\", \"new\", \"news\", \"news\", \"news\", \"newspaper\", \"next\", \"next\", \"next\", \"next\", \"nice\", \"nntp_poste\", \"nntp_posting\", \"noise\", \"northern\", \"note\", \"note\", \"note\", \"note\", \"note\", \"number\", \"number\", \"number\", \"number\", \"number\", \"object\", \"objective\", \"observation\", \"occupant\", \"offense\", \"offer\", \"offer\", \"offer\", \"offer\", \"official\", \"official\", \"oil\", \"operate\", \"opponent\", \"optional\", \"orbit\", \"order\", \"order\", \"order\", \"order\", \"organization\", \"organization\", \"organization\", \"original\", \"original\", \"original\", \"original\", \"originator\", \"originator\", \"overall\", \"overall\", \"own\", \"owner\", \"owner\", \"package\", \"pad\", \"page\", \"page\", \"pain\", \"park\", \"part\", \"part\", \"part\", \"part\", \"part\", \"past\", \"patent\", \"patient\", \"pattern\", \"pc\", \"pen\", \"penalty\", \"penguin\", \"people\", \"people\", \"people\", \"performance\", \"performance\", \"period\", \"permit\", \"person\", \"person\", \"person\", \"personally\", \"pgp\", \"physical\", \"pick\", \"pick\", \"pick\", \"picture\", \"pin\", \"pitch\", \"pitcher\", \"place\", \"place\", \"place\", \"place\", \"plane\", \"planet\", \"play\", \"player\", \"playoff\", \"point\", \"point\", \"point\", \"point\", \"police\", \"police\", \"population\", \"port\", \"possible\", \"possible\", \"post\", \"post\", \"post\", \"post\", \"pot\", \"pound\", \"pound\", \"power\", \"power\", \"power\", \"power\", \"practice\", \"prayer\", \"predict\", \"prediction\", \"president\", \"press\", \"pretty\", \"price\", \"price\", \"price\", \"price\", \"primarily\", \"primarily\", \"principle\", \"printer\", \"privacy\", \"private\", \"prize\", \"pro\", \"pro\", \"probability\", \"probably\", \"probably\", \"probably\", \"problem\", \"problem\", \"problem\", \"problem\", \"processor\", \"professional\", \"program\", \"program\", \"program\", \"promise\", \"proposal\", \"protect\", \"protect\", \"protect\", \"prove\", \"provide\", \"provide\", \"provide\", \"provide\", \"public\", \"public\", \"public\", \"publish\", \"pull\", \"purchase\", \"purchase\", \"purchase\", \"purpose\", \"purpose\", \"purpose\", \"put\", \"put\", \"put\", \"quality\", \"question\", \"question\", \"question\", \"question\", \"race\", \"race\", \"race\", \"ram\", \"random\", \"rate\", \"rate\", \"rate\", \"rate\", \"rational\", \"react\", \"realistic\", \"reality\", \"really\", \"really\", \"reason\", \"receive\", \"receive\", \"receive\", \"recent\", \"recent\", \"recent\", \"recent\", \"recent\", \"recommend\", \"registration\", \"release\", \"relevant\", \"religion\", \"religious\", \"remind\", \"remove\", \"replace\", \"report\", \"request\", \"request\", \"require\", \"require\", \"research\", \"research\", \"research\", \"researcher\", \"resolution\", \"respect\", \"restraint\", \"return\", \"return\", \"return\", \"revelation\", \"review\", \"revolver\", \"ride\", \"ride\", \"rider\", \"right\", \"right\", \"right\", \"right\", \"right\", \"ripem\", \"risk\", \"risk\", \"risk\", \"rock\", \"role\", \"route\", \"routine\", \"rsa\", \"rule\", \"run\", \"run\", \"run\", \"run\", \"run\", \"rush\", \"s\", \"s\", \"safety\", \"safety\", \"sale\", \"sale\", \"sample\", \"sample\", \"satellite\", \"saturn\", \"say\", \"say\", \"say\", \"scan\", \"scan\", \"scare\", \"schedule\", \"schedule\", \"schedule\", \"scheme\", \"science\", \"scientific\", \"scientist\", \"score\", \"screen\", \"scsi\", \"season\", \"seat\", \"seat\", \"secret\", \"section\", \"secure\", \"security\", \"see\", \"see\", \"see\", \"select\", \"seller\", \"send\", \"send\", \"send\", \"sense\", \"sensitive\", \"sequence\", \"serious\", \"serious\", \"serious\", \"server\", \"service\", \"service\", \"service\", \"set\", \"set\", \"set\", \"set\", \"set\", \"setup\", \"sex\", \"shall\", \"shall\", \"shape\", \"shell\", \"shipping\", \"shoot\", \"shoot\", \"shot\", \"should\", \"shuttle\", \"sight\", \"signal\", \"sin\", \"single\", \"single\", \"single\", \"single\", \"sink\", \"site\", \"sky\", \"slave\", \"slightly\", \"slip\", \"slow\", \"slow\", \"smoke\", \"society\", \"software\", \"solar\", \"soldier\", \"solution\", \"solution\", \"somehow\", \"son\", \"son\", \"sorry\", \"soul\", \"sound\", \"sound\", \"sound\", \"sound\", \"source\", \"source\", \"source\", \"source\", \"source\", \"source\", \"space\", \"space\", \"space\", \"special\", \"specifically\", \"specification\", \"specifie\", \"specify\", \"speed\", \"speed\", \"sphere\", \"spring\", \"standard\", \"standard\", \"star\", \"stat\", \"state\", \"state\", \"state\", \"state\", \"state\", \"state\", \"state\", \"statement\", \"statistic\", \"status\", \"steal\", \"step\", \"step\", \"stick\", \"still\", \"still\", \"still\", \"still\", \"stock\", \"stop\", \"stop\", \"stop\", \"stop\", \"stop\", \"storage\", \"straightforward\", \"strange\", \"strange\", \"string\", \"struggle\", \"student\", \"student\", \"student\", \"study\", \"study\", \"study\", \"support\", \"support\", \"support\", \"sure\", \"sure\", \"surgery\", \"surrender\", \"surveillance\", \"switch\", \"syndrome\", \"system\", \"table\", \"table\", \"table\", \"take\", \"take\", \"take\", \"talent\", \"talk\", \"talk\", \"talk\", \"talk\", \"tank\", \"tap\", \"tape\", \"taste\", \"tax\", \"team\", \"technique\", \"technology\", \"technology\", \"telephone\", \"terrorism\", \"terrorist\", \"test\", \"thank\", \"thank\", \"thank\", \"theory\", \"there\", \"therefore\", \"thing\", \"thing\", \"think\", \"think\", \"think\", \"thinking\", \"throw\", \"throw\", \"throw\", \"throw\", \"ticket\", \"tie\", \"time\", \"time\", \"time\", \"time\", \"time\", \"timer\", \"tire\", \"title\", \"today\", \"today\", \"today\", \"today\", \"tomorrow\", \"tongue\", \"tool\", \"topic\", \"town\", \"trace\", \"trade\", \"trade\", \"transfer\", \"translation\", \"travel\", \"treatment\", \"trial\", \"truck\", \"true\", \"true\", \"trust\", \"truth\", \"try\", \"try\", \"try\", \"tube\", \"tumor\", \"turkish\", \"turn\", \"turn\", \"turn\", \"tv\", \"type\", \"type\", \"understand\", \"univ\", \"universe\", \"university\", \"unix\", \"unlikely\", \"unusual\", \"up\", \"update\", \"upgrade\", \"usage\", \"use\", \"use\", \"use\", \"use\", \"user\", \"user\", \"user\", \"user\", \"utility\", \"variable\", \"vat\", \"vehicle\", \"vehicle\", \"velocity\", \"version\", \"version\", \"vertical\", \"victim\", \"video\", \"view\", \"view\", \"view\", \"village\", \"violence\", \"visit\", \"voltage\", \"vote\", \"wait\", \"want\", \"want\", \"war\", \"warning\", \"warrant\", \"waste\", \"watch\", \"watch\", \"water\", \"wave\", \"way\", \"way\", \"way\", \"way\", \"weapon\", \"week\", \"week\", \"weekend\", \"welcome\", \"well\", \"well\", \"well\", \"well\", \"western\", \"white\", \"whole\", \"whole\", \"wide_range\", \"will\", \"win\", \"win\", \"wind\", \"window\", \"wing\", \"winner\", \"wire\", \"wisdom\", \"wise\", \"withdraw\", \"woman\", \"woman\", \"wonder\", \"word\", \"word\", \"word\", \"work\", \"work\", \"work\", \"work\", \"workstation\", \"world\", \"world\", \"world\", \"world\", \"worth\", \"would\", \"would\", \"would\", \"write\", \"write\", \"year\", \"year\", \"year\", \"year\", \"year\", \"year\", \"yesterday\", \"young\"]}, \"R\": 30, \"lambda.step\": 0.01, \"plot.opts\": {\"xlab\": \"PC1\", \"ylab\": \"PC2\"}, \"topic.order\": [14, 8, 18, 6, 10, 7, 20, 9, 19, 2, 13, 3, 17, 11, 4, 15, 5, 12, 1, 16]};\n",
              "\n",
              "function LDAvis_load_lib(url, callback){\n",
              "  var s = document.createElement('script');\n",
              "  s.src = url;\n",
              "  s.async = true;\n",
              "  s.onreadystatechange = s.onload = callback;\n",
              "  s.onerror = function(){console.warn(\"failed to load library \" + url);};\n",
              "  document.getElementsByTagName(\"head\")[0].appendChild(s);\n",
              "}\n",
              "\n",
              "if(typeof(LDAvis) !== \"undefined\"){\n",
              "   // already loaded: just create the visualization\n",
              "   !function(LDAvis){\n",
              "       new LDAvis(\"#\" + \"ldavis_el1011399006585716882110481524\", ldavis_el1011399006585716882110481524_data);\n",
              "   }(LDAvis);\n",
              "}else if(typeof define === \"function\" && define.amd){\n",
              "   // require.js is available: use it to load d3/LDAvis\n",
              "   require.config({paths: {d3: \"https://cdnjs.cloudflare.com/ajax/libs/d3/3.5.5/d3.min\"}});\n",
              "   require([\"d3\"], function(d3){\n",
              "      window.d3 = d3;\n",
              "      LDAvis_load_lib(\"https://cdn.rawgit.com/bmabey/pyLDAvis/files/ldavis.v1.0.0.js\", function(){\n",
              "        new LDAvis(\"#\" + \"ldavis_el1011399006585716882110481524\", ldavis_el1011399006585716882110481524_data);\n",
              "      });\n",
              "    });\n",
              "}else{\n",
              "    // require.js not available: dynamically load d3 & LDAvis\n",
              "    LDAvis_load_lib(\"https://cdnjs.cloudflare.com/ajax/libs/d3/3.5.5/d3.min.js\", function(){\n",
              "         LDAvis_load_lib(\"https://cdn.rawgit.com/bmabey/pyLDAvis/files/ldavis.v1.0.0.js\", function(){\n",
              "                 new LDAvis(\"#\" + \"ldavis_el1011399006585716882110481524\", ldavis_el1011399006585716882110481524_data);\n",
              "            })\n",
              "         });\n",
              "}\n",
              "</script>"
            ],
            "text/plain": [
              "PreparedData(topic_coordinates=              x         y  topics  cluster       Freq\n",
              "topic                                                \n",
              "13    -0.338669  0.015796       1        1  24.176512\n",
              "7     -0.310567 -0.102100       2        1  15.732315\n",
              "17    -0.229565  0.076606       3        1  12.436148\n",
              "5     -0.141122 -0.192237       4        1   5.440736\n",
              "9     -0.050184  0.253832       5        1   4.782150\n",
              "6     -0.022137  0.285923       6        1   3.871382\n",
              "19     0.020468 -0.012451       7        1   3.304307\n",
              "8      0.040421 -0.000910       8        1   3.246518\n",
              "18    -0.051648 -0.014667       9        1   3.241520\n",
              "1      0.023227 -0.129377      10        1   3.160993\n",
              "12     0.062991  0.064509      11        1   2.908451\n",
              "2      0.114234 -0.004344      12        1   2.657395\n",
              "16     0.055799 -0.140821      13        1   2.352573\n",
              "10     0.111583 -0.040583      14        1   2.160116\n",
              "3      0.126659  0.020938      15        1   2.000265\n",
              "14     0.095925 -0.076023      16        1   1.896512\n",
              "4      0.131737  0.017561      17        1   1.752224\n",
              "11     0.108807  0.029945      18        1   1.742727\n",
              "0      0.121669 -0.036706      19        1   1.632574\n",
              "15     0.130373 -0.014892      20        1   1.504580, topic_info=           Term          Freq         Total Category  logprob  loglift\n",
              "19         line  11975.000000  11975.000000  Default  30.0000  30.0000\n",
              "197       write  10060.000000  10060.000000  Default  29.0000  29.0000\n",
              "174       would  12046.000000  12046.000000  Default  28.0000  28.0000\n",
              "139      people   5647.000000   5647.000000  Default  27.0000  27.0000\n",
              "177     article   6479.000000   6479.000000  Default  26.0000  26.0000\n",
              "...         ...           ...           ...      ...      ...      ...\n",
              "3369       seat    121.909388    145.088801  Topic20  -4.9370   4.0226\n",
              "756    purchase    167.236169    311.115678  Topic20  -4.6209   3.5759\n",
              "521        lead    254.019586    862.109195  Topic20  -4.2029   2.9747\n",
              "205   condition    153.883144    421.631829  Topic20  -4.7041   3.1887\n",
              "989        stop    136.938847    898.957834  Topic20  -4.8208   2.3150\n",
              "\n",
              "[944 rows x 6 columns], token_table=      Topic      Freq         Term\n",
              "term                              \n",
              "4621      6  0.991740  accelerator\n",
              "1211      6  0.015122       accept\n",
              "1211     10  0.984279       accept\n",
              "81        3  0.007224       access\n",
              "81        6  0.384677       access\n",
              "...     ...       ...          ...\n",
              "40        8  0.006502         year\n",
              "40        9  0.371749         year\n",
              "40       16  0.003110         year\n",
              "720       9  0.990711    yesterday\n",
              "570      14  0.998424        young\n",
              "\n",
              "[1420 rows x 3 columns], R=30, lambda_step=0.01, plot_opts={'xlab': 'PC1', 'ylab': 'PC2'}, topic_order=[14, 8, 18, 6, 10, 7, 20, 9, 19, 2, 13, 3, 17, 11, 4, 15, 5, 12, 1, 16])"
            ]
          },
          "metadata": {
            "tags": []
          },
          "execution_count": 45
        }
      ]
    }
  ]
}